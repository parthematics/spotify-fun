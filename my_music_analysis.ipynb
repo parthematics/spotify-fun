{
 "cells": [
  {
   "cell_type": "code",
   "execution_count": 132,
   "metadata": {},
   "outputs": [],
   "source": [
    "import json\n",
    "import requests\n",
    "import six\n",
    "import six.moves.urllib.parse as urllibparse\n",
    "import pandas as pd\n",
    "import matplotlib\n",
    "import pyperclip as cp\n",
    "import heapq\n",
    "import base64\n",
    "\n",
    "%matplotlib inline\n",
    "import matplotlib.pyplot as plt"
   ]
  },
  {
   "cell_type": "code",
   "execution_count": 51,
   "metadata": {},
   "outputs": [],
   "source": [
    "def get_auth_code(url):\n",
    "    start = url.index('?')\n",
    "    end = url.index('&')\n",
    "    code = url[start + 6:end]\n",
    "    return code\n",
    "\n",
    "def create_auth_header(client_id, client_secret):\n",
    "    auth_header = base64.b64encode(six.text_type(client_id + ':' + client_secret).encode('ascii'))\n",
    "    return {'Authorization': 'Basic %s' % auth_header.decode('ascii')}"
   ]
  },
  {
   "cell_type": "code",
   "execution_count": 52,
   "metadata": {},
   "outputs": [
    {
     "name": "stdout",
     "output_type": "stream",
     "text": [
      "https://accounts.spotify.com/login?continue=https%3A%2F%2Faccounts.spotify.com%2Fauthorize%3Fclient_id%3De88d92c779fb4f2baf5f69a919db89ec%26response_type%3Dcode%26redirect_uri%3Dhttps%253A%252F%252Fexample.com%252Fcallback%252F%26state%3Dilovetocodelol%26scope%3Duser-top-read%2Buser-read-recently-played%2Buser-library-read%2Buser-library-modify%2Buser-read-playback-state%2Buser-read-currently-playing%2Buser-modify-playback-state%26show_dialog%3Dfalse\n"
     ]
    }
   ],
   "source": [
    "username = 'deeaw2ybwljjvzzv7sftosnqi'\n",
    "scope = \"user-top-read user-read-recently-played user-library-read user-library-modify user-read-playback-state user-read-currently-playing user-modify-playback-state\"\n",
    "client_id = 'e88d92c779fb4f2baf5f69a919db89ec'\n",
    "client_secret = 'e27b14511a554ea58a2b42d3b6ef5b15'\n",
    "redirect_uri = 'https://example.com/callback/'\n",
    "state = 'ilovetocodelol'\n",
    "\n",
    "auth_code_url = \"https://accounts.spotify.com/authorize\"\n",
    "auth_code_dict = {\"client_id\": client_id, \"response_type\": \"code\", \"redirect_uri\": redirect_uri, \"state\": state, \"scope\": scope, \"show_dialog\": \"false\"}\n",
    "\n",
    "auth_code_params = urllibparse.urlencode(auth_code_dict)\n",
    "                    \n",
    "get_response = requests.get(auth_code_url, params=auth_code_params)\n",
    "if get_response.status_code != 200:\n",
    "    print(\"Error:\", get_response.reason)\n",
    "    \n",
    "print(get_response.url)"
   ]
  },
  {
   "cell_type": "code",
   "execution_count": 54,
   "metadata": {},
   "outputs": [
    {
     "name": "stdout",
     "output_type": "stream",
     "text": [
      "BQBIH630pFnDb4bPMIBPlCspYdSqqANSF6irT6Sz6GoELlOW4P40f70_APk7_GClfhS7GLwm3KGd5hxmKZBiWKNWP5IaUnIK3wmayDzidRogzxPehguy-t6ZHhuIXyihUzLfy1E9MsZ7G8NV7ujgDz9tnnnFFEYCDNAZ6CzXJls1ZKiPd2qMQzmfkXIjxIUzYehi3ur9Lg\n"
     ]
    }
   ],
   "source": [
    "token_url = \"https://accounts.spotify.com/api/token\"\n",
    "get_response_url = \"https://example.com/callback/?code=AQCCf75fqJ9hrDKTvjBgm3WrWuBF_owAMgsuLF0dEo7YbG4I46XU5XoQQHzI01uXe_uo2W1IcLhoOELTSy0yx-exkTS-Swqz3ICOoWoTyn_s_PZZdgSmwVJom5yxO6a2Zdk8ldB5HiUvvwc7SzfWA6_9UVEyO5n_v8_MpDHhFDk2gqXm0w6ukoPI5Rkih8sW9-fr8n375_xr82h3sAVpMnkd-4zLIVLlE0485loTiMeoUCzQliLqisPadnPrM6FvmM3UlUlM-akiRKGDz-2_OmQVctSoD755HjO2cd0emLKgu4zotCsr_c5mepXfa9sBFhGO33fNk5EiK8etn-HcW0yZqYpMIvIR9lIEUHT-2AjgpQxm2Xkwu5o6J4EBU0mm9eJRnxZwcdMwRxLE0-zcRhzbeVCtnxAcD3c&state=ilovetocodelol\"\n",
    "token_data = {\"redirect_uri\": redirect_uri, \"code\": get_auth_code(get_response_url), \"grant_type\": \"authorization_code\", \"scope\": scope}\n",
    "token_headers = create_auth_header(client_id, client_secret)\n",
    "\n",
    "post_response = requests.post(token_url, data=token_data, headers=token_headers)\n",
    "\n",
    "if post_response.status_code != 200:\n",
    "    print(\"Error:\", post_response.reason)\n",
    "\n",
    "ACCESS_TOKEN = json.loads(post_response.text)[\"access_token\"]\n",
    "print(ACCESS_TOKEN)"
   ]
  },
  {
   "cell_type": "code",
   "execution_count": 55,
   "metadata": {},
   "outputs": [
    {
     "name": "stdout",
     "output_type": "stream",
     "text": [
      "Number of songs: 822\n"
     ]
    }
   ],
   "source": [
    "url = \"https://api.spotify.com/v1/me/tracks\"\n",
    "headers = {'Authorization': \"Bearer {}\".format(ACCESS_TOKEN)}\n",
    "tracks = requests.get(url, headers=headers)\n",
    "parsed = json.loads(tracks.text)\n",
    "cp.copy(tracks.text)\n",
    "\n",
    "count_songs = parsed[\"total\"]\n",
    "print(\"Number of songs: {}\".format(count_songs))"
   ]
  },
  {
   "cell_type": "code",
   "execution_count": 56,
   "metadata": {},
   "outputs": [
    {
     "name": "stdout",
     "output_type": "stream",
     "text": [
      "No responses failed.\n",
      "Number of gathered songs: 822\n"
     ]
    }
   ],
   "source": [
    "all_songs = []\n",
    "\n",
    "for i in range(int(ceil(count_songs/50.0))):\n",
    "    offset = 50*i\n",
    "    url = \"https://api.spotify.com/v1/me/tracks?limit=50&offset={}\".format(offset)\n",
    "    track_headers = {'Authorization': \"Bearer {}\".format(ACCESS_TOKEN)}\n",
    "    tracks = requests.get(url, headers=track_headers)\n",
    "    cp.copy(tracks.text)\n",
    "    parsed = json.loads(tracks.text)\n",
    "\n",
    "    all_songs.extend(parsed['items'])\n",
    "    \n",
    "try:\n",
    "    if (len(all_songs) == count_songs):\n",
    "        print(\"No responses failed.\")\n",
    "except:\n",
    "    print(\"Response from API failed.\")\n",
    "    \n",
    "print(\"Number of gathered songs: {}\".format(len(all_songs)))"
   ]
  },
  {
   "cell_type": "code",
   "execution_count": 57,
   "metadata": {},
   "outputs": [
    {
     "name": "stdout",
     "output_type": "stream",
     "text": [
      "Total songs: 822\n",
      "Total songs under 5 minutes: 737\n"
     ]
    }
   ],
   "source": [
    "songs_all = [(all_songs[i]['track']['popularity'], all_songs[i]['track']['name']) for i in range(len(all_songs))]\n",
    "songs_under_5 = [(all_songs[i]['track']['popularity'], all_songs[i]['track']['name']) for i in range(len(all_songs)) if all_songs[i]['track']['duration_ms'] <= 300000]    \n",
    "album_ids = {(all_songs[i]['track']['album']['name'], all_songs[i]['track']['album']['id']) \n",
    "             for i in range(len(all_songs))}\n",
    "\n",
    "print(\"Total songs:\", len(songs_all))\n",
    "print(\"Total songs under 5 minutes:\", len(songs_under_5))"
   ]
  },
  {
   "cell_type": "code",
   "execution_count": 80,
   "metadata": {},
   "outputs": [
    {
     "name": "stdout",
     "output_type": "stream",
     "text": [
      "('Flyaway', 0)\n",
      "('High for This', 0)\n",
      "('Might Not', 0)\n",
      "('Nonchalant', 0)\n",
      "('Starboy', 0)\n",
      "('What You Need', 0)\n",
      "('10AM/Save The World (feat. Gucci Mane)', 1)\n",
      "('Lesbian (feat. Gunna & Young Thug)', 1)\n",
      "('Only 1 (Interlude) (with Travis Scott)', 1)\n",
      "('Up To Something (feat. Travis Scott & Young Thug)', 1)\n"
     ]
    }
   ],
   "source": [
    "largest = heapq.nsmallest(10, songs_under_5)\n",
    "largest = [(key, value) for value, key in largest]\n",
    "for song in largest:\n",
    "    print(song)"
   ]
  },
  {
   "cell_type": "code",
   "execution_count": 85,
   "metadata": {},
   "outputs": [
    {
     "name": "stdout",
     "output_type": "stream",
     "text": [
      "('ASTROWORLD', '41GuZcammIkupMPKH2OJ6I')\n",
      "('!', '4YEhTvqsptB5D1n095QL5r')\n",
      "('Snow White', '6tvVlwo0u8wBCmRvLCJIXQ')\n",
      "('Suncity', '4UNwL1B7JoymNUiTFJa52B')\n",
      "('Blank Face LP', '0YbpATCIng8Fz2JrfHmEf7')\n",
      "('DAMN.', '4eLPsYPBmXABThSJ821sqY')\n",
      "('Una Mattina', '4aSt14A98gEpCUpKecrl4V')\n",
      "('Walking On A Dream', '04gYcIojJt78nYnN5oOrKt')\n",
      "('Black Panther The Album Music From And Inspired By', '3pLdWdkj83EYfDN6H2N8MR')\n",
      "('Marie Curie', '4m99RhYGgvz4CYOtVtXTaz')\n"
     ]
    }
   ],
   "source": [
    "count = 0\n",
    "for item in album_ids:\n",
    "    if (count < 10):\n",
    "        print(item)\n",
    "        count += 1\n",
    "    else:\n",
    "        break"
   ]
  },
  {
   "cell_type": "code",
   "execution_count": 95,
   "metadata": {},
   "outputs": [],
   "source": [
    "from __future__ import division\n",
    "\n",
    "def get_top_music(type=\"artists\", limit=20, time_range=\"medium_term\", access_token=ACCESS_TOKEN):\n",
    "    url = \"https://api.spotify.com/v1/me/top/\"\n",
    "    if (type == \"artists\"):\n",
    "        url += \"artists\"\n",
    "    else:\n",
    "        url += \"tracks\"\n",
    "    \n",
    "    query_params={\"limit\": str(limit), \"offset\": \"0\", \"time_range\": time_range}\n",
    "    headers = {'Authorization': \"Bearer {}\".format(access_token)}\n",
    "    \n",
    "    top_tracks_and_artists = requests.get(url=url, params=query_params, headers=headers)\n",
    "    parsed = json.loads(top_tracks_and_artists.text)\n",
    "    items = parsed['items']\n",
    "\n",
    "    top_music = []\n",
    "    \n",
    "    if (type == \"artists\"):\n",
    "        for i in range(len(items)):\n",
    "            top_music.append([\"Rank: {}\".format(str(i+1)), items[i]['name'], int(items[i]['followers']['total']), items[i]['images'][0]['url']])\n",
    "    else:\n",
    "        for i in range(len(items)):\n",
    "            current_item = items[i]\n",
    "            artists = current_item['artists']\n",
    "            current_album = current_item['album']\n",
    "            length_of_song = str((current_item['duration_ms'] // 1000) // 60) + \"m \" + str((current_item['duration_ms'] // 1000) % 60) + \"s\"\n",
    "            top_music.append([\"Rank: {}\".format(str(i+1)), current_item['name'], \n",
    "                               [artists[j]['name'] for j in range(len(artists))], \n",
    "                               current_album['name'], length_of_song, current_album['release_date']])\n",
    "    return top_music\n",
    "    "
   ]
  },
  {
   "cell_type": "code",
   "execution_count": 128,
   "metadata": {},
   "outputs": [],
   "source": [
    "def get_top_genres(artist_limit=50, genre_limit=10, time_range=\"medium_term\", access_token=ACCESS_TOKEN):\n",
    "    url = \"https://api.spotify.com/v1/me/top/artists\"\n",
    "    all_genres = {}\n",
    "    \n",
    "    query_params={\"limit\": str(artist_limit), \"offset\": \"0\", \"time_range\": time_range}\n",
    "    headers = {'Authorization': \"Bearer {}\".format(access_token)}\n",
    "    \n",
    "    top_tracks_and_artists = requests.get(url=url, params=query_params, headers=headers)\n",
    "    parsed = json.loads(top_tracks_and_artists.text)\n",
    "    items = parsed['items']\n",
    "    \n",
    "    for i in range(len(items)):\n",
    "        genres = items[i]['genres']\n",
    "        for genre in genres:\n",
    "            if genre not in all_genres.keys():\n",
    "                all_genres[genre] = 1\n",
    "            else:\n",
    "                all_genres[genre] += 1\n",
    "                \n",
    "    heap = [[value, key.upper()] for key, value in all_genres.items()]\n",
    "    largest = heapq.nlargest(genre_limit, heap)\n",
    "        \n",
    "    return largest"
   ]
  },
  {
   "cell_type": "code",
   "execution_count": 129,
   "metadata": {},
   "outputs": [
    {
     "name": "stdout",
     "output_type": "stream",
     "text": [
      "['Rank: 1', 'Drake', 39483151, 'https://i.scdn.co/image/012ecd119617ac24ab56620ace4b81735b172686']\n",
      "['Rank: 2', 'Tory Lanez', 2422139, 'https://i.scdn.co/image/319b5b30148cb0614be70f115b272afc18ea69c7']\n",
      "['Rank: 3', 'Playboi Carti', 2572889, 'https://i.scdn.co/image/d3c4c2a06332c88e967387b38177d17d20e2331b']\n",
      "['Rank: 4', 'NAV', 1501093, 'https://i.scdn.co/image/819c7e7c7126e367b35ff23e0653b1779069128f']\n",
      "['Rank: 5', 'The Weeknd', 16751740, 'https://i.scdn.co/image/a5fa0d35a5070867261d100b879cac028fe96775']\n",
      "['Rank: 6', '6LACK', 1713920, 'https://i.scdn.co/image/b7b33aaeac1367b35d9c74a53fc9cfbd38f79fee']\n",
      "['Rank: 7', 'Travis Scott', 6219496, 'https://i.scdn.co/image/dc5eba5e032c2e5bc4d42c89d61ffee5875c981f']\n",
      "['Rank: 8', 'A$AP Rocky', 5723326, 'https://i.scdn.co/image/cce607c4d975ae49d68b484eaef51a6413fa73b1']\n",
      "['Rank: 9', 'Khalid', 7774624, 'https://i.scdn.co/image/e52c824585bfeef4d674b509437120805300f557']\n",
      "['Rank: 10', 'Future', 7957717, 'https://i.scdn.co/image/d5ac5dc59664cf7c64795271602316dde494a6d1']\n",
      "['Rank: 11', 'XXXTENTACION', 14607686, 'https://i.scdn.co/image/942afa81f0a2298ead0c154fb7b4b606de48d9e6']\n",
      "['Rank: 12', 'Post Malone', 16270527, 'https://i.scdn.co/image/f9d8b742b66609f12da023c472c2685d455930ed']\n",
      "['Rank: 13', '88GLAM', 165971, 'https://i.scdn.co/image/589e9fb1c9041f44d96cf0e1571ce8d6ca176aff']\n",
      "['Rank: 14', 'Jaden', 876458, 'https://i.scdn.co/image/64829357ce5ba7e8e7d1aebf19fbde50a36cf885']\n",
      "['Rank: 15', 'EDEN', 630541, 'https://i.scdn.co/image/e1c162227fc61a168b4f87d0bfff278771e546f0']\n"
     ]
    }
   ],
   "source": [
    "for artist in get_top_music(type=\"artists\", limit=15, time_range=\"long_term\"):\n",
    "    print(artist)"
   ]
  },
  {
   "cell_type": "code",
   "execution_count": 130,
   "metadata": {},
   "outputs": [
    {
     "name": "stdout",
     "output_type": "stream",
     "text": [
      "['Rank: 1', 'Let It Go', ['Playboi Carti'], 'Playboi Carti', '2m 30s', '2017-04-14']\n",
      "['Rank: 2', 'FlatBed Freestyle', ['Playboi Carti'], 'Die Lit', '3m 13s', '2018-05-11']\n",
      "['Rank: 3', 'Call Me', ['NAV', 'Metro Boomin'], 'Perfect Timing', '3m 35s', '2017-07-21']\n",
      "['Rank: 4', 'STARGAZING', ['Travis Scott'], 'ASTROWORLD', '4m 30s', '2018-08-03']\n",
      "['Rank: 5', 'ASTROTHUNDER', ['Travis Scott'], 'ASTROWORLD', '2m 22s', '2018-08-03']\n",
      "['Rank: 6', 'OTW', ['Khalid', '6LACK', 'Ty Dolla $ign'], 'OTW', '4m 23s', '2018-04-20']\n",
      "['Rank: 7', 'No Time (feat. Gunna)', ['Playboi Carti', 'Gunna'], 'Die Lit', '3m 39s', '2018-05-11']\n",
      "['Rank: 8', 'R.I.P. Fredo (feat. Young Nudy) - Notice Me', ['Playboi Carti', 'Young Nudy'], 'Die Lit', '2m 41s', '2018-05-11']\n",
      "['Rank: 9', 'R.I.P.', ['Playboi Carti'], 'Die Lit', '3m 12s', '2018-05-11']\n",
      "['Rank: 10', \"Why DON'T You LOVE me?\", ['Tory Lanez'], 'LoVE me NOw', '3m 32s', '2018-10-26']\n",
      "['Rank: 11', 'MiAMi (feat. Gunna)', ['Tory Lanez', 'Gunna'], 'LoVE me NOw', '4m 4s', '2018-10-26']\n",
      "['Rank: 12', 'Car Sick (feat. NAV & Metro Boomin)', ['Gunna', 'Metro Boomin', 'NAV'], 'Drip Season 3', '3m 39s', '2018-02-02']\n",
      "['Rank: 13', 'FeRRis WhEEL (feat. Trippie Redd)', ['Tory Lanez', 'Trippie Redd'], 'LoVE me NOw', '2m 31s', '2018-10-26']\n",
      "['Rank: 14', '66', ['Lil Yachty', 'Trippie Redd'], 'Lil Boat 2', '2m 33s', '2018-03-09']\n",
      "['Rank: 15', 'Motorcycle Patches', ['Huncho Jack', 'Travis Scott', 'Quavo'], 'Huncho Jack, Jack Huncho', '3m 11s', '2017-12-21']\n"
     ]
    }
   ],
   "source": [
    "for track in get_top_music(type=\"tracks\", limit=15, time_range=\"long_term\"):\n",
    "    print(track)"
   ]
  },
  {
   "cell_type": "code",
   "execution_count": 131,
   "metadata": {},
   "outputs": [
    {
     "name": "stdout",
     "output_type": "stream",
     "text": [
      "[40, 'RAP']\n",
      "[28, 'POP RAP']\n",
      "[28, 'POP']\n",
      "[26, 'TRAP MUSIC']\n",
      "[21, 'HIP HOP']\n",
      "[12, 'SOUTHERN HIP HOP']\n",
      "[9, 'ATL HIP HOP']\n",
      "[6, 'R&B']\n",
      "[6, 'CANADIAN HIP HOP']\n",
      "[4, 'UNDERGROUND HIP HOP']\n",
      "[4, 'TORONTO RAP']\n",
      "[3, 'VAPOR TRAP']\n",
      "[3, 'TRAP SOUL']\n",
      "[3, 'CONSCIOUS HIP HOP']\n",
      "[3, 'CHICAGO RAP']\n"
     ]
    }
   ],
   "source": [
    "for genre in get_top_genres(genre_limit=15, time_range=\"long_term\"):\n",
    "    print(genre)"
   ]
  },
  {
   "cell_type": "code",
   "execution_count": null,
   "metadata": {},
   "outputs": [],
   "source": []
  }
 ],
 "metadata": {
  "kernelspec": {
   "display_name": "Python 3",
   "language": "python",
   "name": "python3"
  },
  "language_info": {
   "codemirror_mode": {
    "name": "ipython",
    "version": 3
   },
   "file_extension": ".py",
   "mimetype": "text/x-python",
   "name": "python",
   "nbconvert_exporter": "python",
   "pygments_lexer": "ipython3",
   "version": "3.7.0"
  }
 },
 "nbformat": 4,
 "nbformat_minor": 2
}
