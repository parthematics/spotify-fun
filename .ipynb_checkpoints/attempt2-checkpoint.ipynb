{
 "cells": [
  {
   "cell_type": "code",
   "execution_count": 6,
   "metadata": {},
   "outputs": [],
   "source": [
    "import json\n",
    "import requests\n",
    "from furl import furl\n",
    "from math import ceil\n",
    "import pandas as pd\n",
    "import matplotlib\n",
    "import pyperclip as cp\n",
    "import pprint\n",
    "import time\n",
    "import heapq\n",
    "\n",
    "%matplotlib inline\n",
    "import matplotlib.pyplot as plt"
   ]
  },
  {
   "cell_type": "code",
   "execution_count": 34,
   "metadata": {},
   "outputs": [],
   "source": [
    "username = 'deeaw2ybwljjvzzv7sftosnqi'\n",
    "scope = \"user-top-read user-read-recently-played user-library-read user-library-modify user-read-playback-state user-read-currently-playing user-modify-playback-state\"\n",
    "client_id = '315d9bb0bc3b4185a32fe17738e40515'\n",
    "client_secret = 'acf052f2d26d49eaa3b9aa341ee37e8f'\n",
    "redirect_uri = 'https://example.com/callback/'\n",
    "\n",
    "def get_authorization_code(url):\n",
    "    start = url.index('?')\n",
    "    code = url[start + 6:]\n",
    "    return code"
   ]
  },
  {
   "cell_type": "code",
   "execution_count": 38,
   "metadata": {},
   "outputs": [
    {
     "name": "stdout",
     "output_type": "stream",
     "text": [
      "CODE: AQCT0osQEXN-ik-kiK97aKEwlZjw4HgUzMxwDm3hF9qIvQ73tuJstxrJWlaGk5WvHnZi4LspDDNez_IReh-ayR5Y-gEZVAQNs35BsPa8zrMWfVB0LVjOUM2e0PSuOZQsOEwUJ504kCgF6V_l-h-gwzoptZsltEIJgsJKJdCG7szxvttb7qF5OrwmMX-mJ1lP8fmja2KfUjR2GIhK7KCjU70SYzoIJ2GKhqeWWp2W_i_sANabD4L0OJUp50NFhAb_MoWijeMitbNVddGfMJx0TQnbtq1UskeGMtE40bPj2kE44GxJgiwDvz7kPe2YarxtOL77NN6CZoKQj05xh_QvH8Ka2-zxWKEigbwK5IIj8CYTqmg5N8c0s99iq6mryp6wh-wDxUT0Eq2pZw7wJRu1ihP1I5dZE1A7iN0\n"
     ]
    }
   ],
   "source": [
    "code_url = \"https://accounts.spotify.com/authorize\"\n",
    "code_params = {'client_id': client_id, \"response_type\": \"code\", \"redirect_uri\": redirect_uri, \"scope\": scope, \"show_dialog\": \"false\"}\n",
    "token_url = \"https://accounts.spotify.com/api/token\"\n",
    "token_params = {'client_id': client_id, \"response_type\": \"code\", \"redirect_uri\": redirect_uri, \"scope\": scope, \"show_dialog\": \"false\"}\n",
    "\n",
    "get_response = requests.get(code_url, params=code_params)\n",
    "# print(get_response.url)\n",
    "\n",
    "print(\"CODE:\", get_authorization_code(\"https://example.com/callback/?code=AQCT0osQEXN-ik-kiK97aKEwlZjw4HgUzMxwDm3hF9qIvQ73tuJstxrJWlaGk5WvHnZi4LspDDNez_IReh-ayR5Y-gEZVAQNs35BsPa8zrMWfVB0LVjOUM2e0PSuOZQsOEwUJ504kCgF6V_l-h-gwzoptZsltEIJgsJKJdCG7szxvttb7qF5OrwmMX-mJ1lP8fmja2KfUjR2GIhK7KCjU70SYzoIJ2GKhqeWWp2W_i_sANabD4L0OJUp50NFhAb_MoWijeMitbNVddGfMJx0TQnbtq1UskeGMtE40bPj2kE44GxJgiwDvz7kPe2YarxtOL77NN6CZoKQj05xh_QvH8Ka2-zxWKEigbwK5IIj8CYTqmg5N8c0s99iq6mryp6wh-wDxUT0Eq2pZw7wJRu1ihP1I5dZE1A7iN0\"))\n",
    "   \n",
    "post_response = requests.post(post_url, )\n",
    "# url = \"https://api.spotify.com/v1/me/tracks\"\n",
    "# headers = {'Authorization': \"Bearer {}\".format(TOKEN)}\n",
    "# r = requests.get(url, headers=headers)\n",
    "# parsed = json.loads(r.text)\n",
    "\n",
    "# count_songs = parsed[\"total\"]\n",
    "# print(\"Number of songs: {}\".format(count_songs))"
   ]
  },
  {
   "cell_type": "code",
   "execution_count": null,
   "metadata": {},
   "outputs": [],
   "source": [
    "https://example.com/callback/?code=AQDqLeQ5fJ-1A24_Hx2TbzR8cNqZPMlBkZG4-E_ioKlJFTgmYR7CJjbtrLGr3ajv6DTDZhjqT0eYjLyckp1gM9GBIipzzjQndlDivtdFPK3m6kOnmjDO5co-RRkWQP3lcfAnTi06NABqXohWpUMg3jEd9Ne6oyQZjSWDprYh2FAOHJEccamR3zNA_tOSIDAqtY8k18OP-ogE_eAHsQlEVcdSmeoYWmEP3wVBOC1W2K0Y1LACnINkwqK1DICz6JB1RcMp_tu7UuCrl7ZFaYxVezlpNBJBWE8wgqPOFCytQbKVqwUGEUIQAbts-rE0CXx5lB_z8KTBChtbE5tk8rj3cF2tnhez7wZu0L-kZyC0IqcHbiUX9dZJepi_2JmkshuwRjkgriwZEpYt-yaoJrCCfhyuuIkXcZdrLKE"
   ]
  },
  {
   "cell_type": "code",
   "execution_count": 4,
   "metadata": {},
   "outputs": [
    {
     "ename": "NameError",
     "evalue": "name 'count_songs' is not defined",
     "output_type": "error",
     "traceback": [
      "\u001b[0;31m---------------------------------------------------------------------------\u001b[0m",
      "\u001b[0;31mNameError\u001b[0m                                 Traceback (most recent call last)",
      "\u001b[0;32m<ipython-input-4-f2314fc5324a>\u001b[0m in \u001b[0;36m<module>\u001b[0;34m()\u001b[0m\n\u001b[1;32m      1\u001b[0m \u001b[0mall_songs\u001b[0m \u001b[0;34m=\u001b[0m \u001b[0;34m[\u001b[0m\u001b[0;34m]\u001b[0m\u001b[0;34m\u001b[0m\u001b[0m\n\u001b[0;32m----> 2\u001b[0;31m \u001b[0;32mfor\u001b[0m \u001b[0mi\u001b[0m \u001b[0;32min\u001b[0m \u001b[0mrange\u001b[0m\u001b[0;34m(\u001b[0m\u001b[0mint\u001b[0m\u001b[0;34m(\u001b[0m\u001b[0mceil\u001b[0m\u001b[0;34m(\u001b[0m\u001b[0mcount_songs\u001b[0m\u001b[0;34m/\u001b[0m\u001b[0;36m50.0\u001b[0m\u001b[0;34m)\u001b[0m\u001b[0;34m)\u001b[0m\u001b[0;34m)\u001b[0m\u001b[0;34m:\u001b[0m\u001b[0;34m\u001b[0m\u001b[0m\n\u001b[0m\u001b[1;32m      3\u001b[0m     \u001b[0moffset\u001b[0m \u001b[0;34m=\u001b[0m \u001b[0;36m50\u001b[0m\u001b[0;34m*\u001b[0m\u001b[0mi\u001b[0m\u001b[0;34m\u001b[0m\u001b[0m\n\u001b[1;32m      4\u001b[0m     \u001b[0murl\u001b[0m \u001b[0;34m=\u001b[0m \u001b[0;34m\"https://api.spotify.com/v1/me/tracks?limit=50&offset={}\"\u001b[0m\u001b[0;34m.\u001b[0m\u001b[0mformat\u001b[0m\u001b[0;34m(\u001b[0m\u001b[0moffset\u001b[0m\u001b[0;34m)\u001b[0m\u001b[0;34m\u001b[0m\u001b[0m\n\u001b[1;32m      5\u001b[0m     \u001b[0mheaders\u001b[0m \u001b[0;34m=\u001b[0m \u001b[0;34m{\u001b[0m\u001b[0;34m'Authorization'\u001b[0m\u001b[0;34m:\u001b[0m \u001b[0;34m\"Bearer {}\"\u001b[0m\u001b[0;34m.\u001b[0m\u001b[0mformat\u001b[0m\u001b[0;34m(\u001b[0m\u001b[0mTOKEN\u001b[0m\u001b[0;34m)\u001b[0m\u001b[0;34m}\u001b[0m\u001b[0;34m\u001b[0m\u001b[0m\n",
      "\u001b[0;31mNameError\u001b[0m: name 'count_songs' is not defined"
     ]
    }
   ],
   "source": [
    "all_songs = []\n",
    "for i in range(int(ceil(count_songs/50.0))):\n",
    "    offset = 50*i\n",
    "    url = \"https://api.spotify.com/v1/me/tracks?limit=50&offset={}\".format(offset)\n",
    "    headers = {'Authorization': \"Bearer {}\".format(TOKEN)}\n",
    "    r = requests.get(url, headers=headers)\n",
    "    cp.copy(r.text)\n",
    "    parsed = json.loads(r.text)\n",
    "\n",
    "    all_songs.extend(parsed[\"items\"])\n",
    "    \n",
    "try:\n",
    "    if (len(all_songs) == count_songs):\n",
    "        print(\"No responses failed.\")\n",
    "except:\n",
    "    print(\"Response from API failed.\")\n",
    "    \n",
    "print(\"Number of gathered songs: {}\".format(len(all_songs)))"
   ]
  },
  {
   "cell_type": "code",
   "execution_count": 76,
   "metadata": {},
   "outputs": [
    {
     "name": "stdout",
     "output_type": "stream",
     "text": [
      "Total songs: 822\n",
      "Total songs under 5 minutes: 737\n"
     ]
    }
   ],
   "source": [
    "songs_all = [(all_songs[i]['track']['popularity'], all_songs[i]['track']['name']) for i in range(len(all_songs))]\n",
    "songs_under_5 = [(all_songs[i]['track']['popularity'], all_songs[i]['track']['name']) for i in range(len(all_songs)) if all_songs[i]['track']['duration_ms'] <= 300000]    \n",
    "    \n",
    "print(\"Total songs:\", len(songs_all))\n",
    "print(\"Total songs under 5 minutes:\", len(songs_under_3))"
   ]
  },
  {
   "cell_type": "code",
   "execution_count": 1,
   "metadata": {},
   "outputs": [
    {
     "ename": "NameError",
     "evalue": "name 'heapq' is not defined",
     "output_type": "error",
     "traceback": [
      "\u001b[0;31m---------------------------------------------------------------------------\u001b[0m",
      "\u001b[0;31mNameError\u001b[0m                                 Traceback (most recent call last)",
      "\u001b[0;32m<ipython-input-1-76aa55b93f1d>\u001b[0m in \u001b[0;36m<module>\u001b[0;34m()\u001b[0m\n\u001b[0;32m----> 1\u001b[0;31m \u001b[0mlargest\u001b[0m \u001b[0;34m=\u001b[0m \u001b[0mheapq\u001b[0m\u001b[0;34m.\u001b[0m\u001b[0mnsmallest\u001b[0m\u001b[0;34m(\u001b[0m\u001b[0;36m50\u001b[0m\u001b[0;34m,\u001b[0m \u001b[0msongs_under_5\u001b[0m\u001b[0;34m)\u001b[0m\u001b[0;34m\u001b[0m\u001b[0m\n\u001b[0m\u001b[1;32m      2\u001b[0m \u001b[0mlargest\u001b[0m \u001b[0;34m=\u001b[0m \u001b[0;34m[\u001b[0m\u001b[0;34m(\u001b[0m\u001b[0mkey\u001b[0m\u001b[0;34m,\u001b[0m \u001b[0mvalue\u001b[0m\u001b[0;34m)\u001b[0m \u001b[0;32mfor\u001b[0m \u001b[0mvalue\u001b[0m\u001b[0;34m,\u001b[0m \u001b[0mkey\u001b[0m \u001b[0;32min\u001b[0m \u001b[0mlargest\u001b[0m\u001b[0;34m]\u001b[0m\u001b[0;34m\u001b[0m\u001b[0m\n\u001b[1;32m      3\u001b[0m \u001b[0;34m[\u001b[0m\u001b[0mprint\u001b[0m\u001b[0;34m(\u001b[0m\u001b[0msong\u001b[0m\u001b[0;34m)\u001b[0m \u001b[0;32mfor\u001b[0m \u001b[0msong\u001b[0m \u001b[0;32min\u001b[0m \u001b[0mlargest\u001b[0m\u001b[0;34m]\u001b[0m\u001b[0;34m\u001b[0m\u001b[0m\n",
      "\u001b[0;31mNameError\u001b[0m: name 'heapq' is not defined"
     ]
    }
   ],
   "source": [
    "largest = heapq.nsmallest(50, songs_under_5)\n",
    "largest = [(key, value) for value, key in largest]\n",
    "[print(song) for song in largest]"
   ]
  },
  {
   "cell_type": "code",
   "execution_count": 58,
   "metadata": {},
   "outputs": [
    {
     "ename": "TypeError",
     "evalue": "'module' object is not callable",
     "output_type": "error",
     "traceback": [
      "\u001b[0;31m---------------------------------------------------------------------------\u001b[0m",
      "\u001b[0;31mTypeError\u001b[0m                                 Traceback (most recent call last)",
      "\u001b[0;32m<ipython-input-58-6f337edc5943>\u001b[0m in \u001b[0;36m<module>\u001b[0;34m()\u001b[0m\n\u001b[0;32m----> 1\u001b[0;31m \u001b[0mprint\u001b[0m\u001b[0;34m(\u001b[0m\u001b[0mtime\u001b[0m\u001b[0;34m(\u001b[0m\u001b[0;34m\"2019-08-11T21:52:33Z\"\u001b[0m\u001b[0;34m)\u001b[0m\u001b[0;34m)\u001b[0m\u001b[0;34m\u001b[0m\u001b[0m\n\u001b[0m",
      "\u001b[0;31mTypeError\u001b[0m: 'module' object is not callable"
     ]
    }
   ],
   "source": [
    "print(time(\"2019-08-11T21:52:33Z\"))"
   ]
  },
  {
   "cell_type": "code",
   "execution_count": 40,
   "metadata": {},
   "outputs": [
    {
     "name": "stdout",
     "output_type": "stream",
     "text": [
      "64\n"
     ]
    }
   ],
   "source": [
    "print(a['track']['popularity'])"
   ]
  },
  {
   "cell_type": "code",
   "execution_count": null,
   "metadata": {},
   "outputs": [],
   "source": []
  }
 ],
 "metadata": {
  "kernelspec": {
   "display_name": "Python 3",
   "language": "python",
   "name": "python3"
  },
  "language_info": {
   "codemirror_mode": {
    "name": "ipython",
    "version": 3
   },
   "file_extension": ".py",
   "mimetype": "text/x-python",
   "name": "python",
   "nbconvert_exporter": "python",
   "pygments_lexer": "ipython3",
   "version": "3.7.0"
  }
 },
 "nbformat": 4,
 "nbformat_minor": 2
}
