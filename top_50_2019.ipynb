{
 "cells": [
  {
   "cell_type": "code",
   "execution_count": 2,
   "metadata": {},
   "outputs": [],
   "source": [
    "import json\n",
    "import requests\n",
    "from furl import furl\n",
    "from math import ceil\n",
    "import pandas as pd\n",
    "import matplotlib\n",
    "import pyperclip as cp\n",
    "import pprint\n",
    "import time\n",
    "import heapq\n",
    "import base64\n",
    "import six\n",
    "import six.moves.urllib.parse as urllibparse\n",
    "\n",
    "ALBUM_PLAY_URL = \"https://t4ils.dev:4433/api/beta/albumPlayCount\"\n",
    "\n",
    "%matplotlib inline\n",
    "import matplotlib.pyplot as plt"
   ]
  },
  {
   "cell_type": "code",
   "execution_count": 4,
   "metadata": {},
   "outputs": [],
   "source": [
    "def get_auth_code(url):\n",
    "    start = url.index('?')\n",
    "    end = url.index('&')\n",
    "    code = url[start + 6:end]\n",
    "    return code\n",
    "\n",
    "def create_auth_header(client_id, client_secret):\n",
    "    auth_header = base64.b64encode(six.text_type(client_id + ':' + client_secret).encode('ascii'))\n",
    "    return {'Authorization': 'Basic %s' % auth_header.decode('ascii')}"
   ]
  },
  {
   "cell_type": "code",
   "execution_count": 5,
   "metadata": {},
   "outputs": [
    {
     "name": "stdout",
     "output_type": "stream",
     "text": [
      "https://accounts.spotify.com/login?continue=https%3A%2F%2Faccounts.spotify.com%2Fauthorize%3Fclient_id%3De88d92c779fb4f2baf5f69a919db89ec%26response_type%3Dcode%26redirect_uri%3Dhttps%253A%252F%252Fexample.com%252Fcallback%252F%26state%3Dilovetocodelol%26scope%3Duser-top-read%2Buser-read-recently-played%2Buser-library-read%2Buser-library-modify%2Buser-read-playback-state%2Buser-read-currently-playing%2Buser-modify-playback-state%26show_dialog%3Dfalse\n"
     ]
    }
   ],
   "source": [
    "username = 'deeaw2ybwljjvzzv7sftosnqi'\n",
    "scope = \"user-top-read user-read-recently-played user-library-read user-library-modify user-read-playback-state user-read-currently-playing user-modify-playback-state\"\n",
    "client_id = 'e88d92c779fb4f2baf5f69a919db89ec'\n",
    "client_secret = 'e27b14511a554ea58a2b42d3b6ef5b15'\n",
    "redirect_uri = 'https://example.com/callback/'\n",
    "state = 'ilovetocodelol'\n",
    "\n",
    "auth_code_url = \"https://accounts.spotify.com/authorize\"\n",
    "auth_code_dict = {\"client_id\": client_id, \"response_type\": \"code\", \"redirect_uri\": redirect_uri, \"state\": state, \"scope\": scope, \"show_dialog\": \"false\"}\n",
    "\n",
    "auth_code_params = urllibparse.urlencode(auth_code_dict)\n",
    "                    \n",
    "get_response = requests.get(auth_code_url, params=auth_code_params)\n",
    "if get_response.status_code != 200:\n",
    "    print(\"Error:\", get_response.reason)\n",
    "    \n",
    "print(get_response.url)"
   ]
  },
  {
   "cell_type": "code",
   "execution_count": 6,
   "metadata": {},
   "outputs": [
    {
     "name": "stdout",
     "output_type": "stream",
     "text": [
      "BQAVhqaiXaHAOZ-SjmpqGH2Zl1t-m6SIZnDs8TmdPQo02-zVXCTnUWiyCD-C8zIpmOyWqjjudPojH07NE6eujSLmHPlcD7ZWYcDpQkykjoxAdl8eoQQzsHmstae-3Aw3ImiZZtAJqpxUM-0irI4CMo_Z-FGjmpJRqnyFy_E_RQ6r6vQ8cn0w6vjtfTtx6fukp90OZ5oVpA\n"
     ]
    }
   ],
   "source": [
    "token_url = \"https://accounts.spotify.com/api/token\"\n",
    "get_response_url = \"https://example.com/callback/?code=AQB7OJ-8SbUIVWmewssY6lXxFzHtHkFe1Hwhi3dQ13BB1CBLilcBzgLvHvFB24mK1uhmto193U9fPU_monBcVOf6jxzrum1dLghFJek1lcvEW07VlYlcRZwpgXe-s-qAAHoAyN6Y4NkGdUDKFNma-TfaT6RmysWW71C0MLLiMPyCqmfwgP4b5U0fAks8UJFuN3iiFwM1jP8mlcpYMwKBPj31weBnjx3FKhxCYIRIwXjZ_B__qpwYNlrDrqDTQD-YyTcCUJQ5IN2Jt7qSPMIab3wM461H_2wEdnENB3GILLyACoBWhY5fmStgRT9X45flvsrWbXXzE2GtRHr2O2BIzJqfsm8Ovly7Al9tg6xaa4WM-O3rZ-xAwMI_PIXLqJ2tzot3hQnkngTwgIaAcxzc7vMJ8hvqhmSYPSI&state=ilovetocodelol\"\n",
    "token_data = {\"redirect_uri\": redirect_uri, \"code\": get_auth_code(get_response_url), \"grant_type\": \"authorization_code\", \"scope\": scope}\n",
    "token_headers = create_auth_header(client_id, client_secret)\n",
    "\n",
    "post_response = requests.post(token_url, data=token_data, headers=token_headers)\n",
    "\n",
    "if post_response.status_code != 200:\n",
    "    print(\"Error:\", post_response.reason)\n",
    "\n",
    "ACCESS_TOKEN = json.loads(post_response.text)[\"access_token\"]\n",
    "print(ACCESS_TOKEN)"
   ]
  },
  {
   "cell_type": "code",
   "execution_count": 7,
   "metadata": {},
   "outputs": [
    {
     "name": "stdout",
     "output_type": "stream",
     "text": [
      "Number of songs: 822\n"
     ]
    }
   ],
   "source": [
    "url = \"https://api.spotify.com/v1/me/tracks\"\n",
    "headers = {'Authorization': \"Bearer {}\".format(ACCESS_TOKEN)}\n",
    "tracks = requests.get(url, headers=headers)\n",
    "parsed = json.loads(tracks.text)\n",
    "cp.copy(tracks.text)\n",
    "\n",
    "count_songs = parsed[\"total\"]\n",
    "print(\"Number of songs: {}\".format(count_songs))"
   ]
  },
  {
   "cell_type": "code",
   "execution_count": 8,
   "metadata": {},
   "outputs": [
    {
     "name": "stdout",
     "output_type": "stream",
     "text": [
      "No responses failed.\n",
      "Number of gathered songs: 822\n"
     ]
    }
   ],
   "source": [
    "all_songs = []\n",
    "\n",
    "for i in range(int(ceil(count_songs/50.0))):\n",
    "    offset = 50*i\n",
    "    url = \"https://api.spotify.com/v1/me/tracks?limit=50&offset={}\".format(offset)\n",
    "    track_headers = {'Authorization': \"Bearer {}\".format(ACCESS_TOKEN)}\n",
    "    tracks = requests.get(url, headers=track_headers)\n",
    "    cp.copy(tracks.text)\n",
    "    parsed = json.loads(tracks.text)\n",
    "\n",
    "    all_songs.extend(parsed['items'])\n",
    "    \n",
    "try:\n",
    "    if (len(all_songs) == count_songs):\n",
    "        print(\"No responses failed.\")\n",
    "except:\n",
    "    print(\"Response from API failed.\")\n",
    "    \n",
    "print(\"Number of gathered songs: {}\".format(len(all_songs)))"
   ]
  },
  {
   "cell_type": "code",
   "execution_count": 12,
   "metadata": {},
   "outputs": [
    {
     "name": "stdout",
     "output_type": "stream",
     "text": [
      "Total songs: 822\n",
      "Total songs under 5 minutes: 737\n"
     ]
    }
   ],
   "source": [
    "songs_all = [(all_songs[i]['track']['popularity'], all_songs[i]['track']['name']) for i in range(len(all_songs))]\n",
    "songs_under_5 = [(all_songs[i]['track']['popularity'], all_songs[i]['track']['name']) for i in range(len(all_songs)) if all_songs[i]['track']['duration_ms'] <= 300000]    \n",
    "album_ids = {(all_songs[i]['track']['album']['name'], all_songs[i]['track']['album']['id']) \n",
    "             for i in range(len(all_songs))}\n",
    "\n",
    "print(\"Total songs:\", len(songs_all))\n",
    "print(\"Total songs under 5 minutes:\", len(songs_under_5))\n",
    "# print(album_ids)"
   ]
  },
  {
   "cell_type": "code",
   "execution_count": 13,
   "metadata": {},
   "outputs": [
    {
     "name": "stdout",
     "output_type": "stream",
     "text": [
      "('Flyaway', 0)\n",
      "('High for This', 0)\n",
      "('Might Not', 0)\n",
      "('Nonchalant', 0)\n",
      "('Starboy', 0)\n",
      "('What You Need', 0)\n",
      "('10AM/Save The World (feat. Gucci Mane)', 1)\n",
      "('Lesbian (feat. Gunna & Young Thug)', 1)\n",
      "('Only 1 (Interlude) (with Travis Scott)', 1)\n",
      "('Up To Something (feat. Travis Scott & Young Thug)', 1)\n",
      "('Wake Up', 1)\n",
      "('No Complaints (feat. Offset & Drake) (Bonus)', 2)\n",
      "('Only You (feat. WizKid, Offset & J Balvin)', 2)\n",
      "('Borrowed Love (feat. Swae Lee & WizKid)', 3)\n",
      "('Final Fantasy', 3)\n",
      "('No More (feat. Travis Scott, Kodak Black & 21 Savage)', 3)\n",
      "(\"Don't Come Out The House (with 21 Savage)\", 4)\n",
      "('Dreamcatcher (feat. Swae Lee & Travis Scott)', 4)\n",
      "('I Thought About Killing You', 4)\n",
      "('Is There More', 4)\n",
      "('No Mistakes', 4)\n",
      "('Overdue (with Travis Scott)', 4)\n",
      "('Ratchet Happy Birthday', 4)\n",
      "('8 Out Of 10', 5)\n",
      "('Blue Tint', 5)\n",
      "('Jaded', 5)\n",
      "('Peak', 5)\n",
      "('Sandra’s Rose', 5)\n",
      "('Summer Games', 5)\n",
      "('Survival', 5)\n",
      "('Talk Up', 5)\n",
      "('That’s How You Feel', 5)\n",
      "(\"Wouldn't Leave\", 5)\n",
      "('After Dark', 6)\n",
      "('Can’t Take A Joke', 6)\n",
      "('Finesse', 6)\n",
      "('10 Freaky Girls (with 21 Savage)', 7)\n",
      "('Elevate', 7)\n",
      "(\"I'm Upset\", 7)\n",
      "('EXACTLY WHAT YOU RUN FROM YOU END UP CHASING', 8)\n",
      "('Mob Ties', 8)\n",
      "('Nice For What', 8)\n",
      "('Space Cadet (feat. Gunna)', 8)\n",
      "('Violent Crimes', 8)\n",
      "('Ghost Town', 9)\n",
      "(\"God's Plan\", 9)\n",
      "('Yikes', 10)\n",
      "('All Mine', 12)\n",
      "('Nonstop', 14)\n",
      "('Mine', 15)\n"
     ]
    }
   ],
   "source": [
    "largest = heapq.nsmallest(50, songs_under_5)\n",
    "largest = [(key, value) for value, key in largest]\n",
    "for song in largest:\n",
    "    print(song)"
   ]
  },
  {
   "cell_type": "code",
   "execution_count": 14,
   "metadata": {},
   "outputs": [
    {
     "name": "stdout",
     "output_type": "stream",
     "text": [
      "('ASTROWORLD', '41GuZcammIkupMPKH2OJ6I')\n",
      "('!', '4YEhTvqsptB5D1n095QL5r')\n",
      "('Snow White', '6tvVlwo0u8wBCmRvLCJIXQ')\n",
      "('Suncity', '4UNwL1B7JoymNUiTFJa52B')\n",
      "('Blank Face LP', '0YbpATCIng8Fz2JrfHmEf7')\n",
      "('DAMN.', '4eLPsYPBmXABThSJ821sqY')\n",
      "('Una Mattina', '4aSt14A98gEpCUpKecrl4V')\n",
      "('Walking On A Dream', '04gYcIojJt78nYnN5oOrKt')\n",
      "('Black Panther The Album Music From And Inspired By', '3pLdWdkj83EYfDN6H2N8MR')\n",
      "('Marie Curie', '4m99RhYGgvz4CYOtVtXTaz')\n",
      "('End Credits', '5bbk7Mo2OiD6q5Bb52DIkC')\n",
      "('Better', '6Nd4PYvQ7aYid1Gn6sWgeG')\n",
      "('Views', '0G1ffjfFuTUTVjDrVdLimH')\n",
      "('i think you think too much of me', '7AVvQhnDEUidKyJsXmQ7ju')\n",
      "('Ramreaper', '3bz6yWBKeXKvSRpeJ6NyUn')\n",
      "('Floating', '73UyBWt2xMqRuP8RnbtgAH')\n",
      "('Future & Juice WRLD Present... WRLD ON DRUGS', '6P9PZjWXoCRF5b66BafPKY')\n",
      "('Nothing Was The Same (Deluxe)', '2gXTTQ713nCELgPOS0qWyt')\n",
      "('Trilogy', '5EbpxRwbbpCJUepbqVTZ1U')\n",
      "('Viva Hate [2011 - Remaster] (2011 Remastered Version)', '6t4LdKTNWIOr2PZIB8tiZF')\n",
      "('Katana', '56Xc3MPMf37InvPMBulRrU')\n",
      "('End Credits', '5eESUGzjysOJC0S2y2KwYn')\n",
      "('Take Care (Deluxe)', '6X1x82kppWZmDzlXXK3y3q')\n",
      "('TESTING', '3MATDdrpHmQCmuOcozZjDa')\n",
      "(\"It's You\", '40vQONzvJb6sKejDN3eWza')\n",
      "('88GLAM2', '1BgPkFMgud3lmEc6enZsjd')\n",
      "(\"There's Alot Going On\", '5ebtbHmQ7WZpgKtH8ir14W')\n",
      "('East Atlanta Love Letter', '3fc97ZWLIMc1xawhxbKrh2')\n",
      "('Scary Hours', '1r0DOIO0iC0bGpMtWRFdde')\n",
      "('Double Or Nothing (& Metro Boomin)', '0llyIxX3nDC3hobbGibVZl')\n",
      "('Say Less', '6BXDMsoy2zam0un1DTMp9U')\n",
      "('Views', '40GMAhriYJRO1rsY4YdrZb')\n",
      "('xx', '2rmMeEq5D1Bg7YFRwtHBDr')\n",
      "('Playboi Carti', '4rJgzzfFHAVFhCSt2P4I3j')\n",
      "('Call Me', '6fXNBfGXNT6dtmFKLN3iaI')\n",
      "('The Sunset Tapes: A Cool Tape Story', '5SEBhuhm9MbbRg3YOOuaCR')\n",
      "('beerbongs & bentleys', '6trNtQUgC8cgbWcqoMYkOR')\n",
      "('IGOR', '5zi7WsKlIiUXv09tbGLKsE')\n",
      "('Graduation', '3SZr5Pco2oqKFORCP3WNj9')\n",
      "('x (Wembley Edition)', '6NoBzYmh5gUusGPCfg0pct')\n",
      "('Huncho Jack, Jack Huncho', '6FED8aeieEnUWwQqAO9zT1')\n",
      "('GENERATIONWHY', '6Xhb46t8f3z8FkuXQAj4UV')\n",
      "('Sundae Sauuce Presents: Almond Milk', '2Qd2TfE00xkdUApNHxZUmi')\n",
      "('LoVE me NOw', '4QSsoW3XoitQA1NrfoCjwr')\n",
      "(\"If You're Reading This It's Too Late\", '0ptlfJfwGTy0Yvrk14JK1I')\n",
      "('Coloring Book', '71QyofYesSsRMwFOTafnhB')\n",
      "('Temperature', '3BULEIQayMoBKUaFbkLqae')\n",
      "('Drip Too Hard', '0LfKQSbicPG4QTTVkS0fes')\n",
      "('The Best Moment', '0NXTljF4e0Esqjhj1t1cfw')\n",
      "('Die Lit', '7dAm8ShwJLFm9SaJ6Yc58O')\n",
      "('NOT ALL HEROES WEAR CAPES', '1zNr37qd3iZJ899byrTkcj')\n",
      "('Currents', '79dL7FLiJFOO0EoehUHQBv')\n",
      "('Angel Youth', '3Zqe5icElI6gNEM9v3UpXN')\n",
      "('AT.LONG.LAST.A$AP', '3arNdjotCvtiiLFfjKngMc')\n",
      "('Nonchalant', '56kj2ke68JEW1ScJlmaAee')\n",
      "('NAV', '4JR29CNW14Zc4Z5vflxkoJ')\n",
      "('Freewave 3', '4PKdUHGtcJtsjhIaR4fjMk')\n",
      "('RECKLESS', '1hTrdWpdPEeXHQWc9GmpxZ')\n",
      "('Xxyyxx', '2RDqGoJDIPzROr1NnCNFOW')\n",
      "('Free Spirit', '6KT8x5oqZJl9CcnM66hddo')\n",
      "('iridescence', '3Mj4A4nNJzIdxOyS4yzOhj')\n",
      "('Mine', '5TR37lsXlmSmzFuIcXn5Dp')\n",
      "('Drip or Drown 2', '1oUzjom2A9xtyRM1SdOAGj')\n",
      "('Taste (feat. Offset)', '0yd01cU78rnlFXq6vRxPSR')\n",
      "('Space Oddity [Space Oddity 40th Anniversary Edition]', '5PfAboDCGnNBqBKnMyOLB7')\n",
      "('88GLAM2.5', '6JhWUtJleBE134LiNWq2a6')\n",
      "('Tha Carter V', '50yFYgKdwJANZ5O9MIbMkg')\n",
      "('Solstice', '4sqEJVNZx67onU8mzkunU7')\n",
      "('My Dear Melancholy,', '3N88bRVAwQrtKqSV0UgU69')\n",
      "('Analogue', '1SgtXskC74No0x9a9iDlfw')\n",
      "('Father Of Asahd', '1YgX8BWKleDlDeCOFklRfz')\n",
      "('SR3MM', '4vLYreWxd2ptOAzPwTyBI3')\n",
      "(\"Passion, Pain & Demon Slayin'\", '5bCk3kWAy2JbbTfHqzZCII')\n",
      "('Hoodie SZN', '3r5hf3Cj3EMh1C2saQ8jyt')\n",
      "('ye', '5EBGCvO6upi3GNknMVe9x9')\n",
      "('Blonde', '3mH6qwIy9crq0I9YQbOuDf')\n",
      "('Drip Season 3', '6caD9fY0HMXWCqg8uWL2vs')\n",
      "('KIDS SEE GHOSTS', '6pwuKxMUkNg673KETsXPUV')\n",
      "('Birds In The Trap Sing McKnight', '42WVQWuf1teDysXiOupIZt')\n",
      "('Sweeter Dreams', '1ymffRGbsJehIjcQ4qfVZT')\n",
      "('Gucci Gang', '6UI0o8rDZZ8ZHEG0shGjZB')\n",
      "('Rodeo (Expanded Edition)', '4PWBTB6NYSKQwfo79I3prg')\n",
      "('The Best In The World Pack', '00HZxSA1sOS9T3nA950sg4')\n",
      "('Currents B-Sides & Remixes', '04uXkrNhFJ1iWEo88MGPva')\n",
      "('Selcouth', '2lXnIs4McHfWLTn8kRsrE1')\n",
      "('Flyaway', '3goUmifjElC4pUPQMdLRH7')\n",
      "('Unfair (Full Version) / Been A While', '4j9EVqECBYHL0g9pUEOmIC')\n",
      "('i am > i was', '007DWn799UWvfY1wwZeENR')\n",
      "('Lemon (Edit)', '2xGzVkqqc7CFi74fAoIbAa')\n",
      "('FREE 6LACK', '7iwGw8ob3YLqZrbKzGFnHi')\n",
      "('Sanguine Paradise', '49K82qcZN4u109e6Zw8io1')\n",
      "('Scorpion', '2o9McLtDM7mbODV7yZF2mc')\n",
      "('Weeknd Screw Tape', '3dgU6IAKZ6Jupobva6YZRC')\n",
      "('Drip Harder', '2yXnY2NiaZk9QiJJittS81')\n",
      "('KOD', '4Wv5UAieM1LDEYVq5WmqDd')\n",
      "('Light Path 8', '7fzkvNhOaUDsihQRGLl1K9')\n"
     ]
    }
   ],
   "source": [
    "for album in album_ids:\n",
    "    print(album)"
   ]
  },
  {
   "cell_type": "code",
   "execution_count": 46,
   "metadata": {},
   "outputs": [],
   "source": [
    "from __future__ import division\n",
    "\n",
    "def get_top_music(query_params={\"limit\": \"50\", \"offset\": \"0\", \"time_range\": \"medium_term\"}, \n",
    "                  type=\"artists\", access_token=ACCESS_TOKEN):\n",
    "    url = \"https://api.spotify.com/v1/me/top/\"\n",
    "    if (type == \"artists\"):\n",
    "        url += \"artists\"\n",
    "    else:\n",
    "        url += \"tracks\"\n",
    "        \n",
    "    headers = {'Authorization': \"Bearer {}\".format(ACCESS_TOKEN)}\n",
    "    \n",
    "    top_tracks_and_artists = requests.get(url=url, params={\"limit\": \"50\", \"offset\": \"0\", \"time_range\": \"medium_term\"}, headers={'Authorization': \"Bearer {}\".format(ACCESS_TOKEN)})\n",
    "    parsed = json.loads(top_tracks_and_artists.text)\n",
    "    items = parsed['items']\n",
    "\n",
    "    top_music = []\n",
    "    \n",
    "    if (type == \"artists\"):\n",
    "        for i in range(len(items)):\n",
    "            top_music.append([\"Rank: {}\".format(str(i+1)), items[i]['name'], int(items[i]['followers']['total']), items[i]['images'][0]['url']])\n",
    "    else:\n",
    "        for i in range(len(items)):\n",
    "            current_item = items[i]\n",
    "            artists = current_item['artists']\n",
    "            current_album = current_item['album']\n",
    "            length_of_song = str((current_item['duration_ms'] // 1000) // 60) + \"m, \" + str((current_item['duration_ms'] // 1000) % 60) + \"s\"\n",
    "            top_music.append([\"Rank: {}\".format(str(i+1)), current_item['name'], \n",
    "                               [artists[j]['name'] for j in range(len(artists))], \n",
    "                               current_album['name'], current_album['images'][0]['url'],\n",
    "                              length_of_song, current_album['release_date']])\n",
    "    return top_music\n"
   ]
  },
  {
   "cell_type": "code",
   "execution_count": 47,
   "metadata": {},
   "outputs": [
    {
     "name": "stdout",
     "output_type": "stream",
     "text": [
      "['Rank: 1', 'Playboi Carti', 2572788, 'https://i.scdn.co/image/d3c4c2a06332c88e967387b38177d17d20e2331b']\n",
      "['Rank: 2', 'Tory Lanez', 2422093, 'https://i.scdn.co/image/319b5b30148cb0614be70f115b272afc18ea69c7']\n",
      "['Rank: 3', 'Khalid', 7774126, 'https://i.scdn.co/image/e52c824585bfeef4d674b509437120805300f557']\n",
      "['Rank: 4', 'Travis Scott', 6219335, 'https://i.scdn.co/image/dc5eba5e032c2e5bc4d42c89d61ffee5875c981f']\n",
      "['Rank: 5', 'Kid Cudi', 3177791, 'https://i.scdn.co/image/e69bd60976fd81d1368adc34423c691d86f92e0d']\n",
      "['Rank: 6', 'Drake', 39482432, 'https://i.scdn.co/image/012ecd119617ac24ab56620ace4b81735b172686']\n",
      "['Rank: 7', '6LACK', 1713870, 'https://i.scdn.co/image/b7b33aaeac1367b35d9c74a53fc9cfbd38f79fee']\n",
      "['Rank: 8', 'NAV', 1501043, 'https://i.scdn.co/image/819c7e7c7126e367b35ff23e0653b1779069128f']\n",
      "['Rank: 9', 'Chase Atlantic', 301115, 'https://i.scdn.co/image/8b9e716ede032187fb4a5b2b75d9c5cf2438c6e8']\n",
      "['Rank: 10', 'The Weeknd', 16751484, 'https://i.scdn.co/image/a5fa0d35a5070867261d100b879cac028fe96775']\n",
      "['Rank: 11', 'Jaden', 876435, 'https://i.scdn.co/image/64829357ce5ba7e8e7d1aebf19fbde50a36cf885']\n",
      "['Rank: 12', 'Tyler, The Creator', 3167869, 'https://i.scdn.co/image/fe839f5bd121774e64f377b5eead237c69a01711']\n",
      "['Rank: 13', 'Ramriddlz', 68974, 'https://i.scdn.co/image/c45c2614b7003851eb920fc6cce7b824e86124a0']\n",
      "['Rank: 14', '88GLAM', 165958, 'https://i.scdn.co/image/589e9fb1c9041f44d96cf0e1571ce8d6ca176aff']\n",
      "['Rank: 15', 'A$AP Rocky', 5723200, 'https://i.scdn.co/image/cce607c4d975ae49d68b484eaef51a6413fa73b1']\n",
      "['Rank: 16', 'Future', 7957653, 'https://i.scdn.co/image/d5ac5dc59664cf7c64795271602316dde494a6d1']\n",
      "['Rank: 17', 'Daniel Caesar', 1459351, 'https://i.scdn.co/image/f9dbecfbec79585821a0058c96fde9a57b9c106c']\n",
      "['Rank: 18', 'Mac DeMarco', 1145803, 'https://i.scdn.co/image/e3d3e28c604a1c86e796e0d2aa7d4dc249f62e6f']\n",
      "['Rank: 19', 'Lil Uzi Vert', 6742417, 'https://i.scdn.co/image/a6dd2fabeba127e6eea02bd234545de91c44e604']\n",
      "['Rank: 20', 'Chance the Rapper', 4273887, 'https://i.scdn.co/image/0433f521b1fadf1d839b6e70c3914021f122901f']\n",
      "['Rank: 21', 'KIDS SEE GHOSTS', 320884, 'https://i.scdn.co/image/e7df5661e0e360ebbeb065a9b4fde3db73823729']\n",
      "['Rank: 22', 'Trippie Redd', 3276909, 'https://i.scdn.co/image/18d243ea2cd23ad420c1afc8c6bb9f92e8fa5885']\n",
      "['Rank: 23', 'EDEN', 630524, 'https://i.scdn.co/image/e1c162227fc61a168b4f87d0bfff278771e546f0']\n",
      "['Rank: 24', 'A$AP Mob', 1113261, 'https://i.scdn.co/image/fa30308f04ed43a632e19c24b7ac0b6162ce4cde']\n",
      "['Rank: 25', 'Tame Impala', 2710503, 'https://i.scdn.co/image/d258f00c11f658bc5d3fbe0b5491200996836e86']\n",
      "['Rank: 26', 'Pi’erre Bourne', 89939, 'https://i.scdn.co/image/52492b2ebf7587a21678f6aa3cb8ff5428391235']\n",
      "['Rank: 27', 'Kanye West', 10121920, 'https://i.scdn.co/image/a12d8543e28d71d9f1e7f5f363c1a6c73316f9e6']\n",
      "['Rank: 28', 'Gunna', 1258573, 'https://i.scdn.co/image/ec9841f2d8fd9f9a21dff3b2eba8c790b255b3e3']\n",
      "['Rank: 29', 'Metro Boomin', 1399336, 'https://i.scdn.co/image/8986705c72b71411c261c0f9eb65b6a2c04cfe90']\n",
      "['Rank: 30', 'James Blake', 875857, 'https://i.scdn.co/image/8f610393d27956d90e8bdac11e0975c971187b5b']\n",
      "['Rank: 31', 'Ed Sheeran', 48837633, 'https://i.scdn.co/image/f55cab0739390cf3b2c2f773b9c779b2f0ae8a99']\n",
      "['Rank: 32', \"j'san\", 26305, 'https://i.scdn.co/image/b1ac4fc7cbc45dcf95a96830db900cb5bbd81a24']\n",
      "['Rank: 33', 'John Mayer', 3942496, 'https://i.scdn.co/image/093f63fe03e52d014286eb6e0afa9a099214cf65']\n",
      "['Rank: 34', 'Kupla', 14634, 'https://i.scdn.co/image/2b3ed8ef6fa77e3924f76cbcbe66f7d926f85162']\n",
      "['Rank: 35', 'The Smiths', 1873064, 'https://i.scdn.co/image/481b980af463122013e4578c08fb8c5cbfaed1e9']\n",
      "['Rank: 36', 'Leavv', 8735, 'https://i.scdn.co/image/edcacfaadbc263db4efbf1f04cec08acde38442c']\n",
      "['Rank: 37', 'Ski Mask The Slump God', 2398650, 'https://i.scdn.co/image/677d1c0829af1f795836467a2cbe44b34ee01323']\n",
      "['Rank: 38', 'Bryson Tiller', 3501719, 'https://i.scdn.co/image/17cb13828da84ff2e33f86b6984dab07b7ae66b6']\n",
      "['Rank: 39', 'Beach House', 811105, 'https://i.scdn.co/image/b34aff7ff25bb5882346fee11f05a46f38fbfbd3']\n",
      "['Rank: 40', 'blackbear', 2239487, 'https://i.scdn.co/image/e578851857f939e5d18f045dc8c0340aec0cc81a']\n",
      "['Rank: 41', 'Dreamville', 117221, 'https://i.scdn.co/image/a18511aae6029596c9dfca3b9d38fb8383386d0e']\n",
      "['Rank: 42', 'Offset', 1185280, 'https://i.scdn.co/image/d718d632faa01221dd271f4e60a421596718fda0']\n",
      "['Rank: 43', 'KILLY', 304673, 'https://i.scdn.co/image/3a07233dd9f2bb5b8caccdbaf770124d00d48aea']\n",
      "['Rank: 44', 'Morrissey', 599677, 'https://i.scdn.co/image/cdbc12a6b10dbab32ed73d4979183e95f46ebeb2']\n",
      "['Rank: 45', 'Rajitheone', 13103, 'https://i.scdn.co/image/ee7258e613ac4809ecc31918b89ac9811813abd0']\n",
      "['Rank: 46', 'WILLOW', 480642, 'https://i.scdn.co/image/09a320c87e69ced87bb1b0989e9131a10a1066f2']\n",
      "['Rank: 47', 'Ariana Grande', 33739803, 'https://i.scdn.co/image/b1dfbe843b0b9f54ab2e588f33e7637d2dab065a']\n",
      "['Rank: 48', 'jhfly', 11132, 'https://i.scdn.co/image/2c894dca3a155a428b68a2b90f6aef0f48f2bc97']\n",
      "['Rank: 49', 'Ludovico Einaudi', 1492469, 'https://i.scdn.co/image/7ea6611df2ce852be5e20d2c3bb17b09674583a3']\n",
      "['Rank: 50', 'Pandrezz', 16886, 'https://i.scdn.co/image/3e9dd231fcd4ab6ee1ffed58230b49231a7eca75']\n"
     ]
    }
   ],
   "source": [
    "for artist in get_top_music(type=\"artists\"):\n",
    "    print(artist)"
   ]
  },
  {
   "cell_type": "code",
   "execution_count": 48,
   "metadata": {},
   "outputs": [
    {
     "name": "stdout",
     "output_type": "stream",
     "text": [
      "['Rank: 1', '66', ['Lil Yachty', 'Trippie Redd'], 'Lil Boat 2', 'https://i.scdn.co/image/61ee9a142d5b0a84de501e02f69e40677429937b', '2m, 33s', '2018-03-09']\n",
      "['Rank: 2', 'Location', ['Playboi Carti'], 'Playboi Carti', 'https://i.scdn.co/image/1c224244e6bc51ae458c8b924c28ba7e6e4f8150', '2m, 48s', '2017-04-14']\n",
      "['Rank: 3', 'Snow Globe (feat. NAV) - Remix', ['88GLAM', 'NAV'], '88GLAM2.5', 'https://i.scdn.co/image/c3dd41f02ef12dd7d516dc9871d723c865ea731d', '3m, 57s', '2019-04-12']\n",
      "['Rank: 4', 'Let It Go', ['Playboi Carti'], 'Playboi Carti', 'https://i.scdn.co/image/1c224244e6bc51ae458c8b924c28ba7e6e4f8150', '2m, 30s', '2017-04-14']\n",
      "['Rank: 5', 'Perry Aye', ['A$AP Mob', 'A$AP Rocky', 'A$AP Nast', 'Playboi Carti', 'Jaden'], 'Cozy Tapes Vol. 2: Too Cozy', 'https://i.scdn.co/image/74c69e97d78afed27b9bc22698038a34e9db2e02', '2m, 26s', '2017-08-25']\n",
      "['Rank: 6', 'Marie Curie', ['Pi’erre Bourne'], 'Marie Curie', 'https://i.scdn.co/image/b0b73233b6193b294d0226d77987a8eba697134b', '3m, 25s', '2018-07-31']\n",
      "['Rank: 7', 'FlatBed Freestyle', ['Playboi Carti'], 'Die Lit', 'https://i.scdn.co/image/03d4fc7b3df5aa9dded70438699f250e4301bf62', '3m, 13s', '2018-05-11']\n",
      "['Rank: 8', 'FeRRis WhEEL (feat. Trippie Redd)', ['Tory Lanez', 'Trippie Redd'], 'LoVE me NOw', 'https://i.scdn.co/image/1050bde10fc57428192076d5fa3bc4964a6cde68', '2m, 31s', '2018-10-26']\n",
      "['Rank: 9', 'R.I.P. Fredo (feat. Young Nudy) - Notice Me', ['Playboi Carti', 'Young Nudy'], 'Die Lit', 'https://i.scdn.co/image/03d4fc7b3df5aa9dded70438699f250e4301bf62', '2m, 41s', '2018-05-11']\n",
      "['Rank: 10', 'Long Time - Intro', ['Playboi Carti'], 'Die Lit', 'https://i.scdn.co/image/03d4fc7b3df5aa9dded70438699f250e4301bf62', '3m, 31s', '2018-05-11']\n",
      "['Rank: 11', 'Safe Freestyle', ['SAFE'], 'Safe Freestyle', 'https://i.scdn.co/image/baebe76e04d32d3a66608a3429d0ba3323d73d63', '1m, 29s', '2019-01-23']\n",
      "['Rank: 12', 'Sorry', ['6LACK'], 'East Atlanta Love Letter', 'https://i.scdn.co/image/19b263b0ecfd34efd624df40e696f2aaed6d3705', '3m, 30s', '2018-09-14']\n",
      "['Rank: 13', 'Paid In Full', ['SAFE', 'Playboi Carti'], 'Paid In Full', 'https://i.scdn.co/image/8fff9b2716cf1860461180ef4a1ac42d1d6b8a7d', '3m, 22s', '2019-04-05']\n",
      "['Rank: 14', 'Here With Me', ['Marshmello', 'CHVRCHES'], 'Here With Me', 'https://i.scdn.co/image/62d8ce6e4bc3485023c6997de7c466bc374d1d9b', '2m, 36s', '2019-03-08']\n",
      "['Rank: 15', \"Don't Pretend\", ['Khalid', 'SAFE'], 'Free Spirit', 'https://i.scdn.co/image/6c1f62bfe24b3cf4a0f1c61448eada0ae0d16dff', '2m, 45s', '2019-04-05']\n",
      "['Rank: 16', 'Outta My Head (with John Mayer)', ['Khalid', 'John Mayer'], 'Free Spirit', 'https://i.scdn.co/image/6c1f62bfe24b3cf4a0f1c61448eada0ae0d16dff', '2m, 57s', '2019-04-05']\n",
      "['Rank: 17', 'Price On My Head (feat. The Weeknd)', ['NAV', 'The Weeknd'], 'Bad Habits (Deluxe)', 'https://i.scdn.co/image/e5981a3f84342eca25353378388fd249002dfecd', '3m, 37s', '2019-03-26']\n",
      "['Rank: 18', 'Baguettes in the Face (feat. NAV, Playboi Carti & A Boogie Wit da Hoodie)', ['Mustard', 'NAV', 'Playboi Carti', 'A Boogie Wit da Hoodie'], 'Perfect Ten', 'https://i.scdn.co/image/581bda7115c44a62eafaecd13e424d9f870a313d', '2m, 54s', '2019-06-28']\n",
      "['Rank: 19', 'HER', ['Chase Atlantic'], 'LOVE IS (NOT) EASY / STUCKINMYBRAIN / HER', 'https://i.scdn.co/image/82797bb575974c89fc3bbfa5a9dd77de8b343108', '2m, 49s', '2019-06-07']\n",
      "['Rank: 20', 'Summertime In Paris', ['Jaden', 'WILLOW'], 'ERYS (Deluxe)', 'https://i.scdn.co/image/9efb0981f4baafd166ae698c194d9479161c3cab', '4m, 30s', '2019-07-05']\n",
      "['Rank: 21', 'Frequency', ['Kid Cudi'], \"Passion, Pain & Demon Slayin'\", 'https://i.scdn.co/image/477884e59cbdf2b7ff2cae31d57f0a7b2fde1b97', '4m, 58s', '2016-12-16']\n",
      "['Rank: 22', 'Kitchen', ['Kid Cudi'], \"Passion, Pain & Demon Slayin'\", 'https://i.scdn.co/image/477884e59cbdf2b7ff2cae31d57f0a7b2fde1b97', '4m, 28s', '2016-12-16']\n",
      "['Rank: 23', 'Sanguine Paradise', ['Lil Uzi Vert'], 'Sanguine Paradise', 'https://i.scdn.co/image/0506e7f6ec6e952e5d6576fb41268761b7fc266b', '4m, 3s', '2019-04-09']\n",
      "['Rank: 24', 'the ends', ['Travis Scott'], 'Birds In The Trap Sing McKnight', 'https://i.scdn.co/image/6c41981dc659cc8a19a0371f42951d8dec48db7c', '3m, 21s', '2016-09-16']\n",
      "['Rank: 25', 'Freaky', ['Tory Lanez'], 'Freaky', 'https://i.scdn.co/image/d848913d5a74201f2dbebef7aec552c0c36839cc', '2m, 53s', '2019-03-15']\n",
      "['Rank: 26', 'Motorcycle Patches', ['Huncho Jack', 'Travis Scott', 'Quavo'], 'Huncho Jack, Jack Huncho', 'https://i.scdn.co/image/396f6aebbee070b7ac03ca422fbd0913b4b8de45', '3m, 11s', '2017-12-21']\n",
      "['Rank: 27', 'No Time (feat. Gunna)', ['Playboi Carti', 'Gunna'], 'Die Lit', 'https://i.scdn.co/image/03d4fc7b3df5aa9dded70438699f250e4301bf62', '3m, 39s', '2018-05-11']\n",
      "['Rank: 28', 'MiAMi (feat. Gunna)', ['Tory Lanez', 'Gunna'], 'LoVE me NOw', 'https://i.scdn.co/image/1050bde10fc57428192076d5fa3bc4964a6cde68', '4m, 4s', '2018-10-26']\n",
      "['Rank: 29', 'Hundred', ['Khalid'], 'Free Spirit', 'https://i.scdn.co/image/6c1f62bfe24b3cf4a0f1c61448eada0ae0d16dff', '4m, 37s', '2019-04-05']\n",
      "['Rank: 30', 'Cudi Montage', ['KIDS SEE GHOSTS'], 'KIDS SEE GHOSTS', 'https://i.scdn.co/image/64cc5671890ba19c6c42a533eed08da56d29bdca', '3m, 17s', '2018-06-08']\n",
      "['Rank: 31', 'The London (feat. J. Cole & Travis Scott)', ['Young Thug', 'J. Cole', 'Travis Scott'], 'The London (feat. J. Cole & Travis Scott)', 'https://i.scdn.co/image/1d895928504559d85a610f34d7c003d4ab0fc937', '3m, 20s', '2019-05-23']\n",
      "['Rank: 32', 'Pretty Little Fears (feat. J. Cole)', ['6LACK', 'J. Cole'], 'East Atlanta Love Letter', 'https://i.scdn.co/image/19b263b0ecfd34efd624df40e696f2aaed6d3705', '4m, 0s', '2018-09-14']\n",
      "['Rank: 33', 'Mile High (feat. Travis Scott & Metro Boomin)', ['James Blake', 'Travis Scott', 'Metro Boomin'], 'Assume Form', 'https://i.scdn.co/image/5ad52428a63f5644fde5c61d79788cfd94a72c6b', '3m, 13s', '2019-01-18']\n",
      "['Rank: 34', 'through the late night', ['Travis Scott'], 'Birds In The Trap Sing McKnight', 'https://i.scdn.co/image/6c41981dc659cc8a19a0371f42951d8dec48db7c', '4m, 46s', '2016-09-16']\n",
      "['Rank: 35', 'Broke Leg (with Quavo & Tyga)', ['Tory Lanez', 'Quavo', 'Tyga'], 'Broke Leg (with Quavo & Tyga)', 'https://i.scdn.co/image/7d4dd337b2292b0d07104a33d97aebf33905446e', '2m, 45s', '2019-05-31']\n",
      "['Rank: 36', 'CYANIDE', ['Daniel Caesar'], 'CASE STUDY 01', 'https://i.scdn.co/image/60154e4371aa4a548741c951584a2effead3a153', '3m, 14s', '2019-06-28']\n",
      "['Rank: 37', 'R.I.P.', ['Playboi Carti'], 'Die Lit', 'https://i.scdn.co/image/03d4fc7b3df5aa9dded70438699f250e4301bf62', '3m, 12s', '2018-05-11']\n",
      "['Rank: 38', 'Foreign', ['Playboi Carti'], 'Die Lit', 'https://i.scdn.co/image/03d4fc7b3df5aa9dded70438699f250e4301bf62', '2m, 22s', '2018-05-11']\n",
      "['Rank: 39', \"It's You\", ['Ali Gatie'], \"It's You\", 'https://i.scdn.co/image/6d0c44b1f2b7521321b6157b4ed4d372b3ede356', '3m, 32s', '2019-06-14']\n",
      "['Rank: 40', 'Snap', ['NAV'], 'Bad Habits (Deluxe)', 'https://i.scdn.co/image/e5981a3f84342eca25353378388fd249002dfecd', '2m, 49s', '2019-03-26']\n",
      "['Rank: 41', 'Lookin', ['Playboi Carti', 'Lil Uzi Vert'], 'Playboi Carti', 'https://i.scdn.co/image/1c224244e6bc51ae458c8b924c28ba7e6e4f8150', '3m, 3s', '2017-04-14']\n",
      "['Rank: 42', 'Yah Mean', ['Playboi Carti'], 'Playboi Carti', 'https://i.scdn.co/image/1c224244e6bc51ae458c8b924c28ba7e6e4f8150', '2m, 45s', '2017-04-14']\n",
      "['Rank: 43', \"Why DON'T You LOVE me?\", ['Tory Lanez'], 'LoVE me NOw', 'https://i.scdn.co/image/1050bde10fc57428192076d5fa3bc4964a6cde68', '3m, 32s', '2018-10-26']\n",
      "['Rank: 44', 'Mileage (feat. Chief Keef)', ['Playboi Carti', 'Chief Keef'], 'Die Lit', 'https://i.scdn.co/image/03d4fc7b3df5aa9dded70438699f250e4301bf62', '2m, 29s', '2018-05-11']\n",
      "['Rank: 45', 'Caught Up (feat. Khalid)', ['Majid Jordan', 'Khalid'], 'Caught Up (feat. Khalid)', 'https://i.scdn.co/image/195cf98ee6ea6067794ec5f9e1f380a114608b2b', '4m, 7s', '2019-07-24']\n",
      "['Rank: 46', 'Faucet Failure', ['Ski Mask The Slump God'], 'STOKELEY', 'https://i.scdn.co/image/77eb7c17cafe5503198401adaee94574d1e4f867', '2m, 25s', '2018-11-30']\n",
      "['Rank: 47', '90210 (feat. Kacy Hill)', ['Travis Scott', 'Kacy Hill'], 'Rodeo (Expanded Edition)', 'https://i.scdn.co/image/300ea7f7951a76153860ef3de16ddcc814f5c13c', '5m, 39s', '2015-09-04']\n",
      "['Rank: 48', 'HER', ['Chase Atlantic'], 'PHASES', 'https://i.scdn.co/image/e2287fb6225007f96104890322d31ebc044885fd', '2m, 49s', '2019-06-28']\n",
      "['Rank: 49', 'ASTROTHUNDER', ['Travis Scott'], 'ASTROWORLD', 'https://i.scdn.co/image/cdca7dc20c778ada42fb18506ea1f26857f01d17', '2m, 22s', '2018-08-03']\n",
      "['Rank: 50', 'NO ONE OUTSIDE', ['Taylor Bennett', 'bianca shaw', 'Chance the Rapper'], 'THE AMERICAN REJECT', 'https://i.scdn.co/image/17705e1e8d05da3b0cd09a29b7023c190f0cf629', '3m, 50s', '2019-05-28']\n"
     ]
    }
   ],
   "source": [
    "for track in get_top_music(type=\"tracks\"):\n",
    "    print(track)"
   ]
  },
  {
   "cell_type": "code",
   "execution_count": null,
   "metadata": {},
   "outputs": [],
   "source": []
  }
 ],
 "metadata": {
  "kernelspec": {
   "display_name": "Python 3",
   "language": "python",
   "name": "python3"
  },
  "language_info": {
   "codemirror_mode": {
    "name": "ipython",
    "version": 3
   },
   "file_extension": ".py",
   "mimetype": "text/x-python",
   "name": "python",
   "nbconvert_exporter": "python",
   "pygments_lexer": "ipython3",
   "version": "3.7.0"
  }
 },
 "nbformat": 4,
 "nbformat_minor": 2
}
