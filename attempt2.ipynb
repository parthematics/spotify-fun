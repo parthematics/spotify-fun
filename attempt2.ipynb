{
 "cells": [
  {
   "cell_type": "code",
   "execution_count": 36,
   "metadata": {},
   "outputs": [],
   "source": [
    "import json\n",
    "import requests\n",
    "from furl import furl\n",
    "from math import ceil\n",
    "import pandas as pd\n",
    "import matplotlib\n",
    "import pyperclip as cp\n",
    "import pprint\n",
    "\n",
    "%matplotlib inline\n",
    "import matplotlib.pyplot as plt\n",
    "\n",
    "TOKEN = \"BQCWYTEfs0Wr6O97UIsj0016uKHYrDWYiAARxmRuPssF_dGk0JhqQzh3bRvbBy_PNwwYZS_RNbJFg7ldpBhbecxugqeQMXwrEhLUQwPBZbi7cJ45xBOHdNokbFXxdZnVD8oqUzPmVMwKOFuMb6aOY2FsuyE2g4PQl0IjsWfRwN51GIXhLnH0GomjbkmKMVL4qOj5kdzJbQ\""
   ]
  },
  {
   "cell_type": "code",
   "execution_count": 9,
   "metadata": {},
   "outputs": [
    {
     "name": "stdout",
     "output_type": "stream",
     "text": [
      "Number of songs: 822\n"
     ]
    }
   ],
   "source": [
    "url = \"https://api.spotify.com/v1/me/tracks\"\n",
    "headers = {'Authorization': \"Bearer {}\".format(TOKEN)}\n",
    "r = requests.get(url, headers=headers)\n",
    "parsed = json.loads(r.text)\n",
    "\n",
    "count_songs = parsed[\"total\"]\n",
    "print(\"Number of songs: {}\".format(count_songs))"
   ]
  },
  {
   "cell_type": "code",
   "execution_count": 30,
   "metadata": {},
   "outputs": [
    {
     "name": "stdout",
     "output_type": "stream",
     "text": [
      "Number of gathered songs: 50\n",
      "<class 'list'>\n"
     ]
    }
   ],
   "source": [
    "all_songs = []\n",
    "for i in range(int(ceil(count_songs/50.0))):\n",
    "    offset = 50*i\n",
    "    url = \"https://api.spotify.com/v1/me/tracks?limit=50&offset={}\".format(offset)\n",
    "    headers = {'Authorization': \"Bearer {}\".format(TOKEN)}\n",
    "    r = requests.get(url, headers=headers)\n",
    "    cp.copy(r.text)\n",
    "    parsed = json.loads(r.text)\n",
    "\n",
    "    all_songs.extend(parsed[\"items\"])\n",
    "    break\n",
    "    \n",
    "try:\n",
    "    if (len(all_songs) == count_songs):\n",
    "        print(\"No responses failed.\")\n",
    "except:\n",
    "    print(\"Response from API failed.\")\n",
    "    \n",
    "print(\"Number of gathered songs: {}\".format(len(all_songs)))\n",
    "\n",
    "print(type(all_songs))"
   ]
  },
  {
   "cell_type": "code",
   "execution_count": 32,
   "metadata": {},
   "outputs": [
    {
     "name": "stdout",
     "output_type": "stream",
     "text": [
      "{'added_at': '2019-08-11T21:52:33Z', 'track': {'album': {'album_type': 'album', 'artists': [{'external_urls': {'spotify': 'https://open.spotify.com/artist/6Xgp2XMz1fhVYe7i6yNAax'}, 'href': 'https://api.spotify.com/v1/artists/6Xgp2XMz1fhVYe7i6yNAax', 'id': '6Xgp2XMz1fhVYe7i6yNAax', 'name': 'Trippie Redd', 'type': 'artist', 'uri': 'spotify:artist:6Xgp2XMz1fhVYe7i6yNAax'}], 'available_markets': ['AD', 'AE', 'AR', 'AT', 'AU', 'BE', 'BG', 'BH', 'BO', 'BR', 'CA', 'CH', 'CL', 'CO', 'CR', 'CY', 'CZ', 'DE', 'DK', 'DO', 'DZ', 'EC', 'EE', 'EG', 'ES', 'FI', 'FR', 'GB', 'GR', 'GT', 'HK', 'HN', 'HU', 'ID', 'IE', 'IL', 'IN', 'IS', 'IT', 'JO', 'JP', 'KW', 'LB', 'LI', 'LT', 'LU', 'LV', 'MA', 'MC', 'MT', 'MX', 'MY', 'NI', 'NL', 'NO', 'NZ', 'OM', 'PA', 'PE', 'PH', 'PL', 'PS', 'PT', 'PY', 'QA', 'RO', 'SA', 'SE', 'SG', 'SK', 'SV', 'TH', 'TN', 'TR', 'TW', 'US', 'UY', 'VN', 'ZA'], 'external_urls': {'spotify': 'https://open.spotify.com/album/4YEhTvqsptB5D1n095QL5r'}, 'href': 'https://api.spotify.com/v1/albums/4YEhTvqsptB5D1n095QL5r', 'id': '4YEhTvqsptB5D1n095QL5r', 'images': [{'height': 640, 'url': 'https://i.scdn.co/image/51869c9da82229be00329902b15ab21c38232981', 'width': 640}, {'height': 300, 'url': 'https://i.scdn.co/image/f30d2c3da0f4e86423a1c570686362d020e658ad', 'width': 300}, {'height': 64, 'url': 'https://i.scdn.co/image/7c70938c9414ff49914467b3127a516f9bbbc826', 'width': 64}], 'name': '!', 'release_date': '2019-08-09', 'release_date_precision': 'day', 'total_tracks': 14, 'type': 'album', 'uri': 'spotify:album:4YEhTvqsptB5D1n095QL5r'}, 'artists': [{'external_urls': {'spotify': 'https://open.spotify.com/artist/6Xgp2XMz1fhVYe7i6yNAax'}, 'href': 'https://api.spotify.com/v1/artists/6Xgp2XMz1fhVYe7i6yNAax', 'id': '6Xgp2XMz1fhVYe7i6yNAax', 'name': 'Trippie Redd', 'type': 'artist', 'uri': 'spotify:artist:6Xgp2XMz1fhVYe7i6yNAax'}], 'available_markets': ['AD', 'AE', 'AR', 'AT', 'AU', 'BE', 'BG', 'BH', 'BO', 'BR', 'CA', 'CH', 'CL', 'CO', 'CR', 'CY', 'CZ', 'DE', 'DK', 'DO', 'DZ', 'EC', 'EE', 'EG', 'ES', 'FI', 'FR', 'GB', 'GR', 'GT', 'HK', 'HN', 'HU', 'ID', 'IE', 'IL', 'IN', 'IS', 'IT', 'JO', 'JP', 'KW', 'LB', 'LI', 'LT', 'LU', 'LV', 'MA', 'MC', 'MT', 'MX', 'MY', 'NI', 'NL', 'NO', 'NZ', 'OM', 'PA', 'PE', 'PH', 'PL', 'PS', 'PT', 'PY', 'QA', 'RO', 'SA', 'SE', 'SG', 'SK', 'SV', 'TH', 'TN', 'TR', 'TW', 'US', 'UY', 'VN', 'ZA'], 'disc_number': 1, 'duration_ms': 135338, 'explicit': True, 'external_ids': {'isrc': 'QMEU31908368'}, 'external_urls': {'spotify': 'https://open.spotify.com/track/5a1ofLoPiAn5xxf5UE6472'}, 'href': 'https://api.spotify.com/v1/tracks/5a1ofLoPiAn5xxf5UE6472', 'id': '5a1ofLoPiAn5xxf5UE6472', 'is_local': False, 'name': '!', 'popularity': 64, 'preview_url': 'https://p.scdn.co/mp3-preview/ebf94b73ee7d4bef9e0396d6d345d5c1bd5baa6f?cid=315d9bb0bc3b4185a32fe17738e40515', 'track_number': 1, 'type': 'track', 'uri': 'spotify:track:5a1ofLoPiAn5xxf5UE6472'}}\n"
     ]
    }
   ],
   "source": [
    "for i in range(1):\n",
    "    print(all_songs[i])"
   ]
  },
  {
   "cell_type": "code",
   "execution_count": 33,
   "metadata": {},
   "outputs": [],
   "source": [
    "a = {'added_at': '2019-08-11T21:52:33Z', 'track': {'album': {'album_type': 'album', 'artists': [{'external_urls': {'spotify': 'https://open.spotify.com/artist/6Xgp2XMz1fhVYe7i6yNAax'}, 'href': 'https://api.spotify.com/v1/artists/6Xgp2XMz1fhVYe7i6yNAax', 'id': '6Xgp2XMz1fhVYe7i6yNAax', 'name': 'Trippie Redd', 'type': 'artist', 'uri': 'spotify:artist:6Xgp2XMz1fhVYe7i6yNAax'}], 'available_markets': ['AD', 'AE', 'AR', 'AT', 'AU', 'BE', 'BG', 'BH', 'BO', 'BR', 'CA', 'CH', 'CL', 'CO', 'CR', 'CY', 'CZ', 'DE', 'DK', 'DO', 'DZ', 'EC', 'EE', 'EG', 'ES', 'FI', 'FR', 'GB', 'GR', 'GT', 'HK', 'HN', 'HU', 'ID', 'IE', 'IL', 'IN', 'IS', 'IT', 'JO', 'JP', 'KW', 'LB', 'LI', 'LT', 'LU', 'LV', 'MA', 'MC', 'MT', 'MX', 'MY', 'NI', 'NL', 'NO', 'NZ', 'OM', 'PA', 'PE', 'PH', 'PL', 'PS', 'PT', 'PY', 'QA', 'RO', 'SA', 'SE', 'SG', 'SK', 'SV', 'TH', 'TN', 'TR', 'TW', 'US', 'UY', 'VN', 'ZA'], 'external_urls': {'spotify': 'https://open.spotify.com/album/4YEhTvqsptB5D1n095QL5r'}, 'href': 'https://api.spotify.com/v1/albums/4YEhTvqsptB5D1n095QL5r', 'id': '4YEhTvqsptB5D1n095QL5r', 'images': [{'height': 640, 'url': 'https://i.scdn.co/image/51869c9da82229be00329902b15ab21c38232981', 'width': 640}, {'height': 300, 'url': 'https://i.scdn.co/image/f30d2c3da0f4e86423a1c570686362d020e658ad', 'width': 300}, {'height': 64, 'url': 'https://i.scdn.co/image/7c70938c9414ff49914467b3127a516f9bbbc826', 'width': 64}], 'name': '!', 'release_date': '2019-08-09', 'release_date_precision': 'day', 'total_tracks': 14, 'type': 'album', 'uri': 'spotify:album:4YEhTvqsptB5D1n095QL5r'}, 'artists': [{'external_urls': {'spotify': 'https://open.spotify.com/artist/6Xgp2XMz1fhVYe7i6yNAax'}, 'href': 'https://api.spotify.com/v1/artists/6Xgp2XMz1fhVYe7i6yNAax', 'id': '6Xgp2XMz1fhVYe7i6yNAax', 'name': 'Trippie Redd', 'type': 'artist', 'uri': 'spotify:artist:6Xgp2XMz1fhVYe7i6yNAax'}], 'available_markets': ['AD', 'AE', 'AR', 'AT', 'AU', 'BE', 'BG', 'BH', 'BO', 'BR', 'CA', 'CH', 'CL', 'CO', 'CR', 'CY', 'CZ', 'DE', 'DK', 'DO', 'DZ', 'EC', 'EE', 'EG', 'ES', 'FI', 'FR', 'GB', 'GR', 'GT', 'HK', 'HN', 'HU', 'ID', 'IE', 'IL', 'IN', 'IS', 'IT', 'JO', 'JP', 'KW', 'LB', 'LI', 'LT', 'LU', 'LV', 'MA', 'MC', 'MT', 'MX', 'MY', 'NI', 'NL', 'NO', 'NZ', 'OM', 'PA', 'PE', 'PH', 'PL', 'PS', 'PT', 'PY', 'QA', 'RO', 'SA', 'SE', 'SG', 'SK', 'SV', 'TH', 'TN', 'TR', 'TW', 'US', 'UY', 'VN', 'ZA'], 'disc_number': 1, 'duration_ms': 135338, 'explicit': True, 'external_ids': {'isrc': 'QMEU31908368'}, 'external_urls': {'spotify': 'https://open.spotify.com/track/5a1ofLoPiAn5xxf5UE6472'}, 'href': 'https://api.spotify.com/v1/tracks/5a1ofLoPiAn5xxf5UE6472', 'id': '5a1ofLoPiAn5xxf5UE6472', 'is_local': False, 'name': '!', 'popularity': 64, 'preview_url': 'https://p.scdn.co/mp3-preview/ebf94b73ee7d4bef9e0396d6d345d5c1bd5baa6f?cid=315d9bb0bc3b4185a32fe17738e40515', 'track_number': 1, 'type': 'track', 'uri': 'spotify:track:5a1ofLoPiAn5xxf5UE6472'}}"
   ]
  },
  {
   "cell_type": "code",
   "execution_count": 34,
   "metadata": {},
   "outputs": [
    {
     "name": "stdout",
     "output_type": "stream",
     "text": [
      "<class 'dict'>\n"
     ]
    }
   ],
   "source": [
    "print(type(a))"
   ]
  },
  {
   "cell_type": "code",
   "execution_count": 35,
   "metadata": {},
   "outputs": [],
   "source": [
    "cp.copy(json.dumps(a))"
   ]
  },
  {
   "cell_type": "code",
   "execution_count": null,
   "metadata": {},
   "outputs": [],
   "source": []
  }
 ],
 "metadata": {
  "kernelspec": {
   "display_name": "Python 3",
   "language": "python",
   "name": "python3"
  },
  "language_info": {
   "codemirror_mode": {
    "name": "ipython",
    "version": 3
   },
   "file_extension": ".py",
   "mimetype": "text/x-python",
   "name": "python",
   "nbconvert_exporter": "python",
   "pygments_lexer": "ipython3",
   "version": "3.7.0"
  }
 },
 "nbformat": 4,
 "nbformat_minor": 2
}
