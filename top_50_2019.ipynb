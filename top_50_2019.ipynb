{
 "cells": [
  {
   "cell_type": "code",
   "execution_count": 50,
   "metadata": {},
   "outputs": [],
   "source": [
    "import json\n",
    "import requests\n",
    "from furl import furl\n",
    "from math import ceil\n",
    "import pandas as pd\n",
    "import matplotlib\n",
    "import pyperclip as cp\n",
    "import pprint\n",
    "import time\n",
    "import heapq\n",
    "import base64\n",
    "import six\n",
    "import six.moves.urllib.parse as urllibparse\n",
    "\n",
    "%matplotlib inline\n",
    "import matplotlib.pyplot as plt"
   ]
  },
  {
   "cell_type": "code",
   "execution_count": 51,
   "metadata": {},
   "outputs": [],
   "source": [
    "def get_auth_code(url):\n",
    "    start = url.index('?')\n",
    "    end = url.index('&')\n",
    "    code = url[start + 6:end]\n",
    "    return code\n",
    "\n",
    "def create_auth_header(client_id, client_secret):\n",
    "    auth_header = base64.b64encode(six.text_type(client_id + ':' + client_secret).encode('ascii'))\n",
    "    return {'Authorization': 'Basic %s' % auth_header.decode('ascii')}"
   ]
  },
  {
   "cell_type": "code",
   "execution_count": 52,
   "metadata": {},
   "outputs": [
    {
     "name": "stdout",
     "output_type": "stream",
     "text": [
      "https://accounts.spotify.com/login?continue=https%3A%2F%2Faccounts.spotify.com%2Fauthorize%3Fclient_id%3De88d92c779fb4f2baf5f69a919db89ec%26response_type%3Dcode%26redirect_uri%3Dhttps%253A%252F%252Fexample.com%252Fcallback%252F%26state%3Dilovetocodelol%26scope%3Duser-top-read%2Buser-read-recently-played%2Buser-library-read%2Buser-library-modify%2Buser-read-playback-state%2Buser-read-currently-playing%2Buser-modify-playback-state%26show_dialog%3Dfalse\n"
     ]
    }
   ],
   "source": [
    "username = 'deeaw2ybwljjvzzv7sftosnqi'\n",
    "scope = \"user-top-read user-read-recently-played user-library-read user-library-modify user-read-playback-state user-read-currently-playing user-modify-playback-state\"\n",
    "client_id = 'e88d92c779fb4f2baf5f69a919db89ec'\n",
    "client_secret = 'e27b14511a554ea58a2b42d3b6ef5b15'\n",
    "redirect_uri = 'https://example.com/callback/'\n",
    "state = 'ilovetocodelol'\n",
    "\n",
    "auth_code_url = \"https://accounts.spotify.com/authorize\"\n",
    "auth_code_dict = {\"client_id\": client_id, \"response_type\": \"code\", \"redirect_uri\": redirect_uri, \"state\": state, \"scope\": scope, \"show_dialog\": \"false\"}\n",
    "\n",
    "auth_code_params = urllibparse.urlencode(auth_code_dict)\n",
    "                    \n",
    "get_response = requests.get(auth_code_url, params=auth_code_params)\n",
    "if get_response.status_code != 200:\n",
    "    print(\"Error:\", get_response.reason)\n",
    "    \n",
    "print(get_response.url)"
   ]
  },
  {
   "cell_type": "code",
   "execution_count": 54,
   "metadata": {},
   "outputs": [
    {
     "name": "stdout",
     "output_type": "stream",
     "text": [
      "BQBIH630pFnDb4bPMIBPlCspYdSqqANSF6irT6Sz6GoELlOW4P40f70_APk7_GClfhS7GLwm3KGd5hxmKZBiWKNWP5IaUnIK3wmayDzidRogzxPehguy-t6ZHhuIXyihUzLfy1E9MsZ7G8NV7ujgDz9tnnnFFEYCDNAZ6CzXJls1ZKiPd2qMQzmfkXIjxIUzYehi3ur9Lg\n"
     ]
    }
   ],
   "source": [
    "token_url = \"https://accounts.spotify.com/api/token\"\n",
    "get_response_url = \"https://example.com/callback/?code=AQCCf75fqJ9hrDKTvjBgm3WrWuBF_owAMgsuLF0dEo7YbG4I46XU5XoQQHzI01uXe_uo2W1IcLhoOELTSy0yx-exkTS-Swqz3ICOoWoTyn_s_PZZdgSmwVJom5yxO6a2Zdk8ldB5HiUvvwc7SzfWA6_9UVEyO5n_v8_MpDHhFDk2gqXm0w6ukoPI5Rkih8sW9-fr8n375_xr82h3sAVpMnkd-4zLIVLlE0485loTiMeoUCzQliLqisPadnPrM6FvmM3UlUlM-akiRKGDz-2_OmQVctSoD755HjO2cd0emLKgu4zotCsr_c5mepXfa9sBFhGO33fNk5EiK8etn-HcW0yZqYpMIvIR9lIEUHT-2AjgpQxm2Xkwu5o6J4EBU0mm9eJRnxZwcdMwRxLE0-zcRhzbeVCtnxAcD3c&state=ilovetocodelol\"\n",
    "token_data = {\"redirect_uri\": redirect_uri, \"code\": get_auth_code(get_response_url), \"grant_type\": \"authorization_code\", \"scope\": scope}\n",
    "token_headers = create_auth_header(client_id, client_secret)\n",
    "\n",
    "post_response = requests.post(token_url, data=token_data, headers=token_headers)\n",
    "\n",
    "if post_response.status_code != 200:\n",
    "    print(\"Error:\", post_response.reason)\n",
    "\n",
    "ACCESS_TOKEN = json.loads(post_response.text)[\"access_token\"]\n",
    "print(ACCESS_TOKEN)"
   ]
  },
  {
   "cell_type": "code",
   "execution_count": 55,
   "metadata": {},
   "outputs": [
    {
     "name": "stdout",
     "output_type": "stream",
     "text": [
      "Number of songs: 822\n"
     ]
    }
   ],
   "source": [
    "url = \"https://api.spotify.com/v1/me/tracks\"\n",
    "headers = {'Authorization': \"Bearer {}\".format(ACCESS_TOKEN)}\n",
    "tracks = requests.get(url, headers=headers)\n",
    "parsed = json.loads(tracks.text)\n",
    "cp.copy(tracks.text)\n",
    "\n",
    "count_songs = parsed[\"total\"]\n",
    "print(\"Number of songs: {}\".format(count_songs))"
   ]
  },
  {
   "cell_type": "code",
   "execution_count": 56,
   "metadata": {},
   "outputs": [
    {
     "name": "stdout",
     "output_type": "stream",
     "text": [
      "No responses failed.\n",
      "Number of gathered songs: 822\n"
     ]
    }
   ],
   "source": [
    "all_songs = []\n",
    "\n",
    "for i in range(int(ceil(count_songs/50.0))):\n",
    "    offset = 50*i\n",
    "    url = \"https://api.spotify.com/v1/me/tracks?limit=50&offset={}\".format(offset)\n",
    "    track_headers = {'Authorization': \"Bearer {}\".format(ACCESS_TOKEN)}\n",
    "    tracks = requests.get(url, headers=track_headers)\n",
    "    cp.copy(tracks.text)\n",
    "    parsed = json.loads(tracks.text)\n",
    "\n",
    "    all_songs.extend(parsed['items'])\n",
    "    \n",
    "try:\n",
    "    if (len(all_songs) == count_songs):\n",
    "        print(\"No responses failed.\")\n",
    "except:\n",
    "    print(\"Response from API failed.\")\n",
    "    \n",
    "print(\"Number of gathered songs: {}\".format(len(all_songs)))"
   ]
  },
  {
   "cell_type": "code",
   "execution_count": 57,
   "metadata": {},
   "outputs": [
    {
     "name": "stdout",
     "output_type": "stream",
     "text": [
      "Total songs: 822\n",
      "Total songs under 5 minutes: 737\n"
     ]
    }
   ],
   "source": [
    "songs_all = [(all_songs[i]['track']['popularity'], all_songs[i]['track']['name']) for i in range(len(all_songs))]\n",
    "songs_under_5 = [(all_songs[i]['track']['popularity'], all_songs[i]['track']['name']) for i in range(len(all_songs)) if all_songs[i]['track']['duration_ms'] <= 300000]    \n",
    "album_ids = {(all_songs[i]['track']['album']['name'], all_songs[i]['track']['album']['id']) \n",
    "             for i in range(len(all_songs))}\n",
    "\n",
    "print(\"Total songs:\", len(songs_all))\n",
    "print(\"Total songs under 5 minutes:\", len(songs_under_5))\n",
    "# print(album_ids)"
   ]
  },
  {
   "cell_type": "code",
   "execution_count": 58,
   "metadata": {},
   "outputs": [
    {
     "name": "stdout",
     "output_type": "stream",
     "text": [
      "('Flyaway', 0)\n",
      "('High for This', 0)\n",
      "('Might Not', 0)\n",
      "('Nonchalant', 0)\n",
      "('Starboy', 0)\n",
      "('What You Need', 0)\n",
      "('10AM/Save The World (feat. Gucci Mane)', 1)\n",
      "('Lesbian (feat. Gunna & Young Thug)', 1)\n",
      "('Only 1 (Interlude) (with Travis Scott)', 1)\n",
      "('Up To Something (feat. Travis Scott & Young Thug)', 1)\n",
      "('Wake Up', 1)\n",
      "('No Complaints (feat. Offset & Drake) (Bonus)', 2)\n",
      "('Only You (feat. WizKid, Offset & J Balvin)', 2)\n",
      "('Borrowed Love (feat. Swae Lee & WizKid)', 3)\n",
      "('Final Fantasy', 3)\n",
      "('No More (feat. Travis Scott, Kodak Black & 21 Savage)', 3)\n",
      "(\"Don't Come Out The House (with 21 Savage)\", 4)\n",
      "('Dreamcatcher (feat. Swae Lee & Travis Scott)', 4)\n",
      "('I Thought About Killing You', 4)\n",
      "('Is There More', 4)\n",
      "('No Mistakes', 4)\n",
      "('Overdue (with Travis Scott)', 4)\n",
      "('Ratchet Happy Birthday', 4)\n",
      "('8 Out Of 10', 5)\n",
      "('Blue Tint', 5)\n",
      "('Jaded', 5)\n",
      "('Peak', 5)\n",
      "('Sandra’s Rose', 5)\n",
      "('Summer Games', 5)\n",
      "('Survival', 5)\n",
      "('Talk Up', 5)\n",
      "('That’s How You Feel', 5)\n",
      "(\"Wouldn't Leave\", 5)\n",
      "('After Dark', 6)\n",
      "('Can’t Take A Joke', 6)\n",
      "('Finesse', 6)\n",
      "('10 Freaky Girls (with 21 Savage)', 7)\n",
      "('Elevate', 7)\n",
      "(\"I'm Upset\", 7)\n",
      "('EXACTLY WHAT YOU RUN FROM YOU END UP CHASING', 8)\n",
      "('Mob Ties', 8)\n",
      "('Nice For What', 8)\n",
      "('Space Cadet (feat. Gunna)', 8)\n",
      "('Violent Crimes', 8)\n",
      "('Ghost Town', 9)\n",
      "(\"God's Plan\", 9)\n",
      "('Yikes', 10)\n",
      "('All Mine', 12)\n",
      "('Nonstop', 14)\n",
      "('Mine', 15)\n"
     ]
    }
   ],
   "source": [
    "largest = heapq.nsmallest(50, songs_under_5)\n",
    "largest = [(key, value) for value, key in largest]\n",
    "for song in largest:\n",
    "    print(song)"
   ]
  },
  {
   "cell_type": "code",
   "execution_count": 14,
   "metadata": {},
   "outputs": [
    {
     "name": "stdout",
     "output_type": "stream",
     "text": [
      "('ASTROWORLD', '41GuZcammIkupMPKH2OJ6I')\n",
      "('!', '4YEhTvqsptB5D1n095QL5r')\n",
      "('Snow White', '6tvVlwo0u8wBCmRvLCJIXQ')\n",
      "('Suncity', '4UNwL1B7JoymNUiTFJa52B')\n",
      "('Blank Face LP', '0YbpATCIng8Fz2JrfHmEf7')\n",
      "('DAMN.', '4eLPsYPBmXABThSJ821sqY')\n",
      "('Una Mattina', '4aSt14A98gEpCUpKecrl4V')\n",
      "('Walking On A Dream', '04gYcIojJt78nYnN5oOrKt')\n",
      "('Black Panther The Album Music From And Inspired By', '3pLdWdkj83EYfDN6H2N8MR')\n",
      "('Marie Curie', '4m99RhYGgvz4CYOtVtXTaz')\n",
      "('End Credits', '5bbk7Mo2OiD6q5Bb52DIkC')\n",
      "('Better', '6Nd4PYvQ7aYid1Gn6sWgeG')\n",
      "('Views', '0G1ffjfFuTUTVjDrVdLimH')\n",
      "('i think you think too much of me', '7AVvQhnDEUidKyJsXmQ7ju')\n",
      "('Ramreaper', '3bz6yWBKeXKvSRpeJ6NyUn')\n",
      "('Floating', '73UyBWt2xMqRuP8RnbtgAH')\n",
      "('Future & Juice WRLD Present... WRLD ON DRUGS', '6P9PZjWXoCRF5b66BafPKY')\n",
      "('Nothing Was The Same (Deluxe)', '2gXTTQ713nCELgPOS0qWyt')\n",
      "('Trilogy', '5EbpxRwbbpCJUepbqVTZ1U')\n",
      "('Viva Hate [2011 - Remaster] (2011 Remastered Version)', '6t4LdKTNWIOr2PZIB8tiZF')\n",
      "('Katana', '56Xc3MPMf37InvPMBulRrU')\n",
      "('End Credits', '5eESUGzjysOJC0S2y2KwYn')\n",
      "('Take Care (Deluxe)', '6X1x82kppWZmDzlXXK3y3q')\n",
      "('TESTING', '3MATDdrpHmQCmuOcozZjDa')\n",
      "(\"It's You\", '40vQONzvJb6sKejDN3eWza')\n",
      "('88GLAM2', '1BgPkFMgud3lmEc6enZsjd')\n",
      "(\"There's Alot Going On\", '5ebtbHmQ7WZpgKtH8ir14W')\n",
      "('East Atlanta Love Letter', '3fc97ZWLIMc1xawhxbKrh2')\n",
      "('Scary Hours', '1r0DOIO0iC0bGpMtWRFdde')\n",
      "('Double Or Nothing (& Metro Boomin)', '0llyIxX3nDC3hobbGibVZl')\n",
      "('Say Less', '6BXDMsoy2zam0un1DTMp9U')\n",
      "('Views', '40GMAhriYJRO1rsY4YdrZb')\n",
      "('xx', '2rmMeEq5D1Bg7YFRwtHBDr')\n",
      "('Playboi Carti', '4rJgzzfFHAVFhCSt2P4I3j')\n",
      "('Call Me', '6fXNBfGXNT6dtmFKLN3iaI')\n",
      "('The Sunset Tapes: A Cool Tape Story', '5SEBhuhm9MbbRg3YOOuaCR')\n",
      "('beerbongs & bentleys', '6trNtQUgC8cgbWcqoMYkOR')\n",
      "('IGOR', '5zi7WsKlIiUXv09tbGLKsE')\n",
      "('Graduation', '3SZr5Pco2oqKFORCP3WNj9')\n",
      "('x (Wembley Edition)', '6NoBzYmh5gUusGPCfg0pct')\n",
      "('Huncho Jack, Jack Huncho', '6FED8aeieEnUWwQqAO9zT1')\n",
      "('GENERATIONWHY', '6Xhb46t8f3z8FkuXQAj4UV')\n",
      "('Sundae Sauuce Presents: Almond Milk', '2Qd2TfE00xkdUApNHxZUmi')\n",
      "('LoVE me NOw', '4QSsoW3XoitQA1NrfoCjwr')\n",
      "(\"If You're Reading This It's Too Late\", '0ptlfJfwGTy0Yvrk14JK1I')\n",
      "('Coloring Book', '71QyofYesSsRMwFOTafnhB')\n",
      "('Temperature', '3BULEIQayMoBKUaFbkLqae')\n",
      "('Drip Too Hard', '0LfKQSbicPG4QTTVkS0fes')\n",
      "('The Best Moment', '0NXTljF4e0Esqjhj1t1cfw')\n",
      "('Die Lit', '7dAm8ShwJLFm9SaJ6Yc58O')\n",
      "('NOT ALL HEROES WEAR CAPES', '1zNr37qd3iZJ899byrTkcj')\n",
      "('Currents', '79dL7FLiJFOO0EoehUHQBv')\n",
      "('Angel Youth', '3Zqe5icElI6gNEM9v3UpXN')\n",
      "('AT.LONG.LAST.A$AP', '3arNdjotCvtiiLFfjKngMc')\n",
      "('Nonchalant', '56kj2ke68JEW1ScJlmaAee')\n",
      "('NAV', '4JR29CNW14Zc4Z5vflxkoJ')\n",
      "('Freewave 3', '4PKdUHGtcJtsjhIaR4fjMk')\n",
      "('RECKLESS', '1hTrdWpdPEeXHQWc9GmpxZ')\n",
      "('Xxyyxx', '2RDqGoJDIPzROr1NnCNFOW')\n",
      "('Free Spirit', '6KT8x5oqZJl9CcnM66hddo')\n",
      "('iridescence', '3Mj4A4nNJzIdxOyS4yzOhj')\n",
      "('Mine', '5TR37lsXlmSmzFuIcXn5Dp')\n",
      "('Drip or Drown 2', '1oUzjom2A9xtyRM1SdOAGj')\n",
      "('Taste (feat. Offset)', '0yd01cU78rnlFXq6vRxPSR')\n",
      "('Space Oddity [Space Oddity 40th Anniversary Edition]', '5PfAboDCGnNBqBKnMyOLB7')\n",
      "('88GLAM2.5', '6JhWUtJleBE134LiNWq2a6')\n",
      "('Tha Carter V', '50yFYgKdwJANZ5O9MIbMkg')\n",
      "('Solstice', '4sqEJVNZx67onU8mzkunU7')\n",
      "('My Dear Melancholy,', '3N88bRVAwQrtKqSV0UgU69')\n",
      "('Analogue', '1SgtXskC74No0x9a9iDlfw')\n",
      "('Father Of Asahd', '1YgX8BWKleDlDeCOFklRfz')\n",
      "('SR3MM', '4vLYreWxd2ptOAzPwTyBI3')\n",
      "(\"Passion, Pain & Demon Slayin'\", '5bCk3kWAy2JbbTfHqzZCII')\n",
      "('Hoodie SZN', '3r5hf3Cj3EMh1C2saQ8jyt')\n",
      "('ye', '5EBGCvO6upi3GNknMVe9x9')\n",
      "('Blonde', '3mH6qwIy9crq0I9YQbOuDf')\n",
      "('Drip Season 3', '6caD9fY0HMXWCqg8uWL2vs')\n",
      "('KIDS SEE GHOSTS', '6pwuKxMUkNg673KETsXPUV')\n",
      "('Birds In The Trap Sing McKnight', '42WVQWuf1teDysXiOupIZt')\n",
      "('Sweeter Dreams', '1ymffRGbsJehIjcQ4qfVZT')\n",
      "('Gucci Gang', '6UI0o8rDZZ8ZHEG0shGjZB')\n",
      "('Rodeo (Expanded Edition)', '4PWBTB6NYSKQwfo79I3prg')\n",
      "('The Best In The World Pack', '00HZxSA1sOS9T3nA950sg4')\n",
      "('Currents B-Sides & Remixes', '04uXkrNhFJ1iWEo88MGPva')\n",
      "('Selcouth', '2lXnIs4McHfWLTn8kRsrE1')\n",
      "('Flyaway', '3goUmifjElC4pUPQMdLRH7')\n",
      "('Unfair (Full Version) / Been A While', '4j9EVqECBYHL0g9pUEOmIC')\n",
      "('i am > i was', '007DWn799UWvfY1wwZeENR')\n",
      "('Lemon (Edit)', '2xGzVkqqc7CFi74fAoIbAa')\n",
      "('FREE 6LACK', '7iwGw8ob3YLqZrbKzGFnHi')\n",
      "('Sanguine Paradise', '49K82qcZN4u109e6Zw8io1')\n",
      "('Scorpion', '2o9McLtDM7mbODV7yZF2mc')\n",
      "('Weeknd Screw Tape', '3dgU6IAKZ6Jupobva6YZRC')\n",
      "('Drip Harder', '2yXnY2NiaZk9QiJJittS81')\n",
      "('KOD', '4Wv5UAieM1LDEYVq5WmqDd')\n",
      "('Light Path 8', '7fzkvNhOaUDsihQRGLl1K9')\n"
     ]
    }
   ],
   "source": [
    "for album in album_ids:\n",
    "    print(album)"
   ]
  },
  {
   "cell_type": "code",
   "execution_count": 75,
   "metadata": {},
   "outputs": [],
   "source": [
    "from __future__ import division\n",
    "\n",
    "def get_top_music(type=\"artists\", limit=20, time_range=\"medium_term\", access_token=ACCESS_TOKEN):\n",
    "    url = \"https://api.spotify.com/v1/me/top/\"\n",
    "    if (type == \"artists\"):\n",
    "        url += \"artists\"\n",
    "    else:\n",
    "        url += \"tracks\"\n",
    "    \n",
    "    query_params={\"limit\": str(limit), \"offset\": \"0\", \"time_range\": time_range}\n",
    "    headers = {'Authorization': \"Bearer {}\".format(access_token)}\n",
    "    \n",
    "    top_tracks_and_artists = requests.get(url=url, params=query_params, headers=headers)\n",
    "    parsed = json.loads(top_tracks_and_artists.text)\n",
    "    items = parsed['items']\n",
    "\n",
    "    top_music = []\n",
    "    \n",
    "    if (type == \"artists\"):\n",
    "        for i in range(len(items)):\n",
    "            top_music.append([\"Rank: {}\".format(str(i+1)), items[i]['name'], int(items[i]['followers']['total']), items[i]['images'][0]['url']])\n",
    "    else:\n",
    "        for i in range(len(items)):\n",
    "            current_item = items[i]\n",
    "            artists = current_item['artists']\n",
    "            current_album = current_item['album']\n",
    "            length_of_song = str((current_item['duration_ms'] // 1000) // 60) + \"m \" + str((current_item['duration_ms'] // 1000) % 60) + \"s\"\n",
    "            top_music.append([\"Rank: {}\".format(str(i+1)), current_item['name'], \n",
    "                               [artists[j]['name'] for j in range(len(artists))], \n",
    "                               current_album['name'], length_of_song, current_album['release_date']])\n",
    "    return top_music\n"
   ]
  },
  {
   "cell_type": "code",
   "execution_count": 79,
   "metadata": {},
   "outputs": [
    {
     "name": "stdout",
     "output_type": "stream",
     "text": [
      "['Rank: 1', 'Drake', 39482817, 'https://i.scdn.co/image/012ecd119617ac24ab56620ace4b81735b172686']\n",
      "['Rank: 2', 'Tory Lanez', 2422117, 'https://i.scdn.co/image/319b5b30148cb0614be70f115b272afc18ea69c7']\n",
      "['Rank: 3', 'Playboi Carti', 2572849, 'https://i.scdn.co/image/d3c4c2a06332c88e967387b38177d17d20e2331b']\n",
      "['Rank: 4', 'NAV', 1501067, 'https://i.scdn.co/image/819c7e7c7126e367b35ff23e0653b1779069128f']\n",
      "['Rank: 5', 'The Weeknd', 16751636, 'https://i.scdn.co/image/a5fa0d35a5070867261d100b879cac028fe96775']\n",
      "['Rank: 6', '6LACK', 1713901, 'https://i.scdn.co/image/b7b33aaeac1367b35d9c74a53fc9cfbd38f79fee']\n",
      "['Rank: 7', 'Travis Scott', 6219435, 'https://i.scdn.co/image/dc5eba5e032c2e5bc4d42c89d61ffee5875c981f']\n",
      "['Rank: 8', 'A$AP Rocky', 5723276, 'https://i.scdn.co/image/cce607c4d975ae49d68b484eaef51a6413fa73b1']\n",
      "['Rank: 9', 'Khalid', 7774390, 'https://i.scdn.co/image/e52c824585bfeef4d674b509437120805300f557']\n",
      "['Rank: 10', 'Future', 7957688, 'https://i.scdn.co/image/d5ac5dc59664cf7c64795271602316dde494a6d1']\n",
      "['Rank: 11', 'XXXTENTACION', 14607471, 'https://i.scdn.co/image/942afa81f0a2298ead0c154fb7b4b606de48d9e6']\n",
      "['Rank: 12', 'Post Malone', 16270141, 'https://i.scdn.co/image/f9d8b742b66609f12da023c472c2685d455930ed']\n",
      "['Rank: 13', '88GLAM', 165967, 'https://i.scdn.co/image/589e9fb1c9041f44d96cf0e1571ce8d6ca176aff']\n",
      "['Rank: 14', 'Jaden', 876450, 'https://i.scdn.co/image/64829357ce5ba7e8e7d1aebf19fbde50a36cf885']\n",
      "['Rank: 15', 'EDEN', 630534, 'https://i.scdn.co/image/e1c162227fc61a168b4f87d0bfff278771e546f0']\n",
      "['Rank: 16', 'Kid Cudi', 3177831, 'https://i.scdn.co/image/e69bd60976fd81d1368adc34423c691d86f92e0d']\n",
      "['Rank: 17', 'Metro Boomin', 1399363, 'https://i.scdn.co/image/8986705c72b71411c261c0f9eb65b6a2c04cfe90']\n",
      "['Rank: 18', 'Kanye West', 10121988, 'https://i.scdn.co/image/a12d8543e28d71d9f1e7f5f363c1a6c73316f9e6']\n",
      "['Rank: 19', 'Trippie Redd', 3276991, 'https://i.scdn.co/image/18d243ea2cd23ad420c1afc8c6bb9f92e8fa5885']\n",
      "['Rank: 20', '21 Savage', 6495968, 'https://i.scdn.co/image/cfd6e47fbe4446750ec209dfa37bc919cb55c86f']\n",
      "['Rank: 21', 'Chance the Rapper', 4273923, 'https://i.scdn.co/image/0433f521b1fadf1d839b6e70c3914021f122901f']\n",
      "['Rank: 22', 'Logic', 3927112, 'https://i.scdn.co/image/efa0b73c2cdaf40b1767b4b1e1254b1cfc5b51db']\n",
      "['Rank: 23', 'Roy Woods', 599103, 'https://i.scdn.co/image/90cf2a39c62bc7b872b3aaa16fd4c15d4e1622a1']\n",
      "['Rank: 24', 'YBN Nahmir', 1713868, 'https://i.scdn.co/image/46924c8d74b2c8837be70dfc67c5146c897e8828']\n",
      "['Rank: 25', 'A$AP Mob', 1113278, 'https://i.scdn.co/image/fa30308f04ed43a632e19c24b7ac0b6162ce4cde']\n",
      "['Rank: 26', 'Ramriddlz', 68974, 'https://i.scdn.co/image/c45c2614b7003851eb920fc6cce7b824e86124a0']\n",
      "['Rank: 27', 'Rae Sremmurd', 5082748, 'https://i.scdn.co/image/7d6e7fa3946448178d50c8e3e42c517a6dd06aa1']\n",
      "['Rank: 28', 'Lil Uzi Vert', 6742498, 'https://i.scdn.co/image/a6dd2fabeba127e6eea02bd234545de91c44e604']\n",
      "['Rank: 29', 'Migos', 9167551, 'https://i.scdn.co/image/641e39b2092b6ae9553db60699fa1f8148c2f61b']\n",
      "['Rank: 30', 'J. Cole', 8923553, 'https://i.scdn.co/image/1e9eeefb2c94579150fc37916e8319b975ec8a52']\n",
      "['Rank: 31', 'Tame Impala', 2710540, 'https://i.scdn.co/image/d258f00c11f658bc5d3fbe0b5491200996836e86']\n",
      "['Rank: 32', 'Tyler, The Creator', 3167937, 'https://i.scdn.co/image/fe839f5bd121774e64f377b5eead237c69a01711']\n",
      "['Rank: 33', 'Lil Wayne', 8162443, 'https://i.scdn.co/image/3254e6574f08a55daaedceebd67f2721fffb57fe']\n",
      "['Rank: 34', 'Frank Ocean', 4618751, 'https://i.scdn.co/image/7db34c8aace6feb91f38601bb75e6b3301b4657a']\n",
      "['Rank: 35', 'Chase Atlantic', 301117, 'https://i.scdn.co/image/8b9e716ede032187fb4a5b2b75d9c5cf2438c6e8']\n",
      "['Rank: 36', 'Lil Baby', 2502053, 'https://i.scdn.co/image/98f92a703f2b66b30a66e561ef980583323fb9cc']\n",
      "['Rank: 37', 'Bryson Tiller', 3501754, 'https://i.scdn.co/image/17cb13828da84ff2e33f86b6984dab07b7ae66b6']\n",
      "['Rank: 38', 'Nicki Minaj', 15879931, 'https://i.scdn.co/image/4233ffd43c44fff4f1ffdcdf19484c94aa103ebd']\n",
      "['Rank: 39', 'Aminé', 985838, 'https://i.scdn.co/image/c1ec6da0896ff7efe6fd63ea6894c0bf44dbfaf6']\n",
      "['Rank: 40', 'Gucci Mane', 2811701, 'https://i.scdn.co/image/5cdd9e780c5cb1d547e34f18778cff07d57de18c']\n",
      "['Rank: 41', 'blackbear', 2239517, 'https://i.scdn.co/image/e578851857f939e5d18f045dc8c0340aec0cc81a']\n",
      "['Rank: 42', 'Gunna', 1258604, 'https://i.scdn.co/image/ec9841f2d8fd9f9a21dff3b2eba8c790b255b3e3']\n",
      "['Rank: 43', 'Juice WRLD', 5088634, 'https://i.scdn.co/image/d8e62447a338a882b490460da20e90aac6d60ae7']\n",
      "['Rank: 44', 'KIDS SEE GHOSTS', 320895, 'https://i.scdn.co/image/e7df5661e0e360ebbeb065a9b4fde3db73823729']\n",
      "['Rank: 45', 'Tyga', 4978680, 'https://i.scdn.co/image/25a8fb1bdf4dcca55654e24081ba8b2c98142d3e']\n",
      "['Rank: 46', 'Rich The Kid', 1712690, 'https://i.scdn.co/image/94ca70abceac0ba63fba54c9a3336532f754db57']\n",
      "['Rank: 47', 'The Beatles', 13001727, 'https://i.scdn.co/image/6fc6ac9af76d292a9cc55c7415ca0a7fb5b1d4ea']\n",
      "['Rank: 48', 'Daniel Caesar', 1459388, 'https://i.scdn.co/image/f9dbecfbec79585821a0058c96fde9a57b9c106c']\n",
      "['Rank: 49', 'Lil Skies', 2948502, 'https://i.scdn.co/image/4d947dce93a6f48a04f3c8c60a8b94cfccd6ca51']\n",
      "['Rank: 50', 'A Boogie Wit da Hoodie', 3210464, 'https://i.scdn.co/image/6a7ee0cf6328bfdd8b7fe441523dee08c9c1e542']\n"
     ]
    }
   ],
   "source": [
    "for artist in get_top_music(type=\"artists\", limit=50, time_range=\"long_term\"):\n",
    "    print(artist)"
   ]
  },
  {
   "cell_type": "code",
   "execution_count": 78,
   "metadata": {},
   "outputs": [
    {
     "name": "stdout",
     "output_type": "stream",
     "text": [
      "['Rank: 1', 'Let It Go', ['Playboi Carti'], 'Playboi Carti', '2m 30s', '2017-04-14']\n",
      "['Rank: 2', 'FlatBed Freestyle', ['Playboi Carti'], 'Die Lit', '3m 13s', '2018-05-11']\n",
      "['Rank: 3', 'Call Me', ['NAV', 'Metro Boomin'], 'Perfect Timing', '3m 35s', '2017-07-21']\n",
      "['Rank: 4', 'STARGAZING', ['Travis Scott'], 'ASTROWORLD', '4m 30s', '2018-08-03']\n",
      "['Rank: 5', 'ASTROTHUNDER', ['Travis Scott'], 'ASTROWORLD', '2m 22s', '2018-08-03']\n",
      "['Rank: 6', 'OTW', ['Khalid', '6LACK', 'Ty Dolla $ign'], 'OTW', '4m 23s', '2018-04-20']\n",
      "['Rank: 7', 'No Time (feat. Gunna)', ['Playboi Carti', 'Gunna'], 'Die Lit', '3m 39s', '2018-05-11']\n",
      "['Rank: 8', 'R.I.P. Fredo (feat. Young Nudy) - Notice Me', ['Playboi Carti', 'Young Nudy'], 'Die Lit', '2m 41s', '2018-05-11']\n",
      "['Rank: 9', 'R.I.P.', ['Playboi Carti'], 'Die Lit', '3m 12s', '2018-05-11']\n",
      "['Rank: 10', \"Why DON'T You LOVE me?\", ['Tory Lanez'], 'LoVE me NOw', '3m 32s', '2018-10-26']\n",
      "['Rank: 11', 'MiAMi (feat. Gunna)', ['Tory Lanez', 'Gunna'], 'LoVE me NOw', '4m 4s', '2018-10-26']\n",
      "['Rank: 12', 'Car Sick (feat. NAV & Metro Boomin)', ['Gunna', 'Metro Boomin', 'NAV'], 'Drip Season 3', '3m 39s', '2018-02-02']\n",
      "['Rank: 13', 'FeRRis WhEEL (feat. Trippie Redd)', ['Tory Lanez', 'Trippie Redd'], 'LoVE me NOw', '2m 31s', '2018-10-26']\n",
      "['Rank: 14', '66', ['Lil Yachty', 'Trippie Redd'], 'Lil Boat 2', '2m 33s', '2018-03-09']\n",
      "['Rank: 15', 'Motorcycle Patches', ['Huncho Jack', 'Travis Scott', 'Quavo'], 'Huncho Jack, Jack Huncho', '3m 11s', '2017-12-21']\n",
      "['Rank: 16', 'Location', ['Playboi Carti'], 'Playboi Carti', '2m 48s', '2017-04-14']\n",
      "['Rank: 17', 'Snow Globe (feat. NAV) - Remix', ['88GLAM', 'NAV'], '88GLAM2.5', '3m 57s', '2019-04-12']\n",
      "['Rank: 18', 'rock + roll', ['EDEN'], 'i think you think too much of me', '4m 56s', '2016-08-19']\n",
      "['Rank: 19', 'Perry Aye', ['A$AP Mob', 'A$AP Rocky', 'A$AP Nast', 'Playboi Carti', 'Jaden'], 'Cozy Tapes Vol. 2: Too Cozy', '2m 26s', '2017-08-25']\n",
      "['Rank: 20', 'Marie Curie', ['Pi’erre Bourne'], 'Marie Curie', '3m 25s', '2018-07-31']\n",
      "['Rank: 21', 'Cudi Montage', ['KIDS SEE GHOSTS'], 'KIDS SEE GHOSTS', '3m 17s', '2018-06-08']\n",
      "['Rank: 22', 'Fukk Sleep', ['A$AP Rocky', 'FKA twigs'], 'TESTING', '3m 12s', '2018-05-25']\n",
      "['Rank: 23', 'Moonlight', ['XXXTENTACION'], '?', '2m 15s', '2018-03-16']\n",
      "['Rank: 24', 'OG Beeper', ['A$AP Rocky'], 'TESTING', '2m 35s', '2018-05-25']\n",
      "['Rank: 25', 'Hurt You', ['The Weeknd', 'Gesaffelstein'], 'My Dear Melancholy,', '3m 50s', '2018-03-30']\n",
      "['Rank: 26', 'Cutting Ties', ['6LACK'], 'Cutting Ties', '4m 21s', '2018-02-14']\n",
      "['Rank: 27', 'Over Now', ['Post Malone'], 'beerbongs & bentleys', '4m 6s', '2018-04-27']\n",
      "['Rank: 28', 'In My Feelings', ['Drake'], 'Scorpion', '3m 37s', '2018-06-29']\n",
      "['Rank: 29', 'Mile High (feat. Travis Scott & Metro Boomin)', ['James Blake', 'Travis Scott', 'Metro Boomin'], 'Assume Form', '3m 13s', '2019-01-18']\n",
      "['Rank: 30', 'Sorry', ['6LACK'], 'East Atlanta Love Letter', '3m 30s', '2018-09-14']\n",
      "['Rank: 31', 'Inxanity', ['$teven Cannon'], 'Inxanity', '2m 24s', '2017-07-27']\n",
      "['Rank: 32', 'Nonstop', ['Drake'], 'Scorpion', '3m 58s', '2018-06-29']\n",
      "['Rank: 33', 'Mileage (feat. Chief Keef)', ['Playboi Carti', 'Chief Keef'], 'Die Lit', '2m 29s', '2018-05-11']\n",
      "['Rank: 34', 'Minute', ['NAV', 'Metro Boomin', 'Playboi Carti', 'Offset'], 'Perfect Timing', '4m 25s', '2017-07-21']\n",
      "['Rank: 35', 'Freshman List', ['NAV'], 'Freshman List', '3m 6s', '2018-03-16']\n",
      "['Rank: 36', 'Wala Cam', ['Chance the Rapper', 'Supa Bwe', 'Forever Band'], 'Wala Cam', '3m 36s', '2018-07-17']\n",
      "['Rank: 37', 'Reckless Intro', ['NAV'], 'RECKLESS', '2m 22s', '2018-05-18']\n",
      "['Rank: 38', 'Look Alive (feat. Drake)', ['BlocBoy JB', 'Drake'], 'Look Alive (feat. Drake)', '3m 1s', '2018-02-09']\n",
      "['Rank: 39', 'Long Time - Intro', ['Playboi Carti'], 'Die Lit', '3m 31s', '2018-05-11']\n",
      "['Rank: 40', 'Safe Freestyle', ['SAFE'], 'Safe Freestyle', '1m 29s', '2019-01-23']\n",
      "['Rank: 41', 'Too Much', ['Drake', 'Sampha'], 'Nothing Was The Same (Deluxe)', '4m 21s', '2013-01-01']\n",
      "['Rank: 42', 'Switch', ['6LACK'], 'Switch', '3m 27s', '2018-06-22']\n",
      "['Rank: 43', 'Praise The Lord (Da Shine) (feat. Skepta)', ['A$AP Rocky', 'Skepta'], 'TESTING', '3m 25s', '2018-05-25']\n",
      "['Rank: 44', 'Neighbor (feat. Travis Scott)', ['Juicy J', 'Travis Scott'], 'Neighbor (feat. Travis Scott)', '2m 42s', '2018-09-26']\n",
      "['Rank: 45', 'Pretty Little Fears (feat. J. Cole)', ['6LACK', 'J. Cole'], 'East Atlanta Love Letter', '4m 0s', '2018-09-14']\n",
      "['Rank: 46', 'Don’t Matter To Me', ['Drake', 'Michael Jackson'], 'Scorpion', '4m 5s', '2018-06-29']\n",
      "['Rank: 47', 'Balenciaga Challenge (feat. Offset)', ['6LACK', 'Offset'], 'East Atlanta Love Letter', '3m 7s', '2018-09-14']\n",
      "['Rank: 48', 'Love/Paranoia', ['Tame Impala'], 'Currents', '3m 5s', '2015-07-17']\n",
      "['Rank: 49', 'Paid In Full', ['SAFE', 'Playboi Carti'], 'Paid In Full', '3m 22s', '2019-04-05']\n",
      "['Rank: 50', 'GHOST', ['Jaden', 'Christian Rich'], 'GHOST', '2m 9s', '2018-06-22']\n"
     ]
    }
   ],
   "source": [
    "for track in get_top_music(type=\"tracks\", limit=50, time_range=\"long_term\"):\n",
    "    print(track)"
   ]
  },
  {
   "cell_type": "code",
   "execution_count": null,
   "metadata": {},
   "outputs": [],
   "source": []
  }
 ],
 "metadata": {
  "kernelspec": {
   "display_name": "Python 3",
   "language": "python",
   "name": "python3"
  },
  "language_info": {
   "codemirror_mode": {
    "name": "ipython",
    "version": 3
   },
   "file_extension": ".py",
   "mimetype": "text/x-python",
   "name": "python",
   "nbconvert_exporter": "python",
   "pygments_lexer": "ipython3",
   "version": "3.7.0"
  }
 },
 "nbformat": 4,
 "nbformat_minor": 2
}
