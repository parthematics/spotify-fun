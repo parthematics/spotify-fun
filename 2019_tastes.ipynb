{
 "cells": [
  {
   "cell_type": "code",
   "execution_count": 1,
   "metadata": {},
   "outputs": [],
   "source": [
    "import spotipy\n",
    "from spotipy.oauth2 import SpotifyClientCredentials\n",
    "import sys\n",
    "import spotipy.util as util\n",
    "import pandas as pd\n",
    "import numpy as np\n",
    "import json\n",
    "\n",
    "from sklearn import tree\n",
    "from sklearn.tree import DecisionTreeClassifier\n",
    "from sklearn.model_selection import train_test_split\n",
    "\n",
    "from matplotlib import pyplot as plt\n",
    "import seaborn as sns"
   ]
  },
  {
   "cell_type": "code",
   "execution_count": 7,
   "metadata": {},
   "outputs": [
    {
     "name": "stdout",
     "output_type": "stream",
     "text": [
      "BQCWYTEfs0Wr6O97UIsj0016uKHYrDWYiAARxmRuPssF_dGk0JhqQzh3bRvbBy_PNwwYZS_RNbJFg7ldpBhbecxugqeQMXwrEhLUQwPBZbi7cJ45xBOHdNokbFXxdZnVD8oqUzPmVMwKOFuMb6aOY2FsuyE2g4PQl0IjsWfRwN51GIXhLnH0GomjbkmKMVL4qOj5kdzJbQ\n"
     ]
    }
   ],
   "source": [
    "username = 'deeaw2ybwljjvzzv7sftosnqi'\n",
    "scope = \"user-top-read user-read-recently-played user-library-read user-library-modify user-read-playback-state user-read-currently-playing user-modify-playback-state\"\n",
    "client_id = '315d9bb0bc3b4185a32fe17738e40515'\n",
    "client_secret = 'acf052f2d26d49eaa3b9aa341ee37e8f'\n",
    "redirect_uri = 'https://example.com/callback/'\n",
    "\n",
    "client_credentials_manager = SpotifyClientCredentials(client_id=client_id, client_secret=client_secret) \n",
    "token = util.prompt_for_user_token(username, scope, client_id, client_secret, redirect_uri)\n",
    "\n",
    "if token:\n",
    "    sp = spotipy.Spotify(auth=token)\n",
    "else:\n",
    "    print(\"Can't get token for\", username)"
   ]
  },
  {
   "cell_type": "code",
   "execution_count": 3,
   "metadata": {},
   "outputs": [],
   "source": [
    "def show_tracks(tracks):\n",
    "    for i, item in enumerate(tracks['items']):\n",
    "        track = item['track']\n",
    "        print(\"   %d %32.32s %s\" % (i, track['artists'][0]['name'], track['name']))"
   ]
  },
  {
   "cell_type": "code",
   "execution_count": 4,
   "metadata": {},
   "outputs": [
    {
     "name": "stdout",
     "output_type": "stream",
     "text": [
      "\n",
      "garlic\n",
      "  total tracks 67\n",
      "   0                         Joshua J Lock My Door\n",
      "   1                             Kina Get You The Moon (feat. Snøw)\n",
      "   2                         Forrest. Sunday\n",
      "   3                       Myke Bogan Pickathon\n",
      "   4                       Mac Miller Self Care\n",
      "   5                            OZZIE Flowers\n",
      "   6                      Beach House Master of None\n",
      "   7                      Beach House Space Song\n",
      "   8                      Mac DeMarco Hey Cowgirl\n",
      "   9                      JULiA LEWiS Pink and Blue (feat. BOSCO, DUCKWRTH & Jay Anthony)\n",
      "   10                  Amindi K. Fro$t Pine & Ginger\n",
      "   11                          FINNEAS Let's Fall in Love for the Night\n",
      "   12                           Sondai One Chick\n",
      "   13                           Ayelle Obvious\n",
      "   14                            Savon PERCEPTION\n",
      "   15                     Diana Gordon Wolverine\n",
      "   16                           Amilli Rarri\n",
      "   17                            keshi like i need u\n",
      "   18                      EYUKALIPTUS Recrd\n",
      "   19                             Cuco CR-V\n",
      "   20          Nicotine's Famous Honey The First Time\n",
      "   21                       Steve Lacy N Side\n",
      "   22                      Mac DeMarco Nobody\n",
      "   23           Ski Mask The Slump God So High\n",
      "   24                       Eli Sostre When the Night Comes\n",
      "   25                      Pink Sweat$ Body Aint Me\n",
      "   26                      Mac DeMarco Chamber Of Reflection\n",
      "   27                             SAFE Safe Freestyle\n",
      "   28                             SAFE Paid In Full\n",
      "   29                      Tame Impala List Of People (To Try And Forget About)\n",
      "   30                           Khalid Don't Pretend\n",
      "   31                            6LACK Sorry\n",
      "   32                       Ed Sheeran I Don't Care (with Justin Bieber)\n",
      "   33                      Mac DeMarco Heart To Heart\n",
      "   34                        blackbear 1 SIDED LOVE\n",
      "   35                           Khalid Outta My Head (with John Mayer)\n",
      "   36                      Yung Vatorè Solitude\n",
      "   37                             EDEN rock + roll\n",
      "   38                      Mac DeMarco All Of Our Yesterdays\n",
      "   39                            j'san The Best Moment\n",
      "   40                        Morrissey We'll Let You Know\n",
      "   41                     Aya Nakamura Djadja\n",
      "   42                   Taylor Bennett NO ONE OUTSIDE\n",
      "   43                         Spencer. Want U Back\n",
      "   44                       Ed Sheeran Cross Me (feat. Chance the Rapper & PnB Rock)\n",
      "   45                      Chris Brown No Guidance (feat. Drake)\n",
      "   46                  Kacey Musgraves Butterflies\n",
      "   47                         GoldLink Days Like This (feat. Khalid)\n",
      "   48                             P!nk Hurts 2B Human (feat. Khalid)\n",
      "   49                       Rajitheone HIT A LICK\n",
      "   50                       Rajitheone HAPPY HOUR\n",
      "   51                       Rajitheone #WhiteGirlVoice\n",
      "   52                       Toro y Moi Monte Carlo (feat. WET)\n",
      "   53                       Toro y Moi 50-50 (feat. Instupendo)\n",
      "   54                       John Mayer In Your Atmosphere - Live at the Nokia Theatre, Los Angeles, CA - December 2007\n",
      "   55                        Ali Gatie It's You\n",
      "   56        落日飛車 Sunset Rollercoaster My Jinji\n",
      "   57                       Ed Sheeran Beautiful People (feat. Khalid)\n",
      "   58                            Jaden Summertime In Paris\n",
      "   59                      The Bonfyre U Say (feat. 6LACK)\n",
      "   60                           WILLOW Wait a Minute!\n",
      "   61                     Majid Jordan Caught Up (feat. Khalid)\n",
      "   62                             EDEN Circles\n",
      "   63                      Alex Lustig In the End\n",
      "   64                           WILLOW Female Energy, Part 2\n",
      "   65                             ODIE Little Lies\n",
      "   66                       Ed Sheeran Antisocial (with Travis Scott)\n",
      "\n",
      "ROAM\n",
      "  total tracks 1\n",
      "   0                       Tory Lanez MiAMi (feat. Gunna)\n"
     ]
    }
   ],
   "source": [
    "playlists = sp.user_playlists(username)\n",
    "# app_json = json.dumps(playlists)\n",
    "# print(app_json)\n",
    "for playlist in playlists['items']:\n",
    "    if playlist['owner']['id'] == username:\n",
    "        print()\n",
    "        print(playlist['name'])\n",
    "        print('  total tracks', playlist['tracks']['total'])\n",
    "        results = sp.user_playlist(username, playlist['id'],\n",
    "            fields=\"tracks,next\")\n",
    "        tracks = results['tracks']\n",
    "        show_tracks(tracks)\n",
    "        while tracks['next']:\n",
    "            tracks = sp.next(tracks)\n",
    "            show_tracks(tracks)"
   ]
  },
  {
   "cell_type": "code",
   "execution_count": 5,
   "metadata": {},
   "outputs": [
    {
     "ename": "SpotifyException",
     "evalue": "http status: 403, code:-1 - https://api.spotify.com/v1/me/following?type=artist&limit=20:\n Insufficient client scope",
     "output_type": "error",
     "traceback": [
      "\u001b[0;31m---------------------------------------------------------------------------\u001b[0m",
      "\u001b[0;31mHTTPError\u001b[0m                                 Traceback (most recent call last)",
      "\u001b[0;32m/usr/local/lib/python3.7/site-packages/spotipy/client.py\u001b[0m in \u001b[0;36m_internal_call\u001b[0;34m(self, method, url, payload, params)\u001b[0m\n\u001b[1;32m    118\u001b[0m         \u001b[0;32mtry\u001b[0m\u001b[0;34m:\u001b[0m\u001b[0;34m\u001b[0m\u001b[0m\n\u001b[0;32m--> 119\u001b[0;31m             \u001b[0mr\u001b[0m\u001b[0;34m.\u001b[0m\u001b[0mraise_for_status\u001b[0m\u001b[0;34m(\u001b[0m\u001b[0;34m)\u001b[0m\u001b[0;34m\u001b[0m\u001b[0m\n\u001b[0m\u001b[1;32m    120\u001b[0m         \u001b[0;32mexcept\u001b[0m\u001b[0;34m:\u001b[0m\u001b[0;34m\u001b[0m\u001b[0m\n",
      "\u001b[0;32m~/Library/Python/3.7/lib/python/site-packages/requests/models.py\u001b[0m in \u001b[0;36mraise_for_status\u001b[0;34m(self)\u001b[0m\n\u001b[1;32m    934\u001b[0m         \u001b[0;32mif\u001b[0m \u001b[0mhttp_error_msg\u001b[0m\u001b[0;34m:\u001b[0m\u001b[0;34m\u001b[0m\u001b[0m\n\u001b[0;32m--> 935\u001b[0;31m             \u001b[0;32mraise\u001b[0m \u001b[0mHTTPError\u001b[0m\u001b[0;34m(\u001b[0m\u001b[0mhttp_error_msg\u001b[0m\u001b[0;34m,\u001b[0m \u001b[0mresponse\u001b[0m\u001b[0;34m=\u001b[0m\u001b[0mself\u001b[0m\u001b[0;34m)\u001b[0m\u001b[0;34m\u001b[0m\u001b[0m\n\u001b[0m\u001b[1;32m    936\u001b[0m \u001b[0;34m\u001b[0m\u001b[0m\n",
      "\u001b[0;31mHTTPError\u001b[0m: 403 Client Error: Forbidden for url: https://api.spotify.com/v1/me/following?type=artist&limit=20",
      "\nDuring handling of the above exception, another exception occurred:\n",
      "\u001b[0;31mSpotifyException\u001b[0m                          Traceback (most recent call last)",
      "\u001b[0;32m<ipython-input-5-ed0889034a7f>\u001b[0m in \u001b[0;36m<module>\u001b[0;34m()\u001b[0m\n\u001b[0;32m----> 1\u001b[0;31m \u001b[0mprint\u001b[0m\u001b[0;34m(\u001b[0m\u001b[0msp\u001b[0m\u001b[0;34m.\u001b[0m\u001b[0mcurrent_user_followed_artists\u001b[0m\u001b[0;34m(\u001b[0m\u001b[0mlimit\u001b[0m\u001b[0;34m=\u001b[0m\u001b[0;36m20\u001b[0m\u001b[0;34m,\u001b[0m \u001b[0mafter\u001b[0m\u001b[0;34m=\u001b[0m\u001b[0;32mNone\u001b[0m\u001b[0;34m)\u001b[0m\u001b[0;34m)\u001b[0m\u001b[0;34m\u001b[0m\u001b[0m\n\u001b[0m",
      "\u001b[0;32m/usr/local/lib/python3.7/site-packages/spotipy/client.py\u001b[0m in \u001b[0;36mcurrent_user_followed_artists\u001b[0;34m(self, limit, after)\u001b[0m\n\u001b[1;32m    605\u001b[0m         '''\n\u001b[1;32m    606\u001b[0m         return self._get('me/following', type='artist', limit=limit,\n\u001b[0;32m--> 607\u001b[0;31m                          after=after)\n\u001b[0m\u001b[1;32m    608\u001b[0m \u001b[0;34m\u001b[0m\u001b[0m\n\u001b[1;32m    609\u001b[0m     \u001b[0;32mdef\u001b[0m \u001b[0mcurrent_user_saved_tracks_delete\u001b[0m\u001b[0;34m(\u001b[0m\u001b[0mself\u001b[0m\u001b[0;34m,\u001b[0m \u001b[0mtracks\u001b[0m\u001b[0;34m=\u001b[0m\u001b[0;32mNone\u001b[0m\u001b[0;34m)\u001b[0m\u001b[0;34m:\u001b[0m\u001b[0;34m\u001b[0m\u001b[0m\n",
      "\u001b[0;32m/usr/local/lib/python3.7/site-packages/spotipy/client.py\u001b[0m in \u001b[0;36m_get\u001b[0;34m(self, url, args, payload, **kwargs)\u001b[0m\n\u001b[1;32m    144\u001b[0m         \u001b[0;32mwhile\u001b[0m \u001b[0mretries\u001b[0m \u001b[0;34m>\u001b[0m \u001b[0;36m0\u001b[0m\u001b[0;34m:\u001b[0m\u001b[0;34m\u001b[0m\u001b[0m\n\u001b[1;32m    145\u001b[0m             \u001b[0;32mtry\u001b[0m\u001b[0;34m:\u001b[0m\u001b[0;34m\u001b[0m\u001b[0m\n\u001b[0;32m--> 146\u001b[0;31m                 \u001b[0;32mreturn\u001b[0m \u001b[0mself\u001b[0m\u001b[0;34m.\u001b[0m\u001b[0m_internal_call\u001b[0m\u001b[0;34m(\u001b[0m\u001b[0;34m'GET'\u001b[0m\u001b[0;34m,\u001b[0m \u001b[0murl\u001b[0m\u001b[0;34m,\u001b[0m \u001b[0mpayload\u001b[0m\u001b[0;34m,\u001b[0m \u001b[0mkwargs\u001b[0m\u001b[0;34m)\u001b[0m\u001b[0;34m\u001b[0m\u001b[0m\n\u001b[0m\u001b[1;32m    147\u001b[0m             \u001b[0;32mexcept\u001b[0m \u001b[0mSpotifyException\u001b[0m \u001b[0;32mas\u001b[0m \u001b[0me\u001b[0m\u001b[0;34m:\u001b[0m\u001b[0;34m\u001b[0m\u001b[0m\n\u001b[1;32m    148\u001b[0m                 \u001b[0mretries\u001b[0m \u001b[0;34m-=\u001b[0m \u001b[0;36m1\u001b[0m\u001b[0;34m\u001b[0m\u001b[0m\n",
      "\u001b[0;32m/usr/local/lib/python3.7/site-packages/spotipy/client.py\u001b[0m in \u001b[0;36m_internal_call\u001b[0;34m(self, method, url, payload, params)\u001b[0m\n\u001b[1;32m    122\u001b[0m                 raise SpotifyException(r.status_code,\n\u001b[1;32m    123\u001b[0m                     \u001b[0;34m-\u001b[0m\u001b[0;36m1\u001b[0m\u001b[0;34m,\u001b[0m \u001b[0;34m'%s:\\n %s'\u001b[0m \u001b[0;34m%\u001b[0m \u001b[0;34m(\u001b[0m\u001b[0mr\u001b[0m\u001b[0;34m.\u001b[0m\u001b[0murl\u001b[0m\u001b[0;34m,\u001b[0m \u001b[0mr\u001b[0m\u001b[0;34m.\u001b[0m\u001b[0mjson\u001b[0m\u001b[0;34m(\u001b[0m\u001b[0;34m)\u001b[0m\u001b[0;34m[\u001b[0m\u001b[0;34m'error'\u001b[0m\u001b[0;34m]\u001b[0m\u001b[0;34m[\u001b[0m\u001b[0;34m'message'\u001b[0m\u001b[0;34m]\u001b[0m\u001b[0;34m)\u001b[0m\u001b[0;34m,\u001b[0m\u001b[0;34m\u001b[0m\u001b[0m\n\u001b[0;32m--> 124\u001b[0;31m                     headers=r.headers)\n\u001b[0m\u001b[1;32m    125\u001b[0m             \u001b[0;32melse\u001b[0m\u001b[0;34m:\u001b[0m\u001b[0;34m\u001b[0m\u001b[0m\n\u001b[1;32m    126\u001b[0m                 raise SpotifyException(r.status_code,\n",
      "\u001b[0;31mSpotifyException\u001b[0m: http status: 403, code:-1 - https://api.spotify.com/v1/me/following?type=artist&limit=20:\n Insufficient client scope"
     ]
    }
   ],
   "source": [
    "print(sp.current_user_followed_artists(limit=20, after=None))"
   ]
  },
  {
   "cell_type": "code",
   "execution_count": null,
   "metadata": {},
   "outputs": [],
   "source": []
  }
 ],
 "metadata": {
  "kernelspec": {
   "display_name": "Python 3",
   "language": "python",
   "name": "python3"
  },
  "language_info": {
   "codemirror_mode": {
    "name": "ipython",
    "version": 3
   },
   "file_extension": ".py",
   "mimetype": "text/x-python",
   "name": "python",
   "nbconvert_exporter": "python",
   "pygments_lexer": "ipython3",
   "version": "3.7.0"
  }
 },
 "nbformat": 4,
 "nbformat_minor": 2
}
