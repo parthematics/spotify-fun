{
 "cells": [
  {
   "cell_type": "code",
   "execution_count": 7,
   "metadata": {},
   "outputs": [],
   "source": [
    "import json\n",
    "import requests\n",
    "import six\n",
    "import six.moves.urllib.parse as urllibparse\n",
    "import pandas as pd\n",
    "import matplotlib\n",
    "import pyperclip as cp\n",
    "from math import ceil\n",
    "import heapq\n",
    "import base64\n",
    "\n",
    "%matplotlib inline\n",
    "import matplotlib.pyplot as plt"
   ]
  },
  {
   "cell_type": "code",
   "execution_count": 8,
   "metadata": {},
   "outputs": [],
   "source": [
    "def get_auth_code(url):\n",
    "    start = url.index('?')\n",
    "    end = url.index('&')\n",
    "    code = url[start + 6:end]\n",
    "    return code\n",
    "\n",
    "def create_auth_header(client_id, client_secret):\n",
    "    auth_header = base64.b64encode(six.text_type(client_id + ':' + client_secret).encode('ascii'))\n",
    "    return {'Authorization': 'Basic %s' % auth_header.decode('ascii')}"
   ]
  },
  {
   "cell_type": "code",
   "execution_count": 9,
   "metadata": {},
   "outputs": [
    {
     "name": "stdout",
     "output_type": "stream",
     "text": [
      "https://accounts.spotify.com/login?continue=https%3A%2F%2Faccounts.spotify.com%2Fauthorize%3Fclient_id%3D66cd3e7af76e433486f0df965e20e25c%26response_type%3Dcode%26redirect_uri%3Dhttps%253A%252F%252Fexample.com%252Fcallback%252F%26state%3Dkrish%26scope%3Duser-top-read%2Buser-read-recently-played%2Bplaylist-modify-public%2Buser-library-read%2Buser-library-modify%2Buser-read-playback-state%2Buser-read-currently-playing%2Buser-modify-playback-state%26show_dialog%3Dfalse\n"
     ]
    }
   ],
   "source": [
    "username = '99e5678q6fmxtbkbeaxhn7oxt'\n",
    "scope = \"user-top-read user-read-recently-played playlist-modify-public user-library-read user-library-modify user-read-playback-state user-read-currently-playing user-modify-playback-state\"\n",
    "client_id = '66cd3e7af76e433486f0df965e20e25c'\n",
    "client_secret = '152030c0f9674428b7fe98332d5cc807'\n",
    "redirect_uri = 'https://example.com/callback/'\n",
    "state = 'krish'\n",
    "\n",
    "auth_code_url = \"https://accounts.spotify.com/authorize\"\n",
    "auth_code_dict = {\"client_id\": client_id, \"response_type\": \"code\", \"redirect_uri\": redirect_uri, \"state\": state, \"scope\": scope, \"show_dialog\": \"false\"}\n",
    "\n",
    "auth_code_params = urllibparse.urlencode(auth_code_dict)\n",
    "                    \n",
    "get_response = requests.get(auth_code_url, params=auth_code_params)\n",
    "if get_response.status_code != 200:\n",
    "    print(\"Error:\", get_response.reason)\n",
    "    \n",
    "print(get_response.url)"
   ]
  },
  {
   "cell_type": "code",
   "execution_count": 10,
   "metadata": {},
   "outputs": [
    {
     "name": "stdout",
     "output_type": "stream",
     "text": [
      "BQAtOxp8jGhTm8lehN3fHM-2tPKivIn4uvzK-XfViAS4VKkPBcWZJMo9BNxyEbMW16XjtBPtZmbx1uedcJLH54dH-5qYB4jnhhPtOUvBdEao74EeMOS_nxYa9rS9Ge7cO4Ld3ZskYl0aXHTMCnk1tQ1Js1Qp9natOx3wZJokViF3HEdgWOgo2l9oX4DJiXflBMTPR8nsBz4gmoajCS7NCaU8Kd7Nyhj24l73Umo\n"
     ]
    }
   ],
   "source": [
    "token_url = \"https://accounts.spotify.com/api/token\"\n",
    "get_response_url = \"https://example.com/callback/?code=AQDrq69ppsCaN8JYOre3kv1G0wVgZs1N1iQ7ZB9FuaCx6wtDoBtjrti_QyzLkInt8s39R2wbJvfJyQbPsXmP_7tpSuxaSw3GHoouzTG4hp5mWauzMxeXLb-UEbkUe-SNaf-ZbGHIRqU8T9-4K53OeoIZrRJgp7QxCqskSTtJJu7qTQetL2KbJcRym2_LhNKelG0Ot_chtq5nOJmq6P6XRzWUkiRST6CQk_X-f1_oMKbPf9wASiRGcLa4SGRAI48KhmIVGeSH9BcXBAsS68kcy5ovahmfQZmghP6ptLKulscLIYuaIeGtospS1MKMimr7zyJuxFaaG7pT4P84CMfX-8Unowsmu5QKqfVB6nmwezwoKWsP6iNPgWvQnIr8YjWWZC6FGFKphm0qLkZ4PzfuNMYz8HnEQFTm8cIanwfjSCE2HUAPF-fU-XeGdS4R2rVAxp4&state=krish\"\n",
    "token_data = {\"redirect_uri\": redirect_uri, \"code\": get_auth_code(get_response_url), \"grant_type\": \"authorization_code\", \"scope\": scope}\n",
    "token_headers = create_auth_header(client_id, client_secret)\n",
    "\n",
    "post_response = requests.post(token_url, data=token_data, headers=token_headers)\n",
    "\n",
    "if post_response.status_code != 200:\n",
    "    print(\"Error:\", post_response.reason)\n",
    "\n",
    "ACCESS_TOKEN = json.loads(post_response.text)[\"access_token\"]\n",
    "print(ACCESS_TOKEN)"
   ]
  },
  {
   "cell_type": "code",
   "execution_count": 11,
   "metadata": {},
   "outputs": [
    {
     "name": "stdout",
     "output_type": "stream",
     "text": [
      "Number of songs: 528\n"
     ]
    }
   ],
   "source": [
    "url = \"https://api.spotify.com/v1/me/tracks\"\n",
    "headers = {'Authorization': \"Bearer {}\".format(ACCESS_TOKEN)}\n",
    "tracks = requests.get(url, headers=headers)\n",
    "parsed = json.loads(tracks.text)\n",
    "cp.copy(tracks.text)\n",
    "\n",
    "count_songs = parsed[\"total\"]\n",
    "print(\"Number of songs: {}\".format(count_songs))"
   ]
  },
  {
   "cell_type": "code",
   "execution_count": 12,
   "metadata": {},
   "outputs": [
    {
     "name": "stdout",
     "output_type": "stream",
     "text": [
      "No responses failed.\n",
      "Number of gathered songs: 528\n"
     ]
    }
   ],
   "source": [
    "all_songs = []\n",
    "\n",
    "for i in range(int(ceil(count_songs/50.0))):\n",
    "    offset = 50*i\n",
    "    url = \"https://api.spotify.com/v1/me/tracks?limit=50&offset={}\".format(offset)\n",
    "    track_headers = {'Authorization': \"Bearer {}\".format(ACCESS_TOKEN)}\n",
    "    tracks = requests.get(url, headers=track_headers)\n",
    "    cp.copy(tracks.text)\n",
    "    parsed = json.loads(tracks.text)\n",
    "\n",
    "    all_songs.extend(parsed['items'])\n",
    "    \n",
    "try:\n",
    "    if (len(all_songs) == count_songs):\n",
    "        print(\"No responses failed.\")\n",
    "except:\n",
    "    print(\"Response from API failed.\")\n",
    "    \n",
    "print(\"Number of gathered songs: {}\".format(len(all_songs)))"
   ]
  },
  {
   "cell_type": "code",
   "execution_count": 13,
   "metadata": {},
   "outputs": [
    {
     "name": "stdout",
     "output_type": "stream",
     "text": [
      "Total songs: 528\n",
      "Total songs under 5 minutes: 516\n"
     ]
    }
   ],
   "source": [
    "songs_all = [(all_songs[i]['track']['popularity'], all_songs[i]['track']['name']) for i in range(len(all_songs))]\n",
    "songs_under_5 = [(all_songs[i]['track']['popularity'], all_songs[i]['track']['name']) for i in range(len(all_songs)) if all_songs[i]['track']['duration_ms'] <= 300000]    \n",
    "album_ids = {(all_songs[i]['track']['album']['name'], all_songs[i]['track']['album']['id']) \n",
    "             for i in range(len(all_songs))}\n",
    "\n",
    "print(\"Total songs:\", len(songs_all))\n",
    "print(\"Total songs under 5 minutes:\", len(songs_under_5))"
   ]
  },
  {
   "cell_type": "code",
   "execution_count": 14,
   "metadata": {},
   "outputs": [
    {
     "name": "stdout",
     "output_type": "stream",
     "text": [
      "('Kyrie', 0)\n",
      "('Chanel (feat. Swae Lee & Pharrell) - From Jxmtro', 1)\n",
      "('Clout (feat. 21 Savage)', 1)\n",
      "('Diplomatic Immunity', 2)\n",
      "('Pineapple (feat. Gucci Mane & Quavo)', 2)\n",
      "('Tired of Love', 2)\n",
      "('No More (feat. Travis Scott, Kodak Black & 21 Savage)', 3)\n",
      "('Nonchalant', 3)\n",
      "('Bounce Out With That', 4)\n",
      "('Dreamcatcher (feat. Swae Lee & Travis Scott)', 4)\n"
     ]
    }
   ],
   "source": [
    "largest = heapq.nsmallest(10, songs_under_5)\n",
    "largest = [(key, value) for value, key in largest]\n",
    "for song in largest:\n",
    "    print(song)"
   ]
  },
  {
   "cell_type": "code",
   "execution_count": 15,
   "metadata": {},
   "outputs": [
    {
     "name": "stdout",
     "output_type": "stream",
     "text": [
      "('7 EP', '4IRiXE5NROxknUSAUSjMoO')\n",
      "('100 Shooters (feat. Meek Mill & Doe Boy)', '5M1abRnhUWaLZdgd29gQ6M')\n",
      "('Va Bene (Extrait de la BOF de \"Taxi 5\")', '4dJTCpetg56FrxROQ4dKvv')\n",
      "('More Life', '4dvkEfxroInqojJWP06R2V')\n",
      "('Freaky', '3GZxORgeTp5jEIUPUNBu7F')\n",
      "('No Complaints', '4VXEIoFGEjhFMW7wYAvWSf')\n",
      "('Scorpion', '2o9McLtDM7mbODV7yZF2mc')\n",
      "('Pure Water (with Migos)', '1ypNy6o0C2ZbuuPPYkavVl')\n",
      "('Wow.', '5Dcz8PZHKuvTyjbqEPL5VM')\n",
      "('Show U Off (feat. Lil Uzi Vert)', '2WyjmS6PEAE2V9oh5So588')\n"
     ]
    }
   ],
   "source": [
    "count = 0\n",
    "for item in album_ids:\n",
    "    if (count < 10):\n",
    "        print(item)\n",
    "        count += 1\n",
    "    else:\n",
    "        break"
   ]
  },
  {
   "cell_type": "code",
   "execution_count": 16,
   "metadata": {},
   "outputs": [],
   "source": [
    "from __future__ import division\n",
    "\n",
    "def get_top_music(type=\"artists\", limit=20, time_range=\"medium_term\", offset=\"0\", access_token=ACCESS_TOKEN):\n",
    "    url = \"https://api.spotify.com/v1/me/top/\"\n",
    "    if (type == \"artists\"):\n",
    "        url += \"artists\"\n",
    "    else:\n",
    "        url += \"tracks\"\n",
    "    \n",
    "    query_params = {\"limit\": str(limit), \"offset\": offset, \"time_range\": time_range}\n",
    "    headers = {'Authorization': \"Bearer {}\".format(access_token)}\n",
    "    \n",
    "    top_tracks_and_artists = requests.get(url=url, params=query_params, headers=headers)\n",
    "    parsed = json.loads(top_tracks_and_artists.text)\n",
    "    items = parsed['items']\n",
    "\n",
    "    top_music = []\n",
    "    \n",
    "    if (type == \"artists\"):\n",
    "        for i in range(len(items)):\n",
    "            top_music.append([\"Rank: {}\".format(str(i+1)), items[i]['name'], int(items[i]['followers']['total']), items[i]['images'][0]['url']])\n",
    "    else:\n",
    "        for i in range(len(items)):\n",
    "            current_item = items[i]\n",
    "            artists = current_item['artists']\n",
    "            current_album = current_item['album']\n",
    "            length_of_song = str((current_item['duration_ms'] // 1000) // 60) + \"m \" + str((current_item['duration_ms'] // 1000) % 60) + \"s\"\n",
    "            top_music.append([\"Rank: {}\".format(str(i+1)), current_item['name'], \n",
    "                               [artists[j]['name'] for j in range(len(artists))], \n",
    "                               current_album['name'], length_of_song, current_album['release_date'], current_item['uri']])\n",
    "    return top_music\n",
    "    "
   ]
  },
  {
   "cell_type": "code",
   "execution_count": 17,
   "metadata": {},
   "outputs": [],
   "source": [
    "def get_top_genres(artist_limit=50, genre_limit=10, time_range=\"medium_term\", offset=\"0\", access_token=ACCESS_TOKEN):\n",
    "    url = \"https://api.spotify.com/v1/me/top/artists\"\n",
    "    all_genres = {}\n",
    "    \n",
    "    query_params = {\"limit\": str(artist_limit), \"offset\": offset, \"time_range\": time_range}\n",
    "    headers = {'Authorization': \"Bearer {}\".format(access_token)}\n",
    "    \n",
    "    top_tracks_and_artists = requests.get(url=url, params=query_params, headers=headers)\n",
    "    parsed = json.loads(top_tracks_and_artists.text)\n",
    "    items = parsed['items']\n",
    "    \n",
    "    for i in range(len(items)):\n",
    "        genres = items[i]['genres']\n",
    "        for genre in genres:\n",
    "            if genre not in all_genres.keys():\n",
    "                all_genres[genre] = 1\n",
    "            else:\n",
    "                all_genres[genre] += 1\n",
    "                \n",
    "    heap = [[value, key.upper()] for key, value in all_genres.items()]\n",
    "    largest = heapq.nlargest(genre_limit, heap)\n",
    "        \n",
    "    return largest"
   ]
  },
  {
   "cell_type": "code",
   "execution_count": 19,
   "metadata": {},
   "outputs": [
    {
     "name": "stdout",
     "output_type": "stream",
     "text": [
      "['Rank: 1', 'Pi’erre Bourne', 90126, 'https://i.scdn.co/image/52492b2ebf7587a21678f6aa3cb8ff5428391235']\n",
      "['Rank: 2', 'Ed Sheeran', 48880173, 'https://i.scdn.co/image/f55cab0739390cf3b2c2f773b9c779b2f0ae8a99']\n",
      "['Rank: 3', '21 Savage', 6498947, 'https://i.scdn.co/image/cfd6e47fbe4446750ec209dfa37bc919cb55c86f']\n",
      "['Rank: 4', 'NAV', 1501935, 'https://i.scdn.co/image/819c7e7c7126e367b35ff23e0653b1779069128f']\n",
      "['Rank: 5', 'DJ Snake', 5362404, 'https://i.scdn.co/image/4c684a7c0a70d1f506595739c14f8a76ebef6687']\n",
      "['Rank: 6', 'Trippie Redd', 3279808, 'https://i.scdn.co/image/18d243ea2cd23ad420c1afc8c6bb9f92e8fa5885']\n",
      "['Rank: 7', 'iann dior', 99841, 'https://i.scdn.co/image/99aed49720354b73035cb96502fdc092f5f385a1']\n",
      "['Rank: 8', 'Future', 7959083, 'https://i.scdn.co/image/d5ac5dc59664cf7c64795271602316dde494a6d1']\n",
      "['Rank: 9', 'Lil Uzi Vert', 6746039, 'https://i.scdn.co/image/a6dd2fabeba127e6eea02bd234545de91c44e604']\n",
      "['Rank: 10', 'Travis Scott', 6222884, 'https://i.scdn.co/image/dc5eba5e032c2e5bc4d42c89d61ffee5875c981f']\n",
      "['Rank: 11', 'Lil Tecca', 299214, 'https://i.scdn.co/image/87b4d40e2c756869e2264ce9b5899956f8011405']\n",
      "['Rank: 12', 'Mustard', 443863, 'https://i.scdn.co/image/4dcf713a3bc309590381ecf718be7d5b1b8f0f61']\n",
      "['Rank: 13', 'Gunna', 1260011, 'https://i.scdn.co/image/ec9841f2d8fd9f9a21dff3b2eba8c790b255b3e3']\n",
      "['Rank: 14', 'Jaden', 877038, 'https://i.scdn.co/image/64829357ce5ba7e8e7d1aebf19fbde50a36cf885']\n",
      "['Rank: 15', 'Gucci Mane', 2812437, 'https://i.scdn.co/image/5cdd9e780c5cb1d547e34f18778cff07d57de18c']\n",
      "['Rank: 16', 'Young Thug', 4237933, 'https://i.scdn.co/image/51017d9dd6802774f26f191cc9e69a873f0b9a21']\n",
      "['Rank: 17', 'Playboi Carti', 2574689, 'https://i.scdn.co/image/d3c4c2a06332c88e967387b38177d17d20e2331b']\n",
      "['Rank: 18', 'Drake', 39501499, 'https://i.scdn.co/image/012ecd119617ac24ab56620ace4b81735b172686']\n",
      "['Rank: 19', 'DaBaby', 635181, 'https://i.scdn.co/image/a62c2a9bb360ac452a1eada60f49ab81c2d8ec9c']\n",
      "['Rank: 20', 'Rae Sremmurd', 5084542, 'https://i.scdn.co/image/7d6e7fa3946448178d50c8e3e42c517a6dd06aa1']\n",
      "['Rank: 21', 'Khalid', 7785221, 'https://i.scdn.co/image/e52c824585bfeef4d674b509437120805300f557']\n",
      "['Rank: 22', 'Tory Lanez', 2423021, 'https://i.scdn.co/image/319b5b30148cb0614be70f115b272afc18ea69c7']\n",
      "['Rank: 23', 'Lil Baby', 2504583, 'https://i.scdn.co/image/98f92a703f2b66b30a66e561ef980583323fb9cc']\n",
      "['Rank: 24', 'Lil Nas X', 810763, 'https://i.scdn.co/image/12d5ab979779aa41e697ce823328d527e643e4cf']\n",
      "['Rank: 25', 'Metro Boomin', 1400425, 'https://i.scdn.co/image/8986705c72b71411c261c0f9eb65b6a2c04cfe90']\n"
     ]
    }
   ],
   "source": [
    "for artist in get_top_music(type=\"artists\", limit=25, time_range=\"long_term\"):\n",
    "    print(artist)"
   ]
  },
  {
   "cell_type": "code",
   "execution_count": 27,
   "metadata": {},
   "outputs": [
    {
     "name": "stdout",
     "output_type": "stream",
     "text": [
      "Rank: 1 Negative Energy | A Love Letter To You 3\n",
      "Rank: 2 Maps | V\n",
      "Rank: 3 Murda (feat. Trippie Redd) | Decided\n",
      "Rank: 4 gone girl | gone girl\n",
      "Rank: 5 1000 Nights (feat. Meek Mill & A Boogie Wit da Hoodie) | No.6 Collaborations Project\n",
      "Rank: 6 Goin Baby | Baby On Baby\n",
      "Rank: 7 ICE (feat. Gunna & Lil Baby) | Delusions of Grandeur\n",
      "Rank: 8 Noticed | Northsbest (Extended)\n",
      "Rank: 9 Elisa's Theme | The Shape Of Water (Original Motion Picture Soundtrack)\n",
      "Rank: 10 Fall Threw (feat. Young Thug & Gunna) | The World Is Yours 2\n",
      "Rank: 11 Same Yung Nigga (feat. Playboi Carti) | Drip or Drown 2\n",
      "Rank: 12 Tum Hi Ho | Aashiqui 2\n",
      "Rank: 13 Paradise | Luv Is Rage\n",
      "Rank: 14 Bossanova | Bossanova\n",
      "Rank: 15 Feeling | Death Race For Love\n",
      "Rank: 16 Ice Tray | Quality Control: Control The Streets Volume 1\n",
      "Rank: 17 Call You Mine | World War Joy\n",
      "Rank: 18 The Theory of Everything | The Theory of Everything (Original Motion Picture Soundtrack)\n",
      "Rank: 19 Suge | Baby On Baby\n",
      "Rank: 20 CUDDLE MY WRIST | BEASTMODE 2\n",
      "Rank: 21 Juice | The Life Of Pi'erre 4\n",
      "Rank: 22 emotions | nothings ever good enough\n",
      "Rank: 23 what is real | what is real\n",
      "Rank: 24 In The Garden - Recorded at Spotify Studios NYC | Spotify Singles\n",
      "Rank: 25 Swag Flu | Swag Flu\n"
     ]
    }
   ],
   "source": [
    "for track in get_top_music(type=\"tracks\", limit=25, time_range=\"short_term\"):\n",
    "    print(track[0], track[1], \"|\", track[3])"
   ]
  },
  {
   "cell_type": "code",
   "execution_count": 28,
   "metadata": {},
   "outputs": [
    {
     "name": "stdout",
     "output_type": "stream",
     "text": [
      "[27, 'RAP']\n",
      "[25, 'POP']\n",
      "[22, 'TRAP MUSIC']\n",
      "[18, 'POP RAP']\n",
      "[12, 'HIP HOP']\n",
      "[11, 'SOUTHERN HIP HOP']\n",
      "[9, 'ATL HIP HOP']\n",
      "[5, 'UNDERGROUND HIP HOP']\n",
      "[5, 'CANADIAN HIP HOP']\n",
      "[4, 'TORONTO RAP']\n",
      "[3, 'VAPOR TRAP']\n",
      "[3, 'EDM']\n",
      "[3, 'DANCE POP']\n",
      "[2, 'UK POP']\n",
      "[2, 'TROPICAL HOUSE']\n",
      "[2, 'TRAP SOUL']\n",
      "[2, 'R&B']\n",
      "[2, 'CANADIAN POP']\n",
      "[2, 'CALI RAP']\n",
      "[2, 'ATL TRAP']\n"
     ]
    }
   ],
   "source": [
    "for genre in get_top_genres(genre_limit=20, time_range=\"long_term\"):\n",
    "    print(genre)"
   ]
  },
  {
   "cell_type": "code",
   "execution_count": 29,
   "metadata": {},
   "outputs": [
    {
     "data": {
      "text/plain": [
       "True"
      ]
     },
     "execution_count": 29,
     "metadata": {},
     "output_type": "execute_result"
    }
   ],
   "source": [
    "user_id = \"99e5678q6fmxtbkbeaxhn7oxt\"\n",
    "playlists_url = \"https://api.spotify.com/v1/users/{}/playlists\".format(user_id)\n",
    "\n",
    "body_params = {\"name\": \"code\", \"public\": \"true\", \"collaborative\": \"false\", \"description\": \"finally, a playlist with songs you never have to skip\"}\n",
    "header_fields = {'Authorization': \"Bearer {}\".format(ACCESS_TOKEN), \"Content-Type\": \"application/json\"}\n",
    "\n",
    "new_playlist = requests.post(playlists_url, data=json.dumps(body_params), headers=header_fields)\n",
    "new_playlist.ok"
   ]
  },
  {
   "cell_type": "code",
   "execution_count": 30,
   "metadata": {},
   "outputs": [
    {
     "data": {
      "text/plain": [
       "True"
      ]
     },
     "execution_count": 30,
     "metadata": {},
     "output_type": "execute_result"
    }
   ],
   "source": [
    "parsed = json.loads(new_playlist.text)\n",
    "playlist_id = parsed['id']\n",
    "update_playlist_url = \"https://api.spotify.com/v1/playlists/{}/tracks\".format(playlist_id)\n",
    "\n",
    "top_tracks = get_top_music(type=\"tracks\", limit=50, offset=\"0\", time_range=\"medium_term\")\n",
    "top_tracks.pop()\n",
    "top_tracks.extend(get_top_music(type=\"tracks\", limit=26, offset=\"49\", time_range=\"medium_term\"))\n",
    "\n",
    "uris = [track[6] for track in top_tracks]\n",
    "\n",
    "body_params = {\"uris\": uris}\n",
    "header_fields = {'Authorization': \"Bearer {}\".format(ACCESS_TOKEN), \"Content-Type\": \"application/json\"}\n",
    "\n",
    "updated_playlist = requests.post(update_playlist_url, data=json.dumps(body_params), headers=header_fields)\n",
    "updated_playlist.ok"
   ]
  },
  {
   "cell_type": "code",
   "execution_count": null,
   "metadata": {},
   "outputs": [],
   "source": []
  }
 ],
 "metadata": {
  "kernelspec": {
   "display_name": "Python 3",
   "language": "python",
   "name": "python3"
  },
  "language_info": {
   "codemirror_mode": {
    "name": "ipython",
    "version": 3
   },
   "file_extension": ".py",
   "mimetype": "text/x-python",
   "name": "python",
   "nbconvert_exporter": "python",
   "pygments_lexer": "ipython3",
   "version": "3.7.0"
  }
 },
 "nbformat": 4,
 "nbformat_minor": 2
}
