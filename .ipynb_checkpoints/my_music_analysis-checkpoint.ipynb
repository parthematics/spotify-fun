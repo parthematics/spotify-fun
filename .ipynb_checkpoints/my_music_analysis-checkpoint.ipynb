{
 "cells": [
  {
   "cell_type": "code",
   "execution_count": 1,
   "metadata": {},
   "outputs": [],
   "source": [
    "import json\n",
    "import requests\n",
    "import six\n",
    "import six.moves.urllib.parse as urllibparse\n",
    "import pandas as pd\n",
    "import matplotlib\n",
    "from math import ceil\n",
    "import pyperclip as cp\n",
    "import heapq\n",
    "import base64\n",
    "\n",
    "%matplotlib inline\n",
    "import matplotlib.pyplot as plt"
   ]
  },
  {
   "cell_type": "code",
   "execution_count": 2,
   "metadata": {},
   "outputs": [],
   "source": [
    "def get_auth_code(url):\n",
    "    start = url.index('?')\n",
    "    end = url.index('&')\n",
    "    code = url[start + 6:end]\n",
    "    return code\n",
    "\n",
    "def create_auth_header(client_id, client_secret):\n",
    "    auth_header = base64.b64encode(six.text_type(client_id + ':' + client_secret).encode('ascii'))\n",
    "    return {'Authorization': 'Basic %s' % auth_header.decode('ascii')}"
   ]
  },
  {
   "cell_type": "code",
   "execution_count": 3,
   "metadata": {},
   "outputs": [
    {
     "name": "stdout",
     "output_type": "stream",
     "text": [
      "https://accounts.spotify.com/login?continue=https%3A%2F%2Faccounts.spotify.com%2Fauthorize%3Fclient_id%3De88d92c779fb4f2baf5f69a919db89ec%26response_type%3Dcode%26redirect_uri%3Dhttps%253A%252F%252Fexample.com%252Fcallback%252F%26state%3Dilovetocodelol%26scope%3Duser-top-read%2Buser-read-recently-played%2Bplaylist-modify-public%2Buser-library-read%2Buser-library-modify%2Buser-read-playback-state%2Buser-read-currently-playing%2Buser-modify-playback-state%26show_dialog%3Dfalse\n"
     ]
    }
   ],
   "source": [
    "username = 'deeaw2ybwljjvzzv7sftosnqi'\n",
    "scope = \"user-top-read user-read-recently-played playlist-modify-public user-library-read user-library-modify user-read-playback-state user-read-currently-playing user-modify-playback-state\"\n",
    "client_id = 'e88d92c779fb4f2baf5f69a919db89ec'\n",
    "client_secret = 'e27b14511a554ea58a2b42d3b6ef5b15'\n",
    "redirect_uri = 'https://example.com/callback/'\n",
    "state = 'ilovetocodelol'\n",
    "\n",
    "auth_code_url = \"https://accounts.spotify.com/authorize\"\n",
    "auth_code_dict = {\"client_id\": client_id, \"response_type\": \"code\", \"redirect_uri\": redirect_uri, \"state\": state, \"scope\": scope, \"show_dialog\": \"false\"}\n",
    "\n",
    "auth_code_params = urllibparse.urlencode(auth_code_dict)\n",
    "                    \n",
    "get_response = requests.get(auth_code_url, params=auth_code_params)\n",
    "if get_response.status_code != 200:\n",
    "    print(\"Error:\", get_response.reason)\n",
    "    \n",
    "print(get_response.url)"
   ]
  },
  {
   "cell_type": "code",
   "execution_count": 4,
   "metadata": {},
   "outputs": [
    {
     "name": "stdout",
     "output_type": "stream",
     "text": [
      "BQBW6P88asOjgD7b8FD5zz9Lm5SVXi5Su5fGrE9F_PZSQPhx_Rj1DveBpMRYeEv_F6NyKHjG2XZSKpMQmgxpSEoDl9pIYdV66V-R7hL24KmmTDJBJgD_j85D4eFnHZxtYgpuKkFF_WmnaQU9q8SyPDMkhNnFacYayoIB4L3BgN00hdozyTtm01rArJjCECckFTffpZk1GLu7NF_HGGNFPylBOUrBgzkz9M10kxE\n"
     ]
    }
   ],
   "source": [
    "token_url = \"https://accounts.spotify.com/api/token\"\n",
    "get_response_url = \"https://example.com/callback/?code=AQDKI4GNAtfm4aMpeRyllEMUpRZGTXdpSoKtZnDmTBClOKqtZJzNwwMhv4Vt7m49VOp5K_wMgzRNj-uolDlhQbMV9YATyIs6JNAxw6E2aGgf3TV9hhEpbl9pthFcknHDz7Mc1WKQwljBoEtevXdf3PVqGSMsy5MWgayKUofdMOrMKWhVSNj3U_L1-iQvn08aY7zW9fUjUku2UaDUbT9x5PAWIMWzrpUX-csxS8udQbnqdy42w8xcXmRw9uodxQ6HlHIrc2QCGpKhRxU_oBM3jnKAF1CuZNAO3rrcKaKLjYywzjKoKitjmg6RWmMjiUate5z3syNb9d92DmMtllcUVFAp0myy-Gxe6UDhdutJAEAsrZXMMEfATCXOR-ife3cw8OUmX7Xc12LHYdSbH-ckQ_u46hzN8B9fLi6K4weSWzgiwsWZvqY09eM7A0g4oHetmtg&state=ilovetocodelol\"\n",
    "token_data = {\"redirect_uri\": redirect_uri, \"code\": get_auth_code(get_response_url), \"grant_type\": \"authorization_code\", \"scope\": scope}\n",
    "token_headers = create_auth_header(client_id, client_secret)\n",
    "\n",
    "post_response = requests.post(token_url, data=token_data, headers=token_headers)\n",
    "\n",
    "if post_response.status_code != 200:\n",
    "    print(\"Error:\", post_response.reason)\n",
    "\n",
    "ACCESS_TOKEN = json.loads(post_response.text)[\"access_token\"]\n",
    "print(ACCESS_TOKEN)"
   ]
  },
  {
   "cell_type": "code",
   "execution_count": 5,
   "metadata": {},
   "outputs": [
    {
     "name": "stdout",
     "output_type": "stream",
     "text": [
      "Number of songs: 822\n"
     ]
    }
   ],
   "source": [
    "url = \"https://api.spotify.com/v1/me/tracks\"\n",
    "headers = {'Authorization': \"Bearer {}\".format(ACCESS_TOKEN)}\n",
    "tracks = requests.get(url, headers=headers)\n",
    "parsed = json.loads(tracks.text)\n",
    "cp.copy(tracks.text)\n",
    "\n",
    "count_songs = parsed[\"total\"]\n",
    "print(\"Number of songs: {}\".format(count_songs))"
   ]
  },
  {
   "cell_type": "code",
   "execution_count": 6,
   "metadata": {},
   "outputs": [
    {
     "name": "stdout",
     "output_type": "stream",
     "text": [
      "No responses failed.\n",
      "Number of gathered songs: 822\n"
     ]
    }
   ],
   "source": [
    "all_songs = []\n",
    "\n",
    "for i in range(int(ceil(count_songs/50.0))):\n",
    "    offset = 50*i\n",
    "    url = \"https://api.spotify.com/v1/me/tracks?limit=50&offset={}\".format(offset)\n",
    "    track_headers = {'Authorization': \"Bearer {}\".format(ACCESS_TOKEN)}\n",
    "    tracks = requests.get(url, headers=track_headers)\n",
    "    cp.copy(tracks.text)\n",
    "    parsed = json.loads(tracks.text)\n",
    "\n",
    "    all_songs.extend(parsed['items'])\n",
    "    \n",
    "try:\n",
    "    if (len(all_songs) == count_songs):\n",
    "        print(\"No responses failed.\")\n",
    "except:\n",
    "    print(\"Response from API failed.\")\n",
    "    \n",
    "print(\"Number of gathered songs: {}\".format(len(all_songs)))"
   ]
  },
  {
   "cell_type": "code",
   "execution_count": 7,
   "metadata": {},
   "outputs": [
    {
     "name": "stdout",
     "output_type": "stream",
     "text": [
      "Total songs: 822\n",
      "Total songs under 5 minutes: 737\n"
     ]
    }
   ],
   "source": [
    "songs_all = [(all_songs[i]['track']['popularity'], all_songs[i]['track']['name']) for i in range(len(all_songs))]\n",
    "songs_under_5 = [(all_songs[i]['track']['popularity'], all_songs[i]['track']['name']) for i in range(len(all_songs)) if all_songs[i]['track']['duration_ms'] <= 300000]    \n",
    "album_ids = {(all_songs[i]['track']['album']['name'], all_songs[i]['track']['album']['id']) \n",
    "             for i in range(len(all_songs))}\n",
    "\n",
    "print(\"Total songs:\", len(songs_all))\n",
    "print(\"Total songs under 5 minutes:\", len(songs_under_5))"
   ]
  },
  {
   "cell_type": "code",
   "execution_count": 8,
   "metadata": {},
   "outputs": [
    {
     "name": "stdout",
     "output_type": "stream",
     "text": [
      "('Flyaway', 0)\n",
      "('High for This', 0)\n",
      "('Might Not', 0)\n",
      "('Nonchalant', 0)\n",
      "('Starboy', 0)\n",
      "('What You Need', 0)\n",
      "('10AM/Save The World (feat. Gucci Mane)', 1)\n",
      "('Lesbian (feat. Gunna & Young Thug)', 1)\n",
      "('Only 1 (Interlude) (with Travis Scott)', 1)\n",
      "('Up To Something (feat. Travis Scott & Young Thug)', 1)\n"
     ]
    }
   ],
   "source": [
    "largest = heapq.nsmallest(10, songs_under_5)\n",
    "largest = [(key, value) for value, key in largest]\n",
    "for song in largest:\n",
    "    print(song)"
   ]
  },
  {
   "cell_type": "code",
   "execution_count": 9,
   "metadata": {},
   "outputs": [
    {
     "name": "stdout",
     "output_type": "stream",
     "text": [
      "('88GLAM2', '1BgPkFMgud3lmEc6enZsjd')\n",
      "('Double Or Nothing (& Metro Boomin)', '0llyIxX3nDC3hobbGibVZl')\n",
      "('88GLAM2.5', '6JhWUtJleBE134LiNWq2a6')\n",
      "('Sundae Sauuce Presents: Almond Milk', '2Qd2TfE00xkdUApNHxZUmi')\n",
      "('Flyaway', '3goUmifjElC4pUPQMdLRH7')\n",
      "('Gucci Gang', '6UI0o8rDZZ8ZHEG0shGjZB')\n",
      "('End Credits', '5bbk7Mo2OiD6q5Bb52DIkC')\n",
      "('Viva Hate [2011 - Remaster] (2011 Remastered Version)', '6t4LdKTNWIOr2PZIB8tiZF')\n",
      "('Hoodie SZN', '3r5hf3Cj3EMh1C2saQ8jyt')\n",
      "('Sanguine Paradise', '49K82qcZN4u109e6Zw8io1')\n"
     ]
    }
   ],
   "source": [
    "count = 0\n",
    "for item in album_ids:\n",
    "    if (count < 10):\n",
    "        print(item)\n",
    "        count += 1\n",
    "    else:\n",
    "        break"
   ]
  },
  {
   "cell_type": "code",
   "execution_count": 10,
   "metadata": {},
   "outputs": [],
   "source": [
    "from __future__ import division\n",
    "\n",
    "def get_top_music(type=\"artists\", limit=20, time_range=\"medium_term\", offset=\"0\", access_token=ACCESS_TOKEN):\n",
    "    url = \"https://api.spotify.com/v1/me/top/\"\n",
    "    if (type == \"artists\"):\n",
    "        url += \"artists\"\n",
    "    else:\n",
    "        url += \"tracks\"\n",
    "    \n",
    "    query_params = {\"limit\": str(limit), \"offset\": offset, \"time_range\": time_range}\n",
    "    headers = {'Authorization': \"Bearer {}\".format(access_token)}\n",
    "    \n",
    "    top_tracks_and_artists = requests.get(url=url, params=query_params, headers=headers)\n",
    "    parsed = json.loads(top_tracks_and_artists.text)\n",
    "    items = parsed['items']\n",
    "\n",
    "    top_music = []\n",
    "    \n",
    "    if (type == \"artists\"):\n",
    "        for i in range(len(items)):\n",
    "            top_music.append([\"Rank: {}\".format(str(i+1)), items[i]['name'], int(items[i]['followers']['total']), items[i]['images'][0]['url']])\n",
    "    else:\n",
    "        for i in range(len(items)):\n",
    "            current_item = items[i]\n",
    "            artists = current_item['artists']\n",
    "            current_album = current_item['album']\n",
    "            length_of_song = str((current_item['duration_ms'] // 1000) // 60) + \"m \" + str((current_item['duration_ms'] // 1000) % 60) + \"s\"\n",
    "            top_music.append([\"Rank: {}\".format(str(i+1)), current_item['name'], \n",
    "                               [artists[j]['name'] for j in range(len(artists))], \n",
    "                               current_album['name'], length_of_song, current_album['release_date'], current_item['uri']])\n",
    "    return top_music\n",
    "    "
   ]
  },
  {
   "cell_type": "code",
   "execution_count": 11,
   "metadata": {},
   "outputs": [],
   "source": [
    "def get_top_genres(artist_limit=50, genre_limit=10, time_range=\"medium_term\", offset=\"0\", access_token=ACCESS_TOKEN):\n",
    "    url = \"https://api.spotify.com/v1/me/top/artists\"\n",
    "    all_genres = {}\n",
    "    \n",
    "    query_params = {\"limit\": str(artist_limit), \"offset\": offset, \"time_range\": time_range}\n",
    "    headers = {'Authorization': \"Bearer {}\".format(access_token)}\n",
    "    \n",
    "    top_tracks_and_artists = requests.get(url=url, params=query_params, headers=headers)\n",
    "    parsed = json.loads(top_tracks_and_artists.text)\n",
    "    items = parsed['items']\n",
    "    \n",
    "    for i in range(len(items)):\n",
    "        genres = items[i]['genres']\n",
    "        for genre in genres:\n",
    "            if genre not in all_genres.keys():\n",
    "                all_genres[genre] = 1\n",
    "            else:\n",
    "                all_genres[genre] += 1\n",
    "                \n",
    "    heap = [[value, key.upper()] for key, value in all_genres.items()]\n",
    "    largest = heapq.nlargest(genre_limit, heap)\n",
    "        \n",
    "    return largest"
   ]
  },
  {
   "cell_type": "code",
   "execution_count": 12,
   "metadata": {},
   "outputs": [
    {
     "name": "stdout",
     "output_type": "stream",
     "text": [
      "['Rank: 1', 'Playboi Carti', 2575852, 'https://i.scdn.co/image/d3c4c2a06332c88e967387b38177d17d20e2331b']\n",
      "['Rank: 2', 'Travis Scott', 6224661, 'https://i.scdn.co/image/dc5eba5e032c2e5bc4d42c89d61ffee5875c981f']\n",
      "['Rank: 3', 'Chase Atlantic', 301601, 'https://i.scdn.co/image/8b9e716ede032187fb4a5b2b75d9c5cf2438c6e8']\n",
      "['Rank: 4', 'Drake', 39510162, 'https://i.scdn.co/image/012ecd119617ac24ab56620ace4b81735b172686']\n",
      "['Rank: 5', 'EDEN', 631126, 'https://i.scdn.co/image/e1c162227fc61a168b4f87d0bfff278771e546f0']\n",
      "['Rank: 6', 'Tory Lanez', 2423451, 'https://i.scdn.co/image/319b5b30148cb0614be70f115b272afc18ea69c7']\n",
      "['Rank: 7', 'Trippie Redd', 3281432, 'https://i.scdn.co/image/18d243ea2cd23ad420c1afc8c6bb9f92e8fa5885']\n",
      "['Rank: 8', 'NAV', 1502417, 'https://i.scdn.co/image/819c7e7c7126e367b35ff23e0653b1779069128f']\n",
      "['Rank: 9', 'Khalid', 7790538, 'https://i.scdn.co/image/e52c824585bfeef4d674b509437120805300f557']\n",
      "['Rank: 10', 'The Weeknd', 16760979, 'https://i.scdn.co/image/a5fa0d35a5070867261d100b879cac028fe96775']\n",
      "['Rank: 11', 'Pi’erre Bourne', 90238, 'https://i.scdn.co/image/52492b2ebf7587a21678f6aa3cb8ff5428391235']\n",
      "['Rank: 12', 'sucretheactivist', 341, 'https://i.scdn.co/image/d484adae91bc9d230890abe02431ade6bb112106']\n",
      "['Rank: 13', 'WILLOW', 481531, 'https://i.scdn.co/image/09a320c87e69ced87bb1b0989e9131a10a1066f2']\n",
      "['Rank: 14', 'Ed Sheeran', 48895509, 'https://i.scdn.co/image/f55cab0739390cf3b2c2f773b9c779b2f0ae8a99']\n",
      "['Rank: 15', 'Future', 7959764, 'https://i.scdn.co/image/d5ac5dc59664cf7c64795271602316dde494a6d1']\n"
     ]
    }
   ],
   "source": [
    "for artist in get_top_music(type=\"artists\", limit=15, time_range=\"short_term\"):\n",
    "    print(artist)"
   ]
  },
  {
   "cell_type": "code",
   "execution_count": 13,
   "metadata": {},
   "outputs": [
    {
     "name": "stdout",
     "output_type": "stream",
     "text": [
      "Rank: 1 the ends | Birds In The Trap Sing McKnight\n",
      "Rank: 2 through the late night | Birds In The Trap Sing McKnight\n",
      "Rank: 3 Caught Up (feat. Khalid) | Caught Up (feat. Khalid)\n",
      "Rank: 4 Long Time - Intro | Die Lit\n",
      "Rank: 5 Yah Mean | Playboi Carti\n",
      "Rank: 6 They Afraid Of You | !\n",
      "Rank: 7 way back | Birds In The Trap Sing McKnight\n",
      "Rank: 8 Try Again | The Life Of Pi'erre 4\n",
      "Rank: 9 HEAVEN AND BACK | PHASES\n",
      "Rank: 10 STUCKINMYBRAIN | PHASES\n",
      "Rank: 11 In the End | In the End\n",
      "Rank: 12 Foreign | Die Lit\n",
      "Rank: 13 No Time (feat. Gunna) | Die Lit\n",
      "Rank: 14 Summertime In Paris | ERYS (Deluxe)\n",
      "Rank: 15 FlatBed Freestyle | Die Lit\n",
      "Rank: 16 HER | PHASES\n",
      "Rank: 17 Female Energy, Part 2 | WILLOW\n",
      "Rank: 18 Baguettes in the Face (feat. NAV, Playboi Carti & A Boogie Wit da Hoodie) | Perfect Ten\n",
      "Rank: 19 sdp interlude | Birds In The Trap Sing McKnight\n",
      "Rank: 20 Days in The East | Care Package\n",
      "Rank: 21 Why DON'T You LOVE me? | LoVE me NOw (ReLoAdeD)\n",
      "Rank: 22 Lean 4 Real (feat. Skepta) | Die Lit\n",
      "Rank: 23 Circles | i think you think too much of me\n",
      "Rank: 24 U Say (feat. 6LACK) | U Say (feat. 6LACK)\n",
      "Rank: 25 Wait a Minute! | ARDIPITHECUS\n",
      "Rank: 26 Mileage (feat. Chief Keef) | Die Lit\n",
      "Rank: 27 Little Lies | Analogue\n",
      "Rank: 28 CYANIDE | CASE STUDY 01\n",
      "Rank: 29 sweet sweet | Birds In The Trap Sing McKnight\n",
      "Rank: 30 Snake Skin | !\n",
      "Rank: 31 Location | Playboi Carti\n",
      "Rank: 32 Pups (feat. A$AP Rocky) | Pups (feat. A$AP Rocky)\n",
      "Rank: 33 R.I.P. | Die Lit\n",
      "Rank: 34 Here With Me | Here With Me\n",
      "Rank: 35 Hundred | Free Spirit\n",
      "Rank: 36 R.I.P. Fredo (feat. Young Nudy) - Notice Me | Die Lit\n",
      "Rank: 37 Trust Issues | Care Package\n",
      "Rank: 38 Snow Globe (feat. NAV) - Remix | 88GLAM2.5\n",
      "Rank: 39 Home (KOD) | Die Lit\n",
      "Rank: 40 beibs in the trap | Birds In The Trap Sing McKnight\n",
      "Rank: 41 rock + roll | i think you think too much of me\n",
      "Rank: 42 My Jinji | JINJI KIKKO\n",
      "Rank: 43 Fell In Luv (feat. Bryson Tiller) | Die Lit\n",
      "Rank: 44 Snap | Bad Habits (Deluxe)\n",
      "Rank: 45 Chamber Of Reflection | Salad Days\n",
      "Rank: 46 Broke Leg (with Quavo & Tyga) | Broke Leg (with Quavo & Tyga)\n",
      "Rank: 47 It's You | It's You\n",
      "Rank: 48 Motorcycle Patches | Huncho Jack, Jack Huncho\n",
      "Rank: 49 In Your Atmosphere - Live at the Nokia Theatre, Los Angeles, CA - December 2007 | Where the Light Is: John Mayer Live In Los Angeles\n",
      "Rank: 50 Antisocial (with Travis Scott) | No.6 Collaborations Project\n"
     ]
    }
   ],
   "source": [
    "for track in get_top_music(type=\"tracks\", limit=50, time_range=\"short_term\"):\n",
    "    print(track[0], track[1], \"|\", track[3])"
   ]
  },
  {
   "cell_type": "code",
   "execution_count": 14,
   "metadata": {},
   "outputs": [
    {
     "name": "stdout",
     "output_type": "stream",
     "text": [
      "[39, 'RAP']\n",
      "[28, 'POP RAP']\n",
      "[28, 'POP']\n",
      "[26, 'TRAP MUSIC']\n",
      "[21, 'HIP HOP']\n",
      "[11, 'SOUTHERN HIP HOP']\n",
      "[9, 'ATL HIP HOP']\n",
      "[7, 'R&B']\n",
      "[6, 'CANADIAN HIP HOP']\n",
      "[4, 'UNDERGROUND HIP HOP']\n",
      "[4, 'TORONTO RAP']\n",
      "[3, 'VAPOR TRAP']\n",
      "[3, 'TRAP SOUL']\n",
      "[3, 'CONSCIOUS HIP HOP']\n",
      "[3, 'CHICAGO RAP']\n"
     ]
    }
   ],
   "source": [
    "for genre in get_top_genres(genre_limit=15, time_range=\"long_term\"):\n",
    "    print(genre)"
   ]
  },
  {
   "cell_type": "code",
   "execution_count": 15,
   "metadata": {},
   "outputs": [
    {
     "data": {
      "text/plain": [
       "True"
      ]
     },
     "execution_count": 15,
     "metadata": {},
     "output_type": "execute_result"
    }
   ],
   "source": [
    "user_id = \"deeaw2ybwljjvzzv7sftosnqi\"\n",
    "playlists_url = \"https://api.spotify.com/v1/users/{}/playlists\".format(user_id)\n",
    "\n",
    "body_params = {\"name\": \"code\", \"public\": \"true\", \"collaborative\": \"false\", \"description\": \"finally, a playlist with songs you never have to skip\"}\n",
    "header_fields = {'Authorization': \"Bearer {}\".format(ACCESS_TOKEN), \"Content-Type\": \"application/json\"}\n",
    "\n",
    "new_playlist = requests.post(playlists_url, data=json.dumps(body_params), headers=header_fields)\n",
    "new_playlist.ok"
   ]
  },
  {
   "cell_type": "code",
   "execution_count": 31,
   "metadata": {},
   "outputs": [
    {
     "name": "stdout",
     "output_type": "stream",
     "text": [
      "['spotify:track:6tarvNiKnEjYMj1VZhlDqR', 'spotify:track:3yk7PJnryiJ8mAPqsrujzf', 'spotify:track:4mIXmsA9lwT7sk8rkrnEFE', 'spotify:track:23QyE9GQpXsX9WgEDADMa6', 'spotify:track:0PDwNx6GrHc5sRVy6Hc7GP', 'spotify:track:4Rs00gcMnDVfivMHXdiHHc', 'spotify:track:5nayhWICkQGMTkisxVMbRw', 'spotify:track:6j97zG4DDrh3oUa6rZbFOs', 'spotify:track:45Ln3F9PRPYTXBcMFkZMzS', 'spotify:track:4IO2X2YoXoUMv0M2rwomLC', 'spotify:track:1szHbOKRPnDuJyxO50lxlt', 'spotify:track:2xRyZfWe9bnRfH1ZfhYO98', 'spotify:track:1CFbMhxQjCT3OH3YLvBkNF', 'spotify:track:5icOoE6VgqFKohjWWNp0Ac', 'spotify:track:1E6DEDWDKHoOW0fcFuDghV', 'spotify:track:09oZ9eXQ2fo6YDrPzJqAoP', 'spotify:track:6XNANAB7sFvkfho6bMCp7o', 'spotify:track:4hqOmrCCJKyiuwDexd8c2t', 'spotify:track:2zjGJ0dChMR0KxBZS15aqo', 'spotify:track:7MQSCfyXsbyNQJljLbM4od', 'spotify:track:0O6jl8Zamz6TGF0nUwMQsF', 'spotify:track:33zbOXJSwW7uf4VXXWow2O', 'spotify:track:0Jcij1eWd5bDMU5iPbxe2i', 'spotify:track:3XiNC94b4Tq1xwv70sQJGN', 'spotify:track:0NJp8GyCOWnQh71xKSPfuV', 'spotify:track:7g7raxdQpiLZT7aOlib4S1', 'spotify:track:5pHJv0bgNsT9nPoK2BjNBn', 'spotify:track:6bMIExEulvwM2X6zsuiYwr', 'spotify:track:0HEckRWFSknIupbGzavk5d', 'spotify:track:4kUZvXB3LC3an3HX6h0s17', 'spotify:track:7DcvwMAiqKJQD1rrdfxSDx', 'spotify:track:4at3d5QWnlibMVN75ECDrp', 'spotify:track:1Ci4wASMY4xtKVMeHA6Sd5', 'spotify:track:4cQrSREMqBSvJ8ZzBZjVb8', 'spotify:track:5WJdUrZ4ND1TCZ2AsjYK3P', 'spotify:track:3uouaAVXpQR3X8RYkJyitQ', 'spotify:track:3L0IKstjUgDFVQAbQIRZRv', 'spotify:track:500l6Cwe40hkPqS7Sf7ufY', 'spotify:track:6moU77g9RQyMzHNuKEaQKq', 'spotify:track:0BDDB65zAWJ1nQYyIgnZcj', 'spotify:track:1UAmQe8EwpxQ80OfYVD13z', 'spotify:track:1opARDDYaOeE1QUdwXmBGu', 'spotify:track:5MUxrNd7Gr2HksLcAlB0IO', 'spotify:track:3DS5BKVLatgjEMYKqLxCFY', 'spotify:track:1oNcc2isuz7d3hc1fMoHqj', 'spotify:track:5i7g9wTIruXgWKvA83BXlk', 'spotify:track:1ThmUihH9dF8EV08ku5AXN', 'spotify:track:51EC3I1nQXpec4gDk0mQyP', 'spotify:track:4MXhiYIRDMGAuvZc5IFTwC', 'spotify:track:7gnRQXtiNVdfP90ZNDyXK4', 'spotify:track:4gh0ZnHzaTMT1sDga7Ek0N', 'spotify:track:3stWWPN41byqp8loPdy92u', 'spotify:track:5dewQ7ojISR32NAYNHFYWC', 'spotify:track:5wPyd3IQAZft1vmxoIqGrU', 'spotify:track:3K6U7TamNyVSWcFH8pCQHX', 'spotify:track:1s9DTymg5UQrdorZf43JQm', 'spotify:track:39bs2V8huzcmWoeSlHKZeP', 'spotify:track:0EUSbTvyZfo9QOcxunL9Ro', 'spotify:track:4mj4tLQRctxLPo67UWXy5C', 'spotify:track:22ykS8KWpd2r4zcRZ0XMK5', 'spotify:track:5CMUThHlepHR8c1xD0QYzs', 'spotify:track:3FUP0gYxsivCHzWzu8uUGw', 'spotify:track:2Zy7XVdxyZQB8xp5xbpJdl', 'spotify:track:5FxVTEpoBress37MmlMhbZ', 'spotify:track:7FEwp8BavoEVE3AnxJDchc', 'spotify:track:4y38UExfSH97v6mz5Ii9am', 'spotify:track:5LjxNnCrGVaUKvJ3RxsBqy', 'spotify:track:6kIh5c8x8vzOe6OKW1X59U', 'spotify:track:5O9zs6G6RcB6yP1OKwnwiM', 'spotify:track:4VOUXdkDN3USHfEtBjCUPS', 'spotify:track:1MJ5f5EYBC92ADD6xcz7nb', 'spotify:track:1oJ8EDr2pv94IvSd6ZmDgo', 'spotify:track:1BZdJrCYel0jMNmKY8KkUD', 'spotify:track:1jzIJcHCXneHw7ojC6LXiF', 'spotify:track:3ishRxjsqYVk6FdAGeeUAP', 'spotify:track:6LyAwkJsHlW7RQ8S1cYAtM', 'spotify:track:6Zisja44KqMZj4GM4UY6Yv', 'spotify:track:1AROE0XcC4ySCxXF65mutZ', 'spotify:track:3HVWdVOQ0ZA45FuZGSfvns', 'spotify:track:6gIPjfVx0TRu7OQYgGAS9M', 'spotify:track:7wBJfHzpfI3032CSD7CE2m', 'spotify:track:0Z1nbG2KOuRKntstSAkSox', 'spotify:track:0y60itmpH0aPKsFiGxmtnh', 'spotify:track:6JyEh4kl9DLwmSAoNDRn5b', 'spotify:track:0Mf6WhWLfOpzOxacvbcboj', 'spotify:track:543bCW2ruMPmxUBWirQ3MR', 'spotify:track:2vsuel3g4zaLYSOY0mOMbi', 'spotify:track:0W95eMaAxNVYTquOsXXkC5', 'spotify:track:6WSBZroxQaO3FYEpT2ACFH', 'spotify:track:5h9hkYIBWTZYFRmF6Iz1gt', 'spotify:track:0syXbGoFZbTMXm8hGCEvW0', 'spotify:track:1KzNsOkpQthVwpCJrADJEQ', 'spotify:track:43sFC2c3ssdwVwTp3DXPhD', 'spotify:track:5hVghJ4KaYES3BFUATCYn0', 'spotify:track:75ls0gurX68lUmMjE7QcsE', 'spotify:track:5cjsgbZ8tZYD4f0LNpApnf', 'spotify:track:6V3cdH8lpwPxeS9SakKg60', 'spotify:track:1Bta6k7sXqUJfebYppG7Mq', 'spotify:track:1JgkiUg9mSXSwcb5Gbi4Ur']\n"
     ]
    }
   ],
   "source": [
    "parsed = json.loads(new_playlist.text)\n",
    "playlist_id = parsed['id']\n",
    "update_playlist_url = \"https://api.spotify.com/v1/playlists/{}/tracks\".format(playlist_id)\n",
    "\n",
    "top_tracks = get_top_music(type=\"tracks\", limit=50, offset=\"0\", time_range=\"medium_term\")\n",
    "top_tracks.pop()\n",
    "top_tracks.extend(get_top_music(type=\"tracks\", limit=50, offset=\"49\", time_range=\"medium_term\"))\n",
    "\n",
    "uris = [track[6] for track in top_tracks]\n",
    "\n",
    "body_params = {\"uris\": uris}\n",
    "header_fields = {'Authorization': \"Bearer {}\".format(ACCESS_TOKEN), \"Content-Type\": \"application/json\"}\n",
    "\n",
    "updated_playlist = requests.post(update_playlist_url, data=json.dumps(body_params), headers=header_fields)\n",
    "updated_playlist.ok"
   ]
  },
  {
   "cell_type": "code",
   "execution_count": 20,
   "metadata": {},
   "outputs": [],
   "source": [
    "def create_ids_string(tracks):\n",
    "    ids = \"\" \n",
    "    for track in top_tracks:\n",
    "        ids += track[6][14:]\n",
    "        ids += \",\"\n",
    "    return ids[:-1]\n",
    "\n",
    "audio_features_url = \"https://api.spotify.com/v1/audio-features\"\n",
    "\n",
    "top_tracks = get_top_music(type=\"tracks\", limit=50, offset=\"0\", time_range=\"short_term\")\n",
    "top_tracks.pop()\n",
    "top_tracks.extend(get_top_music(type=\"tracks\", limit=50, offset=\"49\", time_range=\"short_term\"))\n",
    "\n",
    "ids = create_ids_string(top_tracks)\n",
    "\n",
    "body_params = {\"ids\": ids}\n",
    "header_fields = {'Authorization': \"Bearer {}\".format(ACCESS_TOKEN)}\n",
    "\n",
    "top_songs_audio_features = requests.get(audio_features_url, params=body_params, headers=header_fields)\n",
    "\n",
    "parsed = json.loads(top_songs_audio_features.text)\n",
    "song_features = parsed['audio_features']"
   ]
  },
  {
   "cell_type": "code",
   "execution_count": 21,
   "metadata": {},
   "outputs": [],
   "source": [
    "songs_and_energies = {}\n",
    "\n",
    "for song in song_features:\n",
    "    song_url = \"https://api.spotify.com/v1/tracks/{}\".format(song['id'])\n",
    "    body_params = {\"id\": song['id']}\n",
    "    header_fields = {'Authorization': \"Bearer {}\".format(ACCESS_TOKEN)}\n",
    "    song_object = requests.get(song_url, params=body_params, headers=header_fields)\n",
    "    parsed_song = json.loads(song_object.text)\n",
    "    song_key = ((parsed_song['name'], parsed_song['album']['name']), parsed_song['uri'])\n",
    "    \n",
    "    songs_and_energies[song_key] = song['danceability']"
   ]
  },
  {
   "cell_type": "code",
   "execution_count": 26,
   "metadata": {},
   "outputs": [
    {
     "name": "stdout",
     "output_type": "stream",
     "text": [
      "Freaky | 0.966\n",
      "No Time (feat. Gunna) | 0.943\n",
      "Faucet Failure | 0.935\n",
      "R.I.P. Fredo (feat. Young Nudy) - Notice Me | 0.912\n",
      "neon | 0.907\n",
      "Baguettes in the Face (feat. NAV, Playboi Carti & A Boogie Wit da Hoodie) | 0.883\n",
      "Motorcycle Patches | 0.87\n",
      "Jumpman | 0.852\n",
      "Broke Leg (with Quavo & Tyga) | 0.851\n",
      "10 Bands | 0.835\n",
      "Interstate 10 (feat. Future) | 0.83\n",
      "FeRRis WhEEL (feat. Trippie Redd) | 0.807\n",
      "The London (feat. J. Cole & Travis Scott) | 0.796\n",
      "Here With Me | 0.791\n",
      "Yah Mean | 0.776\n",
      "Hundred | 0.772\n",
      "Snap | 0.766\n",
      "Safe Freestyle | 0.764\n",
      "Foreign | 0.762\n",
      "Hot Girl | 0.761\n",
      "outside | 0.758\n",
      "Wait a Minute! | 0.757\n",
      "FlatBed Freestyle | 0.755\n",
      "Lean 4 Real (feat. Skepta) | 0.754\n",
      "through the late night | 0.744\n",
      "beibs in the trap | 0.743\n",
      "Mileage (feat. Chief Keef) | 0.742\n",
      "sweet sweet | 0.733\n",
      "Days in The East | 0.733\n",
      "It's You | 0.732\n",
      "Outta My Head (with John Mayer) | 0.729\n",
      "Cudi Montage | 0.729\n",
      "R.I.P. | 0.725\n",
      "Love Hurts (feat. Travis Scott) | 0.724\n",
      "Home (KOD) | 0.722\n",
      "Location | 0.717\n",
      "Old Money | 0.716\n",
      "Antisocial (with Travis Scott) | 0.715\n",
      "pick up the phone | 0.711\n",
      "In the End | 0.71\n",
      "HER | 0.706\n",
      "Snow Globe (feat. NAV) - Remix | 0.705\n",
      "ASTROTHUNDER | 0.7\n",
      "Let It Go | 0.685\n",
      "Santeria | 0.682\n",
      "Caught Up (feat. Khalid) | 0.678\n",
      "Who Do You Love? | 0.676\n",
      "Don't Matter to Me | 0.676\n",
      "Dreamcatcher (feat. Swae Lee & Travis Scott) | 0.675\n",
      "Snake Skin | 0.669\n"
     ]
    }
   ],
   "source": [
    "heap = [[value, key] for key, value in songs_and_energies.items()]\n",
    "danciest_songs = heapq.nlargest(50, heap)\n",
    "track_uris = []\n",
    "\n",
    "for song in danciest_songs:\n",
    "    print(song[1][0][0], \"|\", song[0])\n",
    "    track_uris.append(song[1][1])"
   ]
  },
  {
   "cell_type": "code",
   "execution_count": 32,
   "metadata": {},
   "outputs": [],
   "source": [
    "def create_playlist_with_tracks(playlist_name, description, track_uris, \n",
    "                                user_id=\"deeaw2ybwljjvzzv7sftosnqi\", access_token=ACCESS_TOKEN):\n",
    "    playlists_url = \"https://api.spotify.com/v1/users/{}/playlists\".format(user_id)\n",
    "\n",
    "    body_params = {\"name\": playlist_name, \"public\": \"true\", \"collaborative\": \"false\", \"description\": description}\n",
    "    header_fields = {'Authorization': \"Bearer {}\".format(access_token), \"Content-Type\": \"application/json\"}\n",
    "\n",
    "    new_playlist = requests.post(playlists_url, data=json.dumps(body_params), headers=header_fields)\n",
    "    assert(new_playlist.ok)\n",
    "    \n",
    "    parsed = json.loads(new_playlist.text)\n",
    "    playlist_id = parsed['id']\n",
    "    update_playlist_url = \"https://api.spotify.com/v1/playlists/{}/tracks\".format(playlist_id)\n",
    "    \n",
    "    new_body_params = {\"uris\": track_uris}\n",
    "    new_header_fields = {'Authorization': \"Bearer {}\".format(access_token), \"Content-Type\": \"application/json\"}\n",
    "    updated_playlist = requests.post(update_playlist_url, data=json.dumps(new_body_params), headers=new_header_fields)\n",
    "    \n",
    "    return updated_playlist.ok"
   ]
  },
  {
   "cell_type": "code",
   "execution_count": 33,
   "metadata": {},
   "outputs": [
    {
     "data": {
      "text/plain": [
       "True"
      ]
     },
     "execution_count": 33,
     "metadata": {},
     "output_type": "execute_result"
    }
   ],
   "source": [
    "create_playlist_with_tracks(\"yuh\", \"three letters\", track_uris)"
   ]
  },
  {
   "cell_type": "code",
   "execution_count": null,
   "metadata": {},
   "outputs": [],
   "source": []
  }
 ],
 "metadata": {
  "kernelspec": {
   "display_name": "Python 3",
   "language": "python",
   "name": "python3"
  },
  "language_info": {
   "codemirror_mode": {
    "name": "ipython",
    "version": 3
   },
   "file_extension": ".py",
   "mimetype": "text/x-python",
   "name": "python",
   "nbconvert_exporter": "python",
   "pygments_lexer": "ipython3",
   "version": "3.7.0"
  }
 },
 "nbformat": 4,
 "nbformat_minor": 2
}
